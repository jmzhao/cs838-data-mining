{
 "cells": [
  {
   "cell_type": "markdown",
   "metadata": {
    "deletable": true,
    "editable": true
   },
   "source": [
    "# Stage 3 - Entity Mathcing "
   ]
  },
  {
   "cell_type": "code",
   "execution_count": 1,
   "metadata": {
    "collapsed": false,
    "deletable": true,
    "editable": true
   },
   "outputs": [],
   "source": [
    "import pandas as pd\n",
    "import py_entitymatching as em"
   ]
  },
  {
   "cell_type": "markdown",
   "metadata": {
    "deletable": true,
    "editable": true
   },
   "source": [
    "## 1. Data\n",
    "\n",
    "The type of entity we want to match is company. The two tables are Forbes lists crawled from [Forbes](http://forbes.com/) and NASDAQ company information downloaded from [NASDAQ](http://www.nasdaq.com/). See detailed information about our data below."
   ]
  },
  {
   "cell_type": "code",
   "execution_count": 2,
   "metadata": {
    "collapsed": true,
    "deletable": true,
    "editable": true
   },
   "outputs": [],
   "source": [
    "data_dir = './dataset/structured_data/'"
   ]
  },
  {
   "cell_type": "markdown",
   "metadata": {
    "deletable": true,
    "editable": true
   },
   "source": [
    "### 1.1 Forbes data\n",
    "\n",
    "We collected company information from multiple ranking lists from Forbes website. The total tuples within this company infomation list is 3,110.\n",
    "\n",
    "The attributes used in this list are: company name, country, industry, sales, profits, assets, market value, employee number."
   ]
  },
  {
   "cell_type": "code",
   "execution_count": 3,
   "metadata": {
    "collapsed": false,
    "deletable": true,
    "editable": true
   },
   "outputs": [
    {
     "name": "stdout",
     "output_type": "stream",
     "text": [
      "# tuples: 3110\n"
     ]
    }
   ],
   "source": [
    "forbes_filename = 'forbes_all.csv'\n",
    "forbes_df = pd.read_csv(open(data_dir + forbes_filename, encoding = \"ISO-8859-1\"))\n",
    "print(\"# tuples:\", len(forbes_df))"
   ]
  },
  {
   "cell_type": "markdown",
   "metadata": {
    "deletable": true,
    "editable": true
   },
   "source": [
    "Here is some sample tuples."
   ]
  },
  {
   "cell_type": "code",
   "execution_count": 4,
   "metadata": {
    "collapsed": false,
    "deletable": true,
    "editable": true
   },
   "outputs": [
    {
     "data": {
      "text/html": [
       "<div>\n",
       "<table border=\"1\" class=\"dataframe\">\n",
       "  <thead>\n",
       "    <tr style=\"text-align: right;\">\n",
       "      <th></th>\n",
       "      <th>id</th>\n",
       "      <th>Company</th>\n",
       "      <th>Country</th>\n",
       "      <th>Industry</th>\n",
       "      <th>Sales (M)</th>\n",
       "      <th>Profits (M)</th>\n",
       "      <th>Assets (M)</th>\n",
       "      <th>Market Value (M)</th>\n",
       "      <th>Employee</th>\n",
       "    </tr>\n",
       "  </thead>\n",
       "  <tbody>\n",
       "    <tr>\n",
       "      <th>0</th>\n",
       "      <td>1</td>\n",
       "      <td>77 Bank</td>\n",
       "      <td>Japan</td>\n",
       "      <td>Banks</td>\n",
       "      <td>853</td>\n",
       "      <td>165</td>\n",
       "      <td>69100</td>\n",
       "      <td>1400</td>\n",
       "      <td>-</td>\n",
       "    </tr>\n",
       "    <tr>\n",
       "      <th>1</th>\n",
       "      <td>2</td>\n",
       "      <td>Abu Dhabi Commercial Bank</td>\n",
       "      <td>United Arab Emirates</td>\n",
       "      <td>Banks</td>\n",
       "      <td>2800</td>\n",
       "      <td>1300</td>\n",
       "      <td>62100</td>\n",
       "      <td>11000</td>\n",
       "      <td>-</td>\n",
       "    </tr>\n",
       "    <tr>\n",
       "      <th>2</th>\n",
       "      <td>3</td>\n",
       "      <td>Abu Dhabi Islamic Bank</td>\n",
       "      <td>United Arab Emirates</td>\n",
       "      <td>Banks</td>\n",
       "      <td>1600</td>\n",
       "      <td>434</td>\n",
       "      <td>24300</td>\n",
       "      <td>3800</td>\n",
       "      <td>-</td>\n",
       "    </tr>\n",
       "    <tr>\n",
       "      <th>3</th>\n",
       "      <td>4</td>\n",
       "      <td>Agricultural Bank of China</td>\n",
       "      <td>China</td>\n",
       "      <td>Banks</td>\n",
       "      <td>131900</td>\n",
       "      <td>28800</td>\n",
       "      <td>2739800</td>\n",
       "      <td>152700</td>\n",
       "      <td>-</td>\n",
       "    </tr>\n",
       "    <tr>\n",
       "      <th>4</th>\n",
       "      <td>5</td>\n",
       "      <td>Ahli United Bank</td>\n",
       "      <td>Bahrain</td>\n",
       "      <td>Banks</td>\n",
       "      <td>1400</td>\n",
       "      <td>524</td>\n",
       "      <td>34000</td>\n",
       "      <td>4200</td>\n",
       "      <td>-</td>\n",
       "    </tr>\n",
       "  </tbody>\n",
       "</table>\n",
       "</div>"
      ],
      "text/plain": [
       "   id                     Company               Country Industry Sales (M)  \\\n",
       "0   1                     77 Bank                 Japan    Banks       853   \n",
       "1   2   Abu Dhabi Commercial Bank  United Arab Emirates    Banks      2800   \n",
       "2   3      Abu Dhabi Islamic Bank  United Arab Emirates    Banks      1600   \n",
       "3   4  Agricultural Bank of China                 China    Banks    131900   \n",
       "4   5            Ahli United Bank               Bahrain    Banks      1400   \n",
       "\n",
       "  Profits (M) Assets (M) Market Value (M) Employee  \n",
       "0         165      69100             1400        -  \n",
       "1        1300      62100            11000        -  \n",
       "2         434      24300             3800        -  \n",
       "3       28800    2739800           152700        -  \n",
       "4         524      34000             4200        -  "
      ]
     },
     "execution_count": 4,
     "metadata": {},
     "output_type": "execute_result"
    }
   ],
   "source": [
    "forbes_df[:5]"
   ]
  },
  {
   "cell_type": "markdown",
   "metadata": {
    "deletable": true,
    "editable": true
   },
   "source": [
    "### NASDAQ data\n",
    "\n",
    "We collected company stock information from NASDAQ websites. The total number of tuples found is 4,714. Attributes used in this list are:\n",
    "symbol, name, lastsale, marketcap, country, IPOyear, sector, industry, summary quote."
   ]
  },
  {
   "cell_type": "code",
   "execution_count": 5,
   "metadata": {
    "collapsed": false,
    "deletable": true,
    "editable": true
   },
   "outputs": [
    {
     "name": "stdout",
     "output_type": "stream",
     "text": [
      "# tuples: 4714\n"
     ]
    }
   ],
   "source": [
    "nasdaq_filename = 'nasdaq.csv'\n",
    "nasdaq_df = pd.read_csv(data_dir + nasdaq_filename)\n",
    "print(\"# tuples:\", len(nasdaq_df))"
   ]
  },
  {
   "cell_type": "markdown",
   "metadata": {
    "deletable": true,
    "editable": true
   },
   "source": [
    "Here is some sample tuples."
   ]
  },
  {
   "cell_type": "code",
   "execution_count": 6,
   "metadata": {
    "collapsed": false,
    "deletable": true,
    "editable": true
   },
   "outputs": [
    {
     "data": {
      "text/html": [
       "<div>\n",
       "<table border=\"1\" class=\"dataframe\">\n",
       "  <thead>\n",
       "    <tr style=\"text-align: right;\">\n",
       "      <th></th>\n",
       "      <th>id</th>\n",
       "      <th>Symbol</th>\n",
       "      <th>Name</th>\n",
       "      <th>LastSale</th>\n",
       "      <th>MarketCap</th>\n",
       "      <th>Country</th>\n",
       "      <th>IPOyear</th>\n",
       "      <th>Sector</th>\n",
       "      <th>Industry</th>\n",
       "      <th>Summary Quote</th>\n",
       "    </tr>\n",
       "  </thead>\n",
       "  <tbody>\n",
       "    <tr>\n",
       "      <th>0</th>\n",
       "      <td>1</td>\n",
       "      <td>FLWS</td>\n",
       "      <td>1-800 FLOWERS.COM, Inc.</td>\n",
       "      <td>10.15</td>\n",
       "      <td>665.525939</td>\n",
       "      <td>United States</td>\n",
       "      <td>1999</td>\n",
       "      <td>Consumer Services</td>\n",
       "      <td>Other Specialty Stores</td>\n",
       "      <td>http://www.nasdaq.com/symbol/flws</td>\n",
       "    </tr>\n",
       "    <tr>\n",
       "      <th>1</th>\n",
       "      <td>2</td>\n",
       "      <td>PIH</td>\n",
       "      <td>1347 Property Insurance Holdings, Inc.</td>\n",
       "      <td>8.20</td>\n",
       "      <td>48.845481</td>\n",
       "      <td>United States</td>\n",
       "      <td>2014</td>\n",
       "      <td>Finance</td>\n",
       "      <td>Property-Casualty Insurers</td>\n",
       "      <td>http://www.nasdaq.com/symbol/pih</td>\n",
       "    </tr>\n",
       "    <tr>\n",
       "      <th>2</th>\n",
       "      <td>3</td>\n",
       "      <td>TURN</td>\n",
       "      <td>180 Degree Capital Corp.</td>\n",
       "      <td>1.45</td>\n",
       "      <td>44.811103</td>\n",
       "      <td>United States</td>\n",
       "      <td>n/a</td>\n",
       "      <td>Finance</td>\n",
       "      <td>Finance/Investors Services</td>\n",
       "      <td>http://www.nasdaq.com/symbol/turn</td>\n",
       "    </tr>\n",
       "    <tr>\n",
       "      <th>3</th>\n",
       "      <td>4</td>\n",
       "      <td>FCCY</td>\n",
       "      <td>1st Constitution Bancorp (NJ)</td>\n",
       "      <td>18.50</td>\n",
       "      <td>148.505827</td>\n",
       "      <td>United States</td>\n",
       "      <td>n/a</td>\n",
       "      <td>Finance</td>\n",
       "      <td>Savings Institutions</td>\n",
       "      <td>http://www.nasdaq.com/symbol/fccy</td>\n",
       "    </tr>\n",
       "    <tr>\n",
       "      <th>4</th>\n",
       "      <td>5</td>\n",
       "      <td>SRCE</td>\n",
       "      <td>1st Source Corporation</td>\n",
       "      <td>46.95</td>\n",
       "      <td>1262.613016</td>\n",
       "      <td>United States</td>\n",
       "      <td>n/a</td>\n",
       "      <td>Finance</td>\n",
       "      <td>Major Banks</td>\n",
       "      <td>http://www.nasdaq.com/symbol/srce</td>\n",
       "    </tr>\n",
       "  </tbody>\n",
       "</table>\n",
       "</div>"
      ],
      "text/plain": [
       "   id Symbol                                    Name  LastSale    MarketCap  \\\n",
       "0   1   FLWS                 1-800 FLOWERS.COM, Inc.     10.15   665.525939   \n",
       "1   2    PIH  1347 Property Insurance Holdings, Inc.      8.20    48.845481   \n",
       "2   3   TURN                180 Degree Capital Corp.      1.45    44.811103   \n",
       "3   4   FCCY           1st Constitution Bancorp (NJ)     18.50   148.505827   \n",
       "4   5   SRCE                  1st Source Corporation     46.95  1262.613016   \n",
       "\n",
       "         Country IPOyear             Sector                    Industry  \\\n",
       "0  United States    1999  Consumer Services      Other Specialty Stores   \n",
       "1  United States    2014            Finance  Property-Casualty Insurers   \n",
       "2  United States     n/a            Finance  Finance/Investors Services   \n",
       "3  United States     n/a            Finance        Savings Institutions   \n",
       "4  United States     n/a            Finance                 Major Banks   \n",
       "\n",
       "                       Summary Quote  \n",
       "0  http://www.nasdaq.com/symbol/flws  \n",
       "1   http://www.nasdaq.com/symbol/pih  \n",
       "2  http://www.nasdaq.com/symbol/turn  \n",
       "3  http://www.nasdaq.com/symbol/fccy  \n",
       "4  http://www.nasdaq.com/symbol/srce  "
      ]
     },
     "execution_count": 6,
     "metadata": {},
     "output_type": "execute_result"
    }
   ],
   "source": [
    "nasdaq_df[:5]"
   ]
  },
  {
   "cell_type": "markdown",
   "metadata": {
    "deletable": true,
    "editable": true
   },
   "source": [
    "We are to make use of the fields of name, industry, country and market value.\n",
    "For the market value attribute, we have market value in the Forbes list and market cap in the NASDAQ list. Even though there are different terms, usually they represents the value of each company and have similar values. Thus, we treat them as comparable attributes and use them all as market value."
   ]
  },
  {
   "cell_type": "code",
   "execution_count": 7,
   "metadata": {
    "collapsed": true,
    "deletable": true,
    "editable": true
   },
   "outputs": [],
   "source": [
    "all_fields = ['Name', 'Industry', 'MarketValue', 'Country']"
   ]
  },
  {
   "cell_type": "code",
   "execution_count": 8,
   "metadata": {
    "collapsed": false,
    "deletable": true,
    "editable": true
   },
   "outputs": [],
   "source": [
    "forbes = forbes_df.rename(columns={'Company':'Name', 'Market Value (M)':'MarketValue'})"
   ]
  },
  {
   "cell_type": "code",
   "execution_count": 9,
   "metadata": {
    "collapsed": false,
    "deletable": true,
    "editable": true
   },
   "outputs": [],
   "source": [
    "nasdaq = nasdaq_df.rename(columns={'industry':'Industry', 'MarketCap':'MarketValue'})"
   ]
  },
  {
   "cell_type": "markdown",
   "metadata": {
    "deletable": true,
    "editable": true
   },
   "source": [
    "## Sampling\n",
    "\n",
    "For the ease of exploration and developement."
   ]
  },
  {
   "cell_type": "code",
   "execution_count": 10,
   "metadata": {
    "collapsed": false,
    "deletable": true,
    "editable": true
   },
   "outputs": [],
   "source": [
    "nasdaq_sample = nasdaq[:200]\n",
    "nasdaq_sample.to_csv(data_dir + 'nasdaq_sample.csv')"
   ]
  },
  {
   "cell_type": "code",
   "execution_count": 11,
   "metadata": {
    "collapsed": false,
    "deletable": true,
    "editable": true
   },
   "outputs": [],
   "source": [
    "forbes_sample = forbes[:100]\n",
    "forbes_sample.to_csv(data_dir + 'forbes_sample.csv')"
   ]
  },
  {
   "cell_type": "code",
   "execution_count": null,
   "metadata": {
    "collapsed": true,
    "deletable": true,
    "editable": true
   },
   "outputs": [],
   "source": []
  }
 ],
 "metadata": {
  "kernelspec": {
   "display_name": "Python 3",
   "language": "python",
   "name": "python3"
  },
  "language_info": {
   "codemirror_mode": {
    "name": "ipython",
    "version": 3
   },
   "file_extension": ".py",
   "mimetype": "text/x-python",
   "name": "python",
   "nbconvert_exporter": "python",
   "pygments_lexer": "ipython3",
   "version": "3.5.3"
  }
 },
 "nbformat": 4,
 "nbformat_minor": 0
}
