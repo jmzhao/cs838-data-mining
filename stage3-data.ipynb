{
 "cells": [
  {
   "cell_type": "markdown",
   "metadata": {
    "deletable": true,
    "editable": true
   },
   "source": [
    "# Stage 3 - Entity Mathcing "
   ]
  },
  {
   "cell_type": "code",
   "execution_count": 1,
   "metadata": {
    "collapsed": false,
    "deletable": true,
    "editable": true
   },
   "outputs": [],
   "source": [
    "import pandas as pd\n",
    "\n",
    "import py_entitymatching as em"
   ]
  },
  {
   "cell_type": "markdown",
   "metadata": {
    "deletable": true,
    "editable": true
   },
   "source": [
    "## Data\n",
    "\n",
    "The type of entity we want to match is company. The two tables are Forbes lists crawled from [Forbes](http://forbes.com/) and NASDAQ company information downloaded from [NASDAQ](http://www.nasdaq.com/). See detailed information about our data below."
   ]
  },
  {
   "cell_type": "code",
   "execution_count": 2,
   "metadata": {
    "collapsed": true
   },
   "outputs": [],
   "source": [
    "data_dir = './dataset/structured_data/'"
   ]
  },
  {
   "cell_type": "markdown",
   "metadata": {
    "deletable": true,
    "editable": true
   },
   "source": [
    "### Forbes data\n",
    "(Description goes here...)"
   ]
  },
  {
   "cell_type": "code",
   "execution_count": 3,
   "metadata": {
    "collapsed": false,
    "deletable": true,
    "editable": true
   },
   "outputs": [
    {
     "name": "stdout",
     "output_type": "stream",
     "text": [
      "# tuples: 3110\n"
     ]
    }
   ],
   "source": [
    "forbes_filename = 'forbes_all.csv'\n",
    "forbes_df = pd.read_csv(open(data_dir + forbes_filename, encoding = \"ISO-8859-1\"))\n",
    "print(\"# tuples:\", len(forbes_df))"
   ]
  },
  {
   "cell_type": "markdown",
   "metadata": {
    "deletable": true,
    "editable": true
   },
   "source": [
    "Here is some sample tuples."
   ]
  },
  {
   "cell_type": "code",
   "execution_count": 4,
   "metadata": {
    "collapsed": false,
    "deletable": true,
    "editable": true
   },
   "outputs": [
    {
     "data": {
      "text/html": [
       "<div>\n",
       "<table border=\"1\" class=\"dataframe\">\n",
       "  <thead>\n",
       "    <tr style=\"text-align: right;\">\n",
       "      <th></th>\n",
       "      <th>id</th>\n",
       "      <th>Company</th>\n",
       "      <th>Country</th>\n",
       "      <th>Industry</th>\n",
       "      <th>Sales (M)</th>\n",
       "      <th>Profits (M)</th>\n",
       "      <th>Assets (M)</th>\n",
       "      <th>Market Value (M)</th>\n",
       "      <th>Employee</th>\n",
       "    </tr>\n",
       "  </thead>\n",
       "  <tbody>\n",
       "    <tr>\n",
       "      <th>0</th>\n",
       "      <td>1</td>\n",
       "      <td>3i Group</td>\n",
       "      <td>United Kingdom</td>\n",
       "      <td>Investment Services</td>\n",
       "      <td>485</td>\n",
       "      <td>925</td>\n",
       "      <td>7500</td>\n",
       "      <td>6700</td>\n",
       "      <td>-</td>\n",
       "    </tr>\n",
       "    <tr>\n",
       "      <th>1</th>\n",
       "      <td>2</td>\n",
       "      <td>3M</td>\n",
       "      <td>United States</td>\n",
       "      <td>Conglomerates</td>\n",
       "      <td>30300</td>\n",
       "      <td>4800</td>\n",
       "      <td>32700</td>\n",
       "      <td>102200</td>\n",
       "      <td>-</td>\n",
       "    </tr>\n",
       "    <tr>\n",
       "      <th>2</th>\n",
       "      <td>3</td>\n",
       "      <td>4moms</td>\n",
       "      <td>United States</td>\n",
       "      <td>Consumer Durables</td>\n",
       "      <td>48</td>\n",
       "      <td>-</td>\n",
       "      <td>-</td>\n",
       "      <td>-</td>\n",
       "      <td>175</td>\n",
       "    </tr>\n",
       "    <tr>\n",
       "      <th>3</th>\n",
       "      <td>4</td>\n",
       "      <td>77 Bank</td>\n",
       "      <td>Japan</td>\n",
       "      <td>Regional Banks</td>\n",
       "      <td>853</td>\n",
       "      <td>165</td>\n",
       "      <td>69100</td>\n",
       "      <td>1400</td>\n",
       "      <td>-</td>\n",
       "    </tr>\n",
       "    <tr>\n",
       "      <th>4</th>\n",
       "      <td>5</td>\n",
       "      <td>84 Lumber</td>\n",
       "      <td>United States</td>\n",
       "      <td>Retailing</td>\n",
       "      <td>2500</td>\n",
       "      <td>-</td>\n",
       "      <td>-</td>\n",
       "      <td>-</td>\n",
       "      <td>4700</td>\n",
       "    </tr>\n",
       "  </tbody>\n",
       "</table>\n",
       "</div>"
      ],
      "text/plain": [
       "   id    Company         Country             Industry Sales (M) Profits (M)  \\\n",
       "0   1   3i Group  United Kingdom  Investment Services       485         925   \n",
       "1   2         3M   United States        Conglomerates     30300        4800   \n",
       "2   3      4moms   United States    Consumer Durables       48            -   \n",
       "3   4    77 Bank           Japan       Regional Banks       853         165   \n",
       "4   5  84 Lumber   United States            Retailing      2500           -   \n",
       "\n",
       "  Assets (M) Market Value (M) Employee  \n",
       "0       7500             6700        -  \n",
       "1      32700           102200        -  \n",
       "2          -                -      175  \n",
       "3      69100             1400        -  \n",
       "4          -                -     4700  "
      ]
     },
     "execution_count": 4,
     "metadata": {},
     "output_type": "execute_result"
    }
   ],
   "source": [
    "forbes_df[:5]"
   ]
  },
  {
   "cell_type": "markdown",
   "metadata": {
    "deletable": true,
    "editable": true
   },
   "source": [
    "### NASDAQ data\n",
    "(Description goes here...)"
   ]
  },
  {
   "cell_type": "code",
   "execution_count": 5,
   "metadata": {
    "collapsed": false,
    "deletable": true,
    "editable": true
   },
   "outputs": [
    {
     "name": "stdout",
     "output_type": "stream",
     "text": [
      "# tuples: 6709\n"
     ]
    }
   ],
   "source": [
    "nasdaq_filename = 'nasdaq.csv'\n",
    "nasdaq_df = pd.read_csv(data_dir + nasdaq_filename)\n",
    "print(\"# tuples:\", len(nasdaq_df))"
   ]
  },
  {
   "cell_type": "markdown",
   "metadata": {
    "deletable": true,
    "editable": true
   },
   "source": [
    "Here is some sample tuples."
   ]
  },
  {
   "cell_type": "code",
   "execution_count": 6,
   "metadata": {
    "collapsed": false,
    "deletable": true,
    "editable": true
   },
   "outputs": [
    {
     "data": {
      "text/html": [
       "<div>\n",
       "<table border=\"1\" class=\"dataframe\">\n",
       "  <thead>\n",
       "    <tr style=\"text-align: right;\">\n",
       "      <th></th>\n",
       "      <th>ID</th>\n",
       "      <th>Symbol</th>\n",
       "      <th>Name</th>\n",
       "      <th>LastSale</th>\n",
       "      <th>MarketCap</th>\n",
       "      <th>IPOyear</th>\n",
       "      <th>Sector</th>\n",
       "      <th>industry</th>\n",
       "      <th>Summary Quote</th>\n",
       "    </tr>\n",
       "  </thead>\n",
       "  <tbody>\n",
       "    <tr>\n",
       "      <th>0</th>\n",
       "      <td>1</td>\n",
       "      <td>PIH</td>\n",
       "      <td>1347 Property Insurance Holdings, Inc.</td>\n",
       "      <td>7.25</td>\n",
       "      <td>$43.2M</td>\n",
       "      <td>2014</td>\n",
       "      <td>Finance</td>\n",
       "      <td>Property-Casualty Insurers</td>\n",
       "      <td>http://www.nasdaq.com/symbol/pih</td>\n",
       "    </tr>\n",
       "    <tr>\n",
       "      <th>1</th>\n",
       "      <td>2</td>\n",
       "      <td>FLWS</td>\n",
       "      <td>1-800 FLOWERS.COM, Inc.</td>\n",
       "      <td>10.15</td>\n",
       "      <td>$665.53M</td>\n",
       "      <td>1999</td>\n",
       "      <td>Consumer Services</td>\n",
       "      <td>Other Specialty Stores</td>\n",
       "      <td>http://www.nasdaq.com/symbol/flws</td>\n",
       "    </tr>\n",
       "    <tr>\n",
       "      <th>2</th>\n",
       "      <td>3</td>\n",
       "      <td>FCCY</td>\n",
       "      <td>1st Constitution Bancorp (NJ)</td>\n",
       "      <td>18.6</td>\n",
       "      <td>$148.68M</td>\n",
       "      <td>n/a</td>\n",
       "      <td>Finance</td>\n",
       "      <td>Savings Institutions</td>\n",
       "      <td>http://www.nasdaq.com/symbol/fccy</td>\n",
       "    </tr>\n",
       "    <tr>\n",
       "      <th>3</th>\n",
       "      <td>4</td>\n",
       "      <td>SRCE</td>\n",
       "      <td>1st Source Corporation</td>\n",
       "      <td>47.06</td>\n",
       "      <td>$1.22B</td>\n",
       "      <td>n/a</td>\n",
       "      <td>Finance</td>\n",
       "      <td>Major Banks</td>\n",
       "      <td>http://www.nasdaq.com/symbol/srce</td>\n",
       "    </tr>\n",
       "    <tr>\n",
       "      <th>4</th>\n",
       "      <td>5</td>\n",
       "      <td>VNET</td>\n",
       "      <td>21Vianet Group, Inc.</td>\n",
       "      <td>7.24</td>\n",
       "      <td>$823.07M</td>\n",
       "      <td>2011</td>\n",
       "      <td>Technology</td>\n",
       "      <td>Computer Software: Programming, Data Processing</td>\n",
       "      <td>http://www.nasdaq.com/symbol/vnet</td>\n",
       "    </tr>\n",
       "  </tbody>\n",
       "</table>\n",
       "</div>"
      ],
      "text/plain": [
       "   ID Symbol                                    Name LastSale MarketCap  \\\n",
       "0   1    PIH  1347 Property Insurance Holdings, Inc.     7.25    $43.2M   \n",
       "1   2   FLWS                 1-800 FLOWERS.COM, Inc.    10.15  $665.53M   \n",
       "2   3   FCCY           1st Constitution Bancorp (NJ)     18.6  $148.68M   \n",
       "3   4   SRCE                  1st Source Corporation    47.06    $1.22B   \n",
       "4   5   VNET                    21Vianet Group, Inc.     7.24  $823.07M   \n",
       "\n",
       "  IPOyear             Sector                                         industry  \\\n",
       "0    2014            Finance                       Property-Casualty Insurers   \n",
       "1    1999  Consumer Services                           Other Specialty Stores   \n",
       "2     n/a            Finance                             Savings Institutions   \n",
       "3     n/a            Finance                                      Major Banks   \n",
       "4    2011         Technology  Computer Software: Programming, Data Processing   \n",
       "\n",
       "                       Summary Quote  \n",
       "0   http://www.nasdaq.com/symbol/pih  \n",
       "1  http://www.nasdaq.com/symbol/flws  \n",
       "2  http://www.nasdaq.com/symbol/fccy  \n",
       "3  http://www.nasdaq.com/symbol/srce  \n",
       "4  http://www.nasdaq.com/symbol/vnet  "
      ]
     },
     "execution_count": 6,
     "metadata": {},
     "output_type": "execute_result"
    }
   ],
   "source": [
    "nasdaq_df[:5]"
   ]
  },
  {
   "cell_type": "markdown",
   "metadata": {
    "deletable": true,
    "editable": true
   },
   "source": [
    "We are to make use of the fields of name, industry and market value."
   ]
  },
  {
   "cell_type": "code",
   "execution_count": 7,
   "metadata": {
    "collapsed": true,
    "deletable": true,
    "editable": true
   },
   "outputs": [],
   "source": [
    "all_fields = ['Name', 'Industry', 'MarketValue']"
   ]
  },
  {
   "cell_type": "code",
   "execution_count": 8,
   "metadata": {
    "collapsed": false,
    "deletable": true,
    "editable": true
   },
   "outputs": [],
   "source": [
    "forbes = forbes_df.rename(columns={'Company':'Name', 'Market Value (M)':'MarketValue'})"
   ]
  },
  {
   "cell_type": "code",
   "execution_count": 9,
   "metadata": {
    "collapsed": false,
    "deletable": true,
    "editable": true
   },
   "outputs": [],
   "source": [
    "nasdaq = nasdaq_df.rename(columns={'industry':'Industry', 'MarketCap':'MarketValue'})"
   ]
  },
  {
   "cell_type": "markdown",
   "metadata": {},
   "source": [
    "## Sampling\n",
    "\n",
    "For the ease of exploration and developement."
   ]
  },
  {
   "cell_type": "code",
   "execution_count": 10,
   "metadata": {
    "collapsed": false
   },
   "outputs": [],
   "source": [
    "nasdaq_sample = nasdaq[:200]\n",
    "nasdaq_sample.to_csv(data_dir + 'nasdaq_sample.csv')"
   ]
  },
  {
   "cell_type": "code",
   "execution_count": 11,
   "metadata": {
    "collapsed": false
   },
   "outputs": [],
   "source": [
    "forbes_sample = forbes[:100]\n",
    "forbes_sample.to_csv(data_dir + 'forbes_sample.csv')"
   ]
  },
  {
   "cell_type": "code",
   "execution_count": null,
   "metadata": {
    "collapsed": true
   },
   "outputs": [],
   "source": []
  }
 ],
 "metadata": {
  "kernelspec": {
   "display_name": "Python 3",
   "language": "python",
   "name": "python3"
  },
  "language_info": {
   "codemirror_mode": {
    "name": "ipython",
    "version": 3
   },
   "file_extension": ".py",
   "mimetype": "text/x-python",
   "name": "python",
   "nbconvert_exporter": "python",
   "pygments_lexer": "ipython3",
   "version": "3.5.3"
  }
 },
 "nbformat": 4,
 "nbformat_minor": 0
}
