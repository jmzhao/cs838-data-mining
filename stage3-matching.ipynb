{
 "cells": [
  {
   "cell_type": "markdown",
   "metadata": {
    "deletable": true,
    "editable": true
   },
   "source": [
    "# Stage 3 - Entity Matching"
   ]
  },
  {
   "cell_type": "code",
   "execution_count": 1,
   "metadata": {
    "collapsed": true,
    "deletable": true,
    "editable": true
   },
   "outputs": [],
   "source": [
    "from collections import Counter\n",
    "\n",
    "import matplotlib.pyplot as plt\n",
    "%matplotlib inline\n",
    "import numpy as np\n",
    "import pandas as pd\n",
    "\n",
    "import py_entitymatching as em\n",
    "\n",
    "IS_DEVELOPING = False\n",
    "\n",
    "data_dir = './dataset/structured_data/'\n",
    "A_filename = 'forbes_sample.csv' if IS_DEVELOPING else 'forbes_all_rename.csv'\n",
    "B_filename = 'nasdaq_sample.csv' if IS_DEVELOPING else 'nasdaq_rename.csv'\n",
    "blocked_filename = 'blocked_sample.csv' if IS_DEVELOPING else 'blocked.csv'\n",
    "labeled_filename = 'labeled_sample.csv' if IS_DEVELOPING else 'golden_label.csv'\n",
    "\n",
    "all_fields = ['Name',\"Country\", 'Industry', \"MarketValue\"]\n",
    "\n",
    "# Set the seed value for reproducibility\n",
    "seed = 0"
   ]
  },
  {
   "cell_type": "markdown",
   "metadata": {
    "deletable": true,
    "editable": true
   },
   "source": [
    "## 3 Mathcing"
   ]
  },
  {
   "cell_type": "code",
   "execution_count": 2,
   "metadata": {
    "collapsed": false,
    "deletable": true,
    "editable": true
   },
   "outputs": [
    {
     "name": "stderr",
     "output_type": "stream",
     "text": [
      "Metadata file is not present in the given path; proceeding to read the csv file.\n"
     ]
    }
   ],
   "source": [
    "A = pd.read_csv(data_dir + A_filename,  encoding = \"ISO-8859-1\" )\n",
    "A = A[['id'] + all_fields]\n",
    "em.set_key(A, 'id')\n",
    "B = pd.read_csv(data_dir + B_filename,  encoding = \"ISO-8859-1\")\n",
    "B = B[['id'] + all_fields]\n",
    "em.set_key(B, 'id')\n",
    "# Load the pre-labeled data\n",
    "S = em.read_csv_metadata(data_dir + labeled_filename, \n",
    "                         key='_id',\n",
    "                         ltable=A, rtable=B, \n",
    "                         fk_ltable='ltable_id', fk_rtable='rtable_id',  encoding = \"ISO-8859-1\")"
   ]
  },
  {
   "cell_type": "markdown",
   "metadata": {
    "deletable": true,
    "editable": true
   },
   "source": [
    "### 3.1 Split training set\n",
    "Split the labeled data into development set and evaluation set. Use the development set to select the best learning-based matcher."
   ]
  },
  {
   "cell_type": "code",
   "execution_count": 3,
   "metadata": {
    "collapsed": false
   },
   "outputs": [
    {
     "name": "stdout",
     "output_type": "stream",
     "text": [
      "Counter({1: 100, 0: 80})\n",
      "Counter({0: 60, 1: 60})\n"
     ]
    }
   ],
   "source": [
    "# Split S into I an J\n",
    "IJ = em.split_train_test(S, train_proportion=0.6, random_state=seed)\n",
    "I = IJ['train']\n",
    "J = IJ['test']\n",
    "print(Counter(I.is_match))\n",
    "print(Counter(J.is_match))"
   ]
  },
  {
   "cell_type": "markdown",
   "metadata": {},
   "source": [
    "Save split I, J into files. "
   ]
  },
  {
   "cell_type": "code",
   "execution_count": 4,
   "metadata": {
    "collapsed": false,
    "deletable": true,
    "editable": true
   },
   "outputs": [],
   "source": [
    "I.to_csv(data_dir +\"I.csv\")\n",
    "J.to_csv(data_dir +\"J.csv\")"
   ]
  },
  {
   "cell_type": "markdown",
   "metadata": {
    "deletable": true,
    "editable": true
   },
   "source": [
    "### 3.2 Creating features"
   ]
  },
  {
   "cell_type": "code",
   "execution_count": 5,
   "metadata": {
    "collapsed": false,
    "deletable": true,
    "editable": true
   },
   "outputs": [],
   "source": [
    "# Generate a set of features\n",
    "F = em.get_features_for_matching(A, B)"
   ]
  },
  {
   "cell_type": "code",
   "execution_count": 6,
   "metadata": {
    "collapsed": false,
    "deletable": true,
    "editable": true
   },
   "outputs": [
    {
     "data": {
      "text/plain": [
       "0                                 id_id_exm\n",
       "1                                 id_id_anm\n",
       "2                            id_id_lev_dist\n",
       "3                             id_id_lev_sim\n",
       "4                 Name_Name_jac_qgm_3_qgm_3\n",
       "5             Name_Name_cos_dlm_dc0_dlm_dc0\n",
       "6             Name_Name_jac_dlm_dc0_dlm_dc0\n",
       "7                             Name_Name_mel\n",
       "8                        Name_Name_lev_dist\n",
       "9                         Name_Name_lev_sim\n",
       "10                            Name_Name_nmw\n",
       "11                             Name_Name_sw\n",
       "12          Country_Country_jac_qgm_3_qgm_3\n",
       "13      Country_Country_cos_dlm_dc0_dlm_dc0\n",
       "14      Country_Country_jac_dlm_dc0_dlm_dc0\n",
       "15                      Country_Country_mel\n",
       "16                 Country_Country_lev_dist\n",
       "17                  Country_Country_lev_sim\n",
       "18                      Country_Country_nmw\n",
       "19                       Country_Country_sw\n",
       "20        Industry_Industry_jac_qgm_3_qgm_3\n",
       "21    Industry_Industry_cos_dlm_dc0_dlm_dc0\n",
       "22    Industry_Industry_jac_dlm_dc0_dlm_dc0\n",
       "23                    Industry_Industry_mel\n",
       "24               Industry_Industry_lev_dist\n",
       "25                Industry_Industry_lev_sim\n",
       "26                    Industry_Industry_nmw\n",
       "27                     Industry_Industry_sw\n",
       "Name: feature_name, dtype: object"
      ]
     },
     "execution_count": 6,
     "metadata": {},
     "output_type": "execute_result"
    }
   ],
   "source": [
    "F.feature_name"
   ]
  },
  {
   "cell_type": "markdown",
   "metadata": {
    "deletable": true,
    "editable": true
   },
   "source": [
    "### 3.3 Extracting feature vectors"
   ]
  },
  {
   "cell_type": "code",
   "execution_count": 7,
   "metadata": {
    "collapsed": false,
    "deletable": true,
    "editable": true
   },
   "outputs": [
    {
     "data": {
      "text/html": [
       "<div>\n",
       "<table border=\"1\" class=\"dataframe\">\n",
       "  <thead>\n",
       "    <tr style=\"text-align: right;\">\n",
       "      <th></th>\n",
       "      <th>_id</th>\n",
       "      <th>ltable_id</th>\n",
       "      <th>rtable_id</th>\n",
       "      <th>id_id_exm</th>\n",
       "      <th>id_id_anm</th>\n",
       "      <th>id_id_lev_dist</th>\n",
       "      <th>id_id_lev_sim</th>\n",
       "      <th>Name_Name_jac_qgm_3_qgm_3</th>\n",
       "      <th>Name_Name_cos_dlm_dc0_dlm_dc0</th>\n",
       "      <th>Name_Name_jac_dlm_dc0_dlm_dc0</th>\n",
       "      <th>...</th>\n",
       "      <th>Country_Country_sw</th>\n",
       "      <th>Industry_Industry_jac_qgm_3_qgm_3</th>\n",
       "      <th>Industry_Industry_cos_dlm_dc0_dlm_dc0</th>\n",
       "      <th>Industry_Industry_jac_dlm_dc0_dlm_dc0</th>\n",
       "      <th>Industry_Industry_mel</th>\n",
       "      <th>Industry_Industry_lev_dist</th>\n",
       "      <th>Industry_Industry_lev_sim</th>\n",
       "      <th>Industry_Industry_nmw</th>\n",
       "      <th>Industry_Industry_sw</th>\n",
       "      <th>is_match</th>\n",
       "    </tr>\n",
       "  </thead>\n",
       "  <tbody>\n",
       "    <tr>\n",
       "      <th>29</th>\n",
       "      <td>4438</td>\n",
       "      <td>1907</td>\n",
       "      <td>564</td>\n",
       "      <td>0</td>\n",
       "      <td>0.295752</td>\n",
       "      <td>4</td>\n",
       "      <td>0.00</td>\n",
       "      <td>0.130435</td>\n",
       "      <td>0.000000</td>\n",
       "      <td>0.000000</td>\n",
       "      <td>...</td>\n",
       "      <td>13.0</td>\n",
       "      <td>0.000000</td>\n",
       "      <td>0.0</td>\n",
       "      <td>0.000000</td>\n",
       "      <td>0.461988</td>\n",
       "      <td>18.0</td>\n",
       "      <td>0.052632</td>\n",
       "      <td>-15.0</td>\n",
       "      <td>1.0</td>\n",
       "      <td>1</td>\n",
       "    </tr>\n",
       "    <tr>\n",
       "      <th>146</th>\n",
       "      <td>23473</td>\n",
       "      <td>1881</td>\n",
       "      <td>2550</td>\n",
       "      <td>0</td>\n",
       "      <td>0.737647</td>\n",
       "      <td>4</td>\n",
       "      <td>0.00</td>\n",
       "      <td>0.163636</td>\n",
       "      <td>0.250000</td>\n",
       "      <td>0.142857</td>\n",
       "      <td>...</td>\n",
       "      <td>13.0</td>\n",
       "      <td>0.015625</td>\n",
       "      <td>0.0</td>\n",
       "      <td>0.000000</td>\n",
       "      <td>0.552717</td>\n",
       "      <td>33.0</td>\n",
       "      <td>0.175000</td>\n",
       "      <td>-10.0</td>\n",
       "      <td>4.0</td>\n",
       "      <td>0</td>\n",
       "    </tr>\n",
       "    <tr>\n",
       "      <th>16</th>\n",
       "      <td>2770</td>\n",
       "      <td>870</td>\n",
       "      <td>302</td>\n",
       "      <td>0</td>\n",
       "      <td>0.347126</td>\n",
       "      <td>3</td>\n",
       "      <td>0.00</td>\n",
       "      <td>0.357143</td>\n",
       "      <td>0.707107</td>\n",
       "      <td>0.500000</td>\n",
       "      <td>...</td>\n",
       "      <td>13.0</td>\n",
       "      <td>0.264706</td>\n",
       "      <td>0.5</td>\n",
       "      <td>0.333333</td>\n",
       "      <td>0.833601</td>\n",
       "      <td>10.0</td>\n",
       "      <td>0.545455</td>\n",
       "      <td>7.0</td>\n",
       "      <td>11.0</td>\n",
       "      <td>1</td>\n",
       "    </tr>\n",
       "    <tr>\n",
       "      <th>56</th>\n",
       "      <td>11077</td>\n",
       "      <td>1298</td>\n",
       "      <td>1014</td>\n",
       "      <td>0</td>\n",
       "      <td>0.781202</td>\n",
       "      <td>3</td>\n",
       "      <td>0.25</td>\n",
       "      <td>0.266667</td>\n",
       "      <td>0.353553</td>\n",
       "      <td>0.200000</td>\n",
       "      <td>...</td>\n",
       "      <td>13.0</td>\n",
       "      <td>0.018519</td>\n",
       "      <td>0.0</td>\n",
       "      <td>0.000000</td>\n",
       "      <td>0.608140</td>\n",
       "      <td>28.0</td>\n",
       "      <td>0.200000</td>\n",
       "      <td>-10.0</td>\n",
       "      <td>4.0</td>\n",
       "      <td>0</td>\n",
       "    </tr>\n",
       "    <tr>\n",
       "      <th>75</th>\n",
       "      <td>13987</td>\n",
       "      <td>1366</td>\n",
       "      <td>1467</td>\n",
       "      <td>0</td>\n",
       "      <td>0.931152</td>\n",
       "      <td>2</td>\n",
       "      <td>0.50</td>\n",
       "      <td>0.571429</td>\n",
       "      <td>0.816497</td>\n",
       "      <td>0.666667</td>\n",
       "      <td>...</td>\n",
       "      <td>13.0</td>\n",
       "      <td>0.078431</td>\n",
       "      <td>0.0</td>\n",
       "      <td>0.000000</td>\n",
       "      <td>0.589068</td>\n",
       "      <td>22.0</td>\n",
       "      <td>0.290323</td>\n",
       "      <td>-2.0</td>\n",
       "      <td>7.0</td>\n",
       "      <td>1</td>\n",
       "    </tr>\n",
       "  </tbody>\n",
       "</table>\n",
       "<p>5 rows × 32 columns</p>\n",
       "</div>"
      ],
      "text/plain": [
       "       _id  ltable_id  rtable_id  id_id_exm  id_id_anm  id_id_lev_dist  \\\n",
       "29    4438       1907        564          0   0.295752               4   \n",
       "146  23473       1881       2550          0   0.737647               4   \n",
       "16    2770        870        302          0   0.347126               3   \n",
       "56   11077       1298       1014          0   0.781202               3   \n",
       "75   13987       1366       1467          0   0.931152               2   \n",
       "\n",
       "     id_id_lev_sim  Name_Name_jac_qgm_3_qgm_3  Name_Name_cos_dlm_dc0_dlm_dc0  \\\n",
       "29            0.00                   0.130435                       0.000000   \n",
       "146           0.00                   0.163636                       0.250000   \n",
       "16            0.00                   0.357143                       0.707107   \n",
       "56            0.25                   0.266667                       0.353553   \n",
       "75            0.50                   0.571429                       0.816497   \n",
       "\n",
       "     Name_Name_jac_dlm_dc0_dlm_dc0    ...     Country_Country_sw  \\\n",
       "29                        0.000000    ...                   13.0   \n",
       "146                       0.142857    ...                   13.0   \n",
       "16                        0.500000    ...                   13.0   \n",
       "56                        0.200000    ...                   13.0   \n",
       "75                        0.666667    ...                   13.0   \n",
       "\n",
       "     Industry_Industry_jac_qgm_3_qgm_3  Industry_Industry_cos_dlm_dc0_dlm_dc0  \\\n",
       "29                            0.000000                                    0.0   \n",
       "146                           0.015625                                    0.0   \n",
       "16                            0.264706                                    0.5   \n",
       "56                            0.018519                                    0.0   \n",
       "75                            0.078431                                    0.0   \n",
       "\n",
       "     Industry_Industry_jac_dlm_dc0_dlm_dc0  Industry_Industry_mel  \\\n",
       "29                                0.000000               0.461988   \n",
       "146                               0.000000               0.552717   \n",
       "16                                0.333333               0.833601   \n",
       "56                                0.000000               0.608140   \n",
       "75                                0.000000               0.589068   \n",
       "\n",
       "     Industry_Industry_lev_dist  Industry_Industry_lev_sim  \\\n",
       "29                         18.0                   0.052632   \n",
       "146                        33.0                   0.175000   \n",
       "16                         10.0                   0.545455   \n",
       "56                         28.0                   0.200000   \n",
       "75                         22.0                   0.290323   \n",
       "\n",
       "     Industry_Industry_nmw  Industry_Industry_sw  is_match  \n",
       "29                   -15.0                   1.0         1  \n",
       "146                  -10.0                   4.0         0  \n",
       "16                     7.0                  11.0         1  \n",
       "56                   -10.0                   4.0         0  \n",
       "75                    -2.0                   7.0         1  \n",
       "\n",
       "[5 rows x 32 columns]"
      ]
     },
     "execution_count": 7,
     "metadata": {},
     "output_type": "execute_result"
    }
   ],
   "source": [
    "# Convert the I into a set of feature vectors using F\n",
    "H = em.extract_feature_vecs(I, \n",
    "                            feature_table=F, \n",
    "                            attrs_after='is_match',\n",
    "                            show_progress=False)  \n",
    "# Display first few rows\n",
    "H.head()"
   ]
  },
  {
   "cell_type": "code",
   "execution_count": 8,
   "metadata": {
    "collapsed": false,
    "deletable": true,
    "editable": true
   },
   "outputs": [
    {
     "data": {
      "text/plain": [
       "True"
      ]
     },
     "execution_count": 8,
     "metadata": {},
     "output_type": "execute_result"
    }
   ],
   "source": [
    "# Check if the feature vectors contain missing values\n",
    "# A return value of True means that there are missing values\n",
    "any(pd.notnull(H))"
   ]
  },
  {
   "cell_type": "markdown",
   "metadata": {
    "deletable": true,
    "editable": true
   },
   "source": [
    "We observe that the extracted feature vectors contain missing values. We have to impute the missing values for the learning-based matchers to fit the model correctly."
   ]
  },
  {
   "cell_type": "code",
   "execution_count": 9,
   "metadata": {
    "collapsed": false,
    "deletable": true,
    "editable": true
   },
   "outputs": [],
   "source": [
    "# Impute feature vectors with the mean of the column values.\n",
    "H = em.impute_table(H, \n",
    "                exclude_attrs=['_id', 'ltable_id', 'rtable_id', 'is_match'],\n",
    "                strategy='mean')"
   ]
  },
  {
   "cell_type": "markdown",
   "metadata": {
    "deletable": true,
    "editable": true
   },
   "source": [
    "### 3.4 Selecting the best matcher using cross-validation"
   ]
  },
  {
   "cell_type": "markdown",
   "metadata": {
    "deletable": true,
    "editable": true
   },
   "source": [
    "First, we need to create a set of learning-based matchers. The following matchers are supported in Magellan: (1) decision tree, (2) random forest, (3) naive bayes, (4) svm, (5) logistic regression, and (6) linear regression."
   ]
  },
  {
   "cell_type": "code",
   "execution_count": 10,
   "metadata": {
    "collapsed": false,
    "deletable": true,
    "editable": true
   },
   "outputs": [],
   "source": [
    "# Create a set of ML-matchers\n",
    "dt = em.DTMatcher(name='DecisionTree', random_state=seed)\n",
    "svm = em.SVMMatcher(name='SVM', random_state=seed)\n",
    "rf = em.RFMatcher(name='RF', random_state=seed)\n",
    "nb = em.NBMatcher(name='NB')\n",
    "lg = em.LogRegMatcher(name='LogReg', random_state=seed)\n",
    "ln = em.LinRegMatcher(name='LinReg')\n",
    "matchers = [dt, rf, svm, nb, ln, lg]"
   ]
  },
  {
   "cell_type": "markdown",
   "metadata": {
    "deletable": true,
    "editable": true
   },
   "source": [
    "Now, we select the best matcher using k-fold cross-validation. Here we use 5-fold cross validation and use precision, recall, and F-1 metric to select the best matcher."
   ]
  },
  {
   "cell_type": "code",
   "execution_count": 11,
   "metadata": {
    "collapsed": false,
    "deletable": true,
    "editable": true
   },
   "outputs": [
    {
     "data": {
      "text/html": [
       "<div>\n",
       "<table border=\"1\" class=\"dataframe\">\n",
       "  <thead>\n",
       "    <tr style=\"text-align: right;\">\n",
       "      <th></th>\n",
       "      <th>Name</th>\n",
       "      <th>Matcher</th>\n",
       "      <th>Num folds</th>\n",
       "      <th>Fold 1</th>\n",
       "      <th>Fold 2</th>\n",
       "      <th>Fold 3</th>\n",
       "      <th>Fold 4</th>\n",
       "      <th>Fold 5</th>\n",
       "      <th>Mean score</th>\n",
       "    </tr>\n",
       "  </thead>\n",
       "  <tbody>\n",
       "    <tr>\n",
       "      <th>0</th>\n",
       "      <td>DecisionTree</td>\n",
       "      <td>&lt;py_entitymatching.matcher.dtmatcher.DTMatcher object at 0x11322fac8&gt;</td>\n",
       "      <td>5</td>\n",
       "      <td>0.850000</td>\n",
       "      <td>0.9</td>\n",
       "      <td>0.761905</td>\n",
       "      <td>0.761905</td>\n",
       "      <td>0.875000</td>\n",
       "      <td>0.829762</td>\n",
       "    </tr>\n",
       "    <tr>\n",
       "      <th>1</th>\n",
       "      <td>RF</td>\n",
       "      <td>&lt;py_entitymatching.matcher.rfmatcher.RFMatcher object at 0x11322fb00&gt;</td>\n",
       "      <td>5</td>\n",
       "      <td>0.947368</td>\n",
       "      <td>1.0</td>\n",
       "      <td>0.894737</td>\n",
       "      <td>0.944444</td>\n",
       "      <td>0.857143</td>\n",
       "      <td>0.928739</td>\n",
       "    </tr>\n",
       "    <tr>\n",
       "      <th>2</th>\n",
       "      <td>SVM</td>\n",
       "      <td>&lt;py_entitymatching.matcher.svmmatcher.SVMMatcher object at 0x11322fba8&gt;</td>\n",
       "      <td>5</td>\n",
       "      <td>0.772727</td>\n",
       "      <td>0.8</td>\n",
       "      <td>0.642857</td>\n",
       "      <td>0.769231</td>\n",
       "      <td>0.600000</td>\n",
       "      <td>0.716963</td>\n",
       "    </tr>\n",
       "    <tr>\n",
       "      <th>3</th>\n",
       "      <td>NB</td>\n",
       "      <td>&lt;py_entitymatching.matcher.nbmatcher.NBMatcher object at 0x11322fa58&gt;</td>\n",
       "      <td>5</td>\n",
       "      <td>0.894737</td>\n",
       "      <td>1.0</td>\n",
       "      <td>0.875000</td>\n",
       "      <td>0.933333</td>\n",
       "      <td>0.900000</td>\n",
       "      <td>0.920614</td>\n",
       "    </tr>\n",
       "    <tr>\n",
       "      <th>4</th>\n",
       "      <td>LinReg</td>\n",
       "      <td>&lt;py_entitymatching.matcher.linregmatcher.LinRegMatcher object at 0x11322fc50&gt;</td>\n",
       "      <td>5</td>\n",
       "      <td>0.863636</td>\n",
       "      <td>1.0</td>\n",
       "      <td>0.894737</td>\n",
       "      <td>0.944444</td>\n",
       "      <td>0.823529</td>\n",
       "      <td>0.905269</td>\n",
       "    </tr>\n",
       "    <tr>\n",
       "      <th>5</th>\n",
       "      <td>LogReg</td>\n",
       "      <td>&lt;py_entitymatching.matcher.logregmatcher.LogRegMatcher object at 0x11322fbe0&gt;</td>\n",
       "      <td>5</td>\n",
       "      <td>0.909091</td>\n",
       "      <td>1.0</td>\n",
       "      <td>0.809524</td>\n",
       "      <td>0.941176</td>\n",
       "      <td>0.700000</td>\n",
       "      <td>0.871958</td>\n",
       "    </tr>\n",
       "  </tbody>\n",
       "</table>\n",
       "</div>"
      ],
      "text/plain": [
       "           Name  \\\n",
       "0  DecisionTree   \n",
       "1            RF   \n",
       "2           SVM   \n",
       "3            NB   \n",
       "4        LinReg   \n",
       "5        LogReg   \n",
       "\n",
       "                                                                         Matcher  \\\n",
       "0          <py_entitymatching.matcher.dtmatcher.DTMatcher object at 0x11322fac8>   \n",
       "1          <py_entitymatching.matcher.rfmatcher.RFMatcher object at 0x11322fb00>   \n",
       "2        <py_entitymatching.matcher.svmmatcher.SVMMatcher object at 0x11322fba8>   \n",
       "3          <py_entitymatching.matcher.nbmatcher.NBMatcher object at 0x11322fa58>   \n",
       "4  <py_entitymatching.matcher.linregmatcher.LinRegMatcher object at 0x11322fc50>   \n",
       "5  <py_entitymatching.matcher.logregmatcher.LogRegMatcher object at 0x11322fbe0>   \n",
       "\n",
       "   Num folds    Fold 1  Fold 2    Fold 3    Fold 4    Fold 5  Mean score  \n",
       "0          5  0.850000     0.9  0.761905  0.761905  0.875000    0.829762  \n",
       "1          5  0.947368     1.0  0.894737  0.944444  0.857143    0.928739  \n",
       "2          5  0.772727     0.8  0.642857  0.769231  0.600000    0.716963  \n",
       "3          5  0.894737     1.0  0.875000  0.933333  0.900000    0.920614  \n",
       "4          5  0.863636     1.0  0.894737  0.944444  0.823529    0.905269  \n",
       "5          5  0.909091     1.0  0.809524  0.941176  0.700000    0.871958  "
      ]
     },
     "execution_count": 11,
     "metadata": {},
     "output_type": "execute_result"
    }
   ],
   "source": [
    "# Performing CV using precision\n",
    "result = em.select_matcher(matchers, table=H, \n",
    "        exclude_attrs=['_id', 'ltable_id', 'rtable_id', 'is_match'],\n",
    "        k=5,\n",
    "        target_attr='is_match', metric='precision', random_state=seed)\n",
    "result['cv_stats']"
   ]
  },
  {
   "cell_type": "code",
   "execution_count": 12,
   "metadata": {
    "collapsed": false,
    "deletable": true,
    "editable": true
   },
   "outputs": [
    {
     "data": {
      "text/html": [
       "<div>\n",
       "<table border=\"1\" class=\"dataframe\">\n",
       "  <thead>\n",
       "    <tr style=\"text-align: right;\">\n",
       "      <th></th>\n",
       "      <th>Name</th>\n",
       "      <th>Matcher</th>\n",
       "      <th>Num folds</th>\n",
       "      <th>Fold 1</th>\n",
       "      <th>Fold 2</th>\n",
       "      <th>Fold 3</th>\n",
       "      <th>Fold 4</th>\n",
       "      <th>Fold 5</th>\n",
       "      <th>Mean score</th>\n",
       "    </tr>\n",
       "  </thead>\n",
       "  <tbody>\n",
       "    <tr>\n",
       "      <th>0</th>\n",
       "      <td>DecisionTree</td>\n",
       "      <td>&lt;py_entitymatching.matcher.dtmatcher.DTMatcher object at 0x11322fac8&gt;</td>\n",
       "      <td>5</td>\n",
       "      <td>0.772727</td>\n",
       "      <td>0.818182</td>\n",
       "      <td>0.888889</td>\n",
       "      <td>0.695652</td>\n",
       "      <td>0.933333</td>\n",
       "      <td>0.821757</td>\n",
       "    </tr>\n",
       "    <tr>\n",
       "      <th>1</th>\n",
       "      <td>RF</td>\n",
       "      <td>&lt;py_entitymatching.matcher.rfmatcher.RFMatcher object at 0x11322fb00&gt;</td>\n",
       "      <td>5</td>\n",
       "      <td>0.818182</td>\n",
       "      <td>0.772727</td>\n",
       "      <td>0.944444</td>\n",
       "      <td>0.739130</td>\n",
       "      <td>0.800000</td>\n",
       "      <td>0.814897</td>\n",
       "    </tr>\n",
       "    <tr>\n",
       "      <th>2</th>\n",
       "      <td>SVM</td>\n",
       "      <td>&lt;py_entitymatching.matcher.svmmatcher.SVMMatcher object at 0x11322fba8&gt;</td>\n",
       "      <td>5</td>\n",
       "      <td>0.772727</td>\n",
       "      <td>0.909091</td>\n",
       "      <td>1.000000</td>\n",
       "      <td>0.869565</td>\n",
       "      <td>1.000000</td>\n",
       "      <td>0.910277</td>\n",
       "    </tr>\n",
       "    <tr>\n",
       "      <th>3</th>\n",
       "      <td>NB</td>\n",
       "      <td>&lt;py_entitymatching.matcher.nbmatcher.NBMatcher object at 0x11322fa58&gt;</td>\n",
       "      <td>5</td>\n",
       "      <td>0.772727</td>\n",
       "      <td>0.863636</td>\n",
       "      <td>0.777778</td>\n",
       "      <td>0.608696</td>\n",
       "      <td>0.600000</td>\n",
       "      <td>0.724567</td>\n",
       "    </tr>\n",
       "    <tr>\n",
       "      <th>4</th>\n",
       "      <td>LinReg</td>\n",
       "      <td>&lt;py_entitymatching.matcher.linregmatcher.LinRegMatcher object at 0x11322fc50&gt;</td>\n",
       "      <td>5</td>\n",
       "      <td>0.863636</td>\n",
       "      <td>0.954545</td>\n",
       "      <td>0.944444</td>\n",
       "      <td>0.739130</td>\n",
       "      <td>0.933333</td>\n",
       "      <td>0.887018</td>\n",
       "    </tr>\n",
       "    <tr>\n",
       "      <th>5</th>\n",
       "      <td>LogReg</td>\n",
       "      <td>&lt;py_entitymatching.matcher.logregmatcher.LogRegMatcher object at 0x11322fbe0&gt;</td>\n",
       "      <td>5</td>\n",
       "      <td>0.909091</td>\n",
       "      <td>1.000000</td>\n",
       "      <td>0.944444</td>\n",
       "      <td>0.695652</td>\n",
       "      <td>0.933333</td>\n",
       "      <td>0.896504</td>\n",
       "    </tr>\n",
       "  </tbody>\n",
       "</table>\n",
       "</div>"
      ],
      "text/plain": [
       "           Name  \\\n",
       "0  DecisionTree   \n",
       "1            RF   \n",
       "2           SVM   \n",
       "3            NB   \n",
       "4        LinReg   \n",
       "5        LogReg   \n",
       "\n",
       "                                                                         Matcher  \\\n",
       "0          <py_entitymatching.matcher.dtmatcher.DTMatcher object at 0x11322fac8>   \n",
       "1          <py_entitymatching.matcher.rfmatcher.RFMatcher object at 0x11322fb00>   \n",
       "2        <py_entitymatching.matcher.svmmatcher.SVMMatcher object at 0x11322fba8>   \n",
       "3          <py_entitymatching.matcher.nbmatcher.NBMatcher object at 0x11322fa58>   \n",
       "4  <py_entitymatching.matcher.linregmatcher.LinRegMatcher object at 0x11322fc50>   \n",
       "5  <py_entitymatching.matcher.logregmatcher.LogRegMatcher object at 0x11322fbe0>   \n",
       "\n",
       "   Num folds    Fold 1    Fold 2    Fold 3    Fold 4    Fold 5  Mean score  \n",
       "0          5  0.772727  0.818182  0.888889  0.695652  0.933333    0.821757  \n",
       "1          5  0.818182  0.772727  0.944444  0.739130  0.800000    0.814897  \n",
       "2          5  0.772727  0.909091  1.000000  0.869565  1.000000    0.910277  \n",
       "3          5  0.772727  0.863636  0.777778  0.608696  0.600000    0.724567  \n",
       "4          5  0.863636  0.954545  0.944444  0.739130  0.933333    0.887018  \n",
       "5          5  0.909091  1.000000  0.944444  0.695652  0.933333    0.896504  "
      ]
     },
     "execution_count": 12,
     "metadata": {},
     "output_type": "execute_result"
    }
   ],
   "source": [
    "# Performing CV using recall\n",
    "result = em.select_matcher(matchers, table=H, \n",
    "        exclude_attrs=['_id', 'ltable_id', 'rtable_id', 'is_match'],\n",
    "        k=5,\n",
    "        target_attr='is_match', metric='recall', random_state=seed)\n",
    "result['cv_stats']"
   ]
  },
  {
   "cell_type": "code",
   "execution_count": 13,
   "metadata": {
    "collapsed": false,
    "deletable": true,
    "editable": true
   },
   "outputs": [
    {
     "data": {
      "text/html": [
       "<div>\n",
       "<table border=\"1\" class=\"dataframe\">\n",
       "  <thead>\n",
       "    <tr style=\"text-align: right;\">\n",
       "      <th></th>\n",
       "      <th>Name</th>\n",
       "      <th>Matcher</th>\n",
       "      <th>Num folds</th>\n",
       "      <th>Fold 1</th>\n",
       "      <th>Fold 2</th>\n",
       "      <th>Fold 3</th>\n",
       "      <th>Fold 4</th>\n",
       "      <th>Fold 5</th>\n",
       "      <th>Mean score</th>\n",
       "    </tr>\n",
       "  </thead>\n",
       "  <tbody>\n",
       "    <tr>\n",
       "      <th>0</th>\n",
       "      <td>DecisionTree</td>\n",
       "      <td>&lt;py_entitymatching.matcher.dtmatcher.DTMatcher object at 0x11322fac8&gt;</td>\n",
       "      <td>5</td>\n",
       "      <td>0.809524</td>\n",
       "      <td>0.857143</td>\n",
       "      <td>0.820513</td>\n",
       "      <td>0.727273</td>\n",
       "      <td>0.903226</td>\n",
       "      <td>0.823536</td>\n",
       "    </tr>\n",
       "    <tr>\n",
       "      <th>1</th>\n",
       "      <td>RF</td>\n",
       "      <td>&lt;py_entitymatching.matcher.rfmatcher.RFMatcher object at 0x11322fb00&gt;</td>\n",
       "      <td>5</td>\n",
       "      <td>0.878049</td>\n",
       "      <td>0.871795</td>\n",
       "      <td>0.918919</td>\n",
       "      <td>0.829268</td>\n",
       "      <td>0.827586</td>\n",
       "      <td>0.865123</td>\n",
       "    </tr>\n",
       "    <tr>\n",
       "      <th>2</th>\n",
       "      <td>SVM</td>\n",
       "      <td>&lt;py_entitymatching.matcher.svmmatcher.SVMMatcher object at 0x11322fba8&gt;</td>\n",
       "      <td>5</td>\n",
       "      <td>0.772727</td>\n",
       "      <td>0.851064</td>\n",
       "      <td>0.782609</td>\n",
       "      <td>0.816327</td>\n",
       "      <td>0.750000</td>\n",
       "      <td>0.794545</td>\n",
       "    </tr>\n",
       "    <tr>\n",
       "      <th>3</th>\n",
       "      <td>NB</td>\n",
       "      <td>&lt;py_entitymatching.matcher.nbmatcher.NBMatcher object at 0x11322fa58&gt;</td>\n",
       "      <td>5</td>\n",
       "      <td>0.829268</td>\n",
       "      <td>0.926829</td>\n",
       "      <td>0.823529</td>\n",
       "      <td>0.736842</td>\n",
       "      <td>0.720000</td>\n",
       "      <td>0.807294</td>\n",
       "    </tr>\n",
       "    <tr>\n",
       "      <th>4</th>\n",
       "      <td>LinReg</td>\n",
       "      <td>&lt;py_entitymatching.matcher.linregmatcher.LinRegMatcher object at 0x11322fc50&gt;</td>\n",
       "      <td>5</td>\n",
       "      <td>0.863636</td>\n",
       "      <td>0.976744</td>\n",
       "      <td>0.918919</td>\n",
       "      <td>0.829268</td>\n",
       "      <td>0.875000</td>\n",
       "      <td>0.892714</td>\n",
       "    </tr>\n",
       "    <tr>\n",
       "      <th>5</th>\n",
       "      <td>LogReg</td>\n",
       "      <td>&lt;py_entitymatching.matcher.logregmatcher.LogRegMatcher object at 0x11322fbe0&gt;</td>\n",
       "      <td>5</td>\n",
       "      <td>0.909091</td>\n",
       "      <td>1.000000</td>\n",
       "      <td>0.871795</td>\n",
       "      <td>0.800000</td>\n",
       "      <td>0.800000</td>\n",
       "      <td>0.876177</td>\n",
       "    </tr>\n",
       "  </tbody>\n",
       "</table>\n",
       "</div>"
      ],
      "text/plain": [
       "           Name  \\\n",
       "0  DecisionTree   \n",
       "1            RF   \n",
       "2           SVM   \n",
       "3            NB   \n",
       "4        LinReg   \n",
       "5        LogReg   \n",
       "\n",
       "                                                                         Matcher  \\\n",
       "0          <py_entitymatching.matcher.dtmatcher.DTMatcher object at 0x11322fac8>   \n",
       "1          <py_entitymatching.matcher.rfmatcher.RFMatcher object at 0x11322fb00>   \n",
       "2        <py_entitymatching.matcher.svmmatcher.SVMMatcher object at 0x11322fba8>   \n",
       "3          <py_entitymatching.matcher.nbmatcher.NBMatcher object at 0x11322fa58>   \n",
       "4  <py_entitymatching.matcher.linregmatcher.LinRegMatcher object at 0x11322fc50>   \n",
       "5  <py_entitymatching.matcher.logregmatcher.LogRegMatcher object at 0x11322fbe0>   \n",
       "\n",
       "   Num folds    Fold 1    Fold 2    Fold 3    Fold 4    Fold 5  Mean score  \n",
       "0          5  0.809524  0.857143  0.820513  0.727273  0.903226    0.823536  \n",
       "1          5  0.878049  0.871795  0.918919  0.829268  0.827586    0.865123  \n",
       "2          5  0.772727  0.851064  0.782609  0.816327  0.750000    0.794545  \n",
       "3          5  0.829268  0.926829  0.823529  0.736842  0.720000    0.807294  \n",
       "4          5  0.863636  0.976744  0.918919  0.829268  0.875000    0.892714  \n",
       "5          5  0.909091  1.000000  0.871795  0.800000  0.800000    0.876177  "
      ]
     },
     "execution_count": 13,
     "metadata": {},
     "output_type": "execute_result"
    }
   ],
   "source": [
    "# Performing CV using F-1\n",
    "result = em.select_matcher(matchers, table=H, \n",
    "        exclude_attrs=['_id', 'ltable_id', 'rtable_id', 'is_match'],\n",
    "        k=5,\n",
    "        target_attr='is_match', metric='f1', random_state=seed)\n",
    "result['cv_stats']"
   ]
  },
  {
   "cell_type": "markdown",
   "metadata": {
    "deletable": true,
    "editable": true
   },
   "source": [
    "We select random forest matcher for its highest precision."
   ]
  },
  {
   "cell_type": "markdown",
   "metadata": {
    "deletable": true,
    "editable": true
   },
   "source": [
    "### 3.5 Debug X (Random Forest)"
   ]
  },
  {
   "cell_type": "markdown",
   "metadata": {
    "deletable": true,
    "editable": true
   },
   "source": [
    "Split the feature vectors H of the development set I into a training set P and a testing set Q."
   ]
  },
  {
   "cell_type": "code",
   "execution_count": 14,
   "metadata": {
    "collapsed": true,
    "deletable": true,
    "editable": true
   },
   "outputs": [],
   "source": [
    "# Split H into P and Q\n",
    "PQ = em.split_train_test(H, train_proportion=0.5, random_state=seed)\n",
    "P = PQ['train']\n",
    "Q = PQ['test']"
   ]
  },
  {
   "cell_type": "markdown",
   "metadata": {
    "deletable": true,
    "editable": true
   },
   "source": [
    "We use the visual debugger for random forest provided by Magellen."
   ]
  },
  {
   "cell_type": "code",
   "execution_count": 15,
   "metadata": {
    "collapsed": true,
    "deletable": true,
    "editable": true
   },
   "outputs": [],
   "source": [
    "# Debug Random Forest matcher using GUI\n",
    "em.vis_debug_rf(rf, P, Q, \n",
    "        exclude_attrs=['_id', 'ltable_id', 'rtable_id', 'is_match'],\n",
    "        target_attr='is_match')"
   ]
  },
  {
   "cell_type": "markdown",
   "metadata": {
    "deletable": true,
    "editable": true
   },
   "source": [
    "First we figured out there are some wrong labels. See example below. "
   ]
  },
  {
   "cell_type": "code",
   "execution_count": 19,
   "metadata": {
    "collapsed": false
   },
   "outputs": [
    {
     "data": {
      "text/html": [
       "<div>\n",
       "<table border=\"1\" class=\"dataframe\">\n",
       "  <thead>\n",
       "    <tr style=\"text-align: right;\">\n",
       "      <th></th>\n",
       "      <th>Unnamed: 0</th>\n",
       "      <th>_id</th>\n",
       "      <th>ltable_id</th>\n",
       "      <th>rtable_id</th>\n",
       "      <th>ltable_Country</th>\n",
       "      <th>ltable_Industry</th>\n",
       "      <th>ltable_MarketValue</th>\n",
       "      <th>ltable_Name</th>\n",
       "      <th>rtable_Name</th>\n",
       "      <th>rtable_Country</th>\n",
       "      <th>rtable_Sector</th>\n",
       "      <th>rtable_Industry</th>\n",
       "      <th>rtable_MarketValue</th>\n",
       "      <th>is_match</th>\n",
       "    </tr>\n",
       "  </thead>\n",
       "  <tbody>\n",
       "    <tr>\n",
       "      <th>77</th>\n",
       "      <td>14222</td>\n",
       "      <td>14222</td>\n",
       "      <td>2513</td>\n",
       "      <td>1497</td>\n",
       "      <td>United States</td>\n",
       "      <td>Pipelines</td>\n",
       "      <td>3616</td>\n",
       "      <td>Enable Midstream Partners</td>\n",
       "      <td>EnLink Midstream Partners, LP</td>\n",
       "      <td>United States</td>\n",
       "      <td>Public Utilities</td>\n",
       "      <td>Natural Gas Distribution</td>\n",
       "      <td>6274.755698</td>\n",
       "      <td>1</td>\n",
       "    </tr>\n",
       "  </tbody>\n",
       "</table>\n",
       "</div>"
      ],
      "text/plain": [
       "    Unnamed: 0    _id  ltable_id  rtable_id ltable_Country ltable_Industry  \\\n",
       "77       14222  14222       2513       1497  United States       Pipelines   \n",
       "\n",
       "   ltable_MarketValue                ltable_Name  \\\n",
       "77               3616  Enable Midstream Partners   \n",
       "\n",
       "                      rtable_Name rtable_Country     rtable_Sector  \\\n",
       "77  EnLink Midstream Partners, LP  United States  Public Utilities   \n",
       "\n",
       "             rtable_Industry  rtable_MarketValue  is_match  \n",
       "77  Natural Gas Distribution         6274.755698         1  "
      ]
     },
     "execution_count": 19,
     "metadata": {},
     "output_type": "execute_result"
    }
   ],
   "source": [
    "S[77:78]"
   ]
  },
  {
   "cell_type": "markdown",
   "metadata": {},
   "source": [
    "After fixing the wrong labels manully we reload all the revised data."
   ]
  },
  {
   "cell_type": "code",
   "execution_count": 20,
   "metadata": {
    "collapsed": false
   },
   "outputs": [
    {
     "name": "stderr",
     "output_type": "stream",
     "text": [
      "Metadata file is not present in the given path; proceeding to read the csv file.\n"
     ]
    }
   ],
   "source": [
    "# Load the revised labeled data\n",
    "S = em.read_csv_metadata(data_dir + labeled_filename, \n",
    "                         key='_id',\n",
    "                         ltable=A, rtable=B, \n",
    "                         fk_ltable='ltable_id', fk_rtable='rtable_id',  encoding = \"ISO-8859-1\")"
   ]
  },
  {
   "cell_type": "code",
   "execution_count": 21,
   "metadata": {
    "collapsed": false
   },
   "outputs": [
    {
     "name": "stdout",
     "output_type": "stream",
     "text": [
      "Counter({1: 100, 0: 80})\n",
      "Counter({0: 60, 1: 60})\n"
     ]
    }
   ],
   "source": [
    "# Split S into I an J\n",
    "IJ = em.split_train_test(S, train_proportion=0.6, random_state=seed)\n",
    "I = IJ['train']\n",
    "J = IJ['test']\n",
    "print(Counter(I.is_match))\n",
    "print(Counter(J.is_match))"
   ]
  },
  {
   "cell_type": "markdown",
   "metadata": {},
   "source": [
    "Save revised split I, J into files. "
   ]
  },
  {
   "cell_type": "code",
   "execution_count": 22,
   "metadata": {
    "collapsed": true
   },
   "outputs": [],
   "source": [
    "I.to_csv(data_dir +\"I_revised.csv\")\n",
    "J.to_csv(data_dir +\"J_revised.csv\")"
   ]
  },
  {
   "cell_type": "markdown",
   "metadata": {},
   "source": [
    "And recalculate feature vectors."
   ]
  },
  {
   "cell_type": "code",
   "execution_count": 23,
   "metadata": {
    "collapsed": false
   },
   "outputs": [
    {
     "data": {
      "text/html": [
       "<div>\n",
       "<table border=\"1\" class=\"dataframe\">\n",
       "  <thead>\n",
       "    <tr style=\"text-align: right;\">\n",
       "      <th></th>\n",
       "      <th>_id</th>\n",
       "      <th>ltable_id</th>\n",
       "      <th>rtable_id</th>\n",
       "      <th>id_id_exm</th>\n",
       "      <th>id_id_anm</th>\n",
       "      <th>id_id_lev_dist</th>\n",
       "      <th>id_id_lev_sim</th>\n",
       "      <th>Name_Name_jac_qgm_3_qgm_3</th>\n",
       "      <th>Name_Name_cos_dlm_dc0_dlm_dc0</th>\n",
       "      <th>Name_Name_jac_dlm_dc0_dlm_dc0</th>\n",
       "      <th>...</th>\n",
       "      <th>Country_Country_sw</th>\n",
       "      <th>Industry_Industry_jac_qgm_3_qgm_3</th>\n",
       "      <th>Industry_Industry_cos_dlm_dc0_dlm_dc0</th>\n",
       "      <th>Industry_Industry_jac_dlm_dc0_dlm_dc0</th>\n",
       "      <th>Industry_Industry_mel</th>\n",
       "      <th>Industry_Industry_lev_dist</th>\n",
       "      <th>Industry_Industry_lev_sim</th>\n",
       "      <th>Industry_Industry_nmw</th>\n",
       "      <th>Industry_Industry_sw</th>\n",
       "      <th>is_match</th>\n",
       "    </tr>\n",
       "  </thead>\n",
       "  <tbody>\n",
       "    <tr>\n",
       "      <th>29</th>\n",
       "      <td>4438</td>\n",
       "      <td>1907</td>\n",
       "      <td>564</td>\n",
       "      <td>0</td>\n",
       "      <td>0.295752</td>\n",
       "      <td>4</td>\n",
       "      <td>0.00</td>\n",
       "      <td>0.130435</td>\n",
       "      <td>0.000000</td>\n",
       "      <td>0.000000</td>\n",
       "      <td>...</td>\n",
       "      <td>13.0</td>\n",
       "      <td>0.000000</td>\n",
       "      <td>0.0</td>\n",
       "      <td>0.000000</td>\n",
       "      <td>0.461988</td>\n",
       "      <td>18.0</td>\n",
       "      <td>0.052632</td>\n",
       "      <td>-15.0</td>\n",
       "      <td>1.0</td>\n",
       "      <td>1</td>\n",
       "    </tr>\n",
       "    <tr>\n",
       "      <th>146</th>\n",
       "      <td>23473</td>\n",
       "      <td>1881</td>\n",
       "      <td>2550</td>\n",
       "      <td>0</td>\n",
       "      <td>0.737647</td>\n",
       "      <td>4</td>\n",
       "      <td>0.00</td>\n",
       "      <td>0.163636</td>\n",
       "      <td>0.250000</td>\n",
       "      <td>0.142857</td>\n",
       "      <td>...</td>\n",
       "      <td>13.0</td>\n",
       "      <td>0.015625</td>\n",
       "      <td>0.0</td>\n",
       "      <td>0.000000</td>\n",
       "      <td>0.552717</td>\n",
       "      <td>33.0</td>\n",
       "      <td>0.175000</td>\n",
       "      <td>-10.0</td>\n",
       "      <td>4.0</td>\n",
       "      <td>0</td>\n",
       "    </tr>\n",
       "    <tr>\n",
       "      <th>16</th>\n",
       "      <td>2770</td>\n",
       "      <td>870</td>\n",
       "      <td>302</td>\n",
       "      <td>0</td>\n",
       "      <td>0.347126</td>\n",
       "      <td>3</td>\n",
       "      <td>0.00</td>\n",
       "      <td>0.357143</td>\n",
       "      <td>0.707107</td>\n",
       "      <td>0.500000</td>\n",
       "      <td>...</td>\n",
       "      <td>13.0</td>\n",
       "      <td>0.264706</td>\n",
       "      <td>0.5</td>\n",
       "      <td>0.333333</td>\n",
       "      <td>0.833601</td>\n",
       "      <td>10.0</td>\n",
       "      <td>0.545455</td>\n",
       "      <td>7.0</td>\n",
       "      <td>11.0</td>\n",
       "      <td>1</td>\n",
       "    </tr>\n",
       "    <tr>\n",
       "      <th>56</th>\n",
       "      <td>11077</td>\n",
       "      <td>1298</td>\n",
       "      <td>1014</td>\n",
       "      <td>0</td>\n",
       "      <td>0.781202</td>\n",
       "      <td>3</td>\n",
       "      <td>0.25</td>\n",
       "      <td>0.266667</td>\n",
       "      <td>0.353553</td>\n",
       "      <td>0.200000</td>\n",
       "      <td>...</td>\n",
       "      <td>13.0</td>\n",
       "      <td>0.018519</td>\n",
       "      <td>0.0</td>\n",
       "      <td>0.000000</td>\n",
       "      <td>0.608140</td>\n",
       "      <td>28.0</td>\n",
       "      <td>0.200000</td>\n",
       "      <td>-10.0</td>\n",
       "      <td>4.0</td>\n",
       "      <td>0</td>\n",
       "    </tr>\n",
       "    <tr>\n",
       "      <th>75</th>\n",
       "      <td>13987</td>\n",
       "      <td>1366</td>\n",
       "      <td>1467</td>\n",
       "      <td>0</td>\n",
       "      <td>0.931152</td>\n",
       "      <td>2</td>\n",
       "      <td>0.50</td>\n",
       "      <td>0.571429</td>\n",
       "      <td>0.816497</td>\n",
       "      <td>0.666667</td>\n",
       "      <td>...</td>\n",
       "      <td>13.0</td>\n",
       "      <td>0.078431</td>\n",
       "      <td>0.0</td>\n",
       "      <td>0.000000</td>\n",
       "      <td>0.589068</td>\n",
       "      <td>22.0</td>\n",
       "      <td>0.290323</td>\n",
       "      <td>-2.0</td>\n",
       "      <td>7.0</td>\n",
       "      <td>1</td>\n",
       "    </tr>\n",
       "  </tbody>\n",
       "</table>\n",
       "<p>5 rows × 32 columns</p>\n",
       "</div>"
      ],
      "text/plain": [
       "       _id  ltable_id  rtable_id  id_id_exm  id_id_anm  id_id_lev_dist  \\\n",
       "29    4438       1907        564          0   0.295752               4   \n",
       "146  23473       1881       2550          0   0.737647               4   \n",
       "16    2770        870        302          0   0.347126               3   \n",
       "56   11077       1298       1014          0   0.781202               3   \n",
       "75   13987       1366       1467          0   0.931152               2   \n",
       "\n",
       "     id_id_lev_sim  Name_Name_jac_qgm_3_qgm_3  Name_Name_cos_dlm_dc0_dlm_dc0  \\\n",
       "29            0.00                   0.130435                       0.000000   \n",
       "146           0.00                   0.163636                       0.250000   \n",
       "16            0.00                   0.357143                       0.707107   \n",
       "56            0.25                   0.266667                       0.353553   \n",
       "75            0.50                   0.571429                       0.816497   \n",
       "\n",
       "     Name_Name_jac_dlm_dc0_dlm_dc0    ...     Country_Country_sw  \\\n",
       "29                        0.000000    ...                   13.0   \n",
       "146                       0.142857    ...                   13.0   \n",
       "16                        0.500000    ...                   13.0   \n",
       "56                        0.200000    ...                   13.0   \n",
       "75                        0.666667    ...                   13.0   \n",
       "\n",
       "     Industry_Industry_jac_qgm_3_qgm_3  Industry_Industry_cos_dlm_dc0_dlm_dc0  \\\n",
       "29                            0.000000                                    0.0   \n",
       "146                           0.015625                                    0.0   \n",
       "16                            0.264706                                    0.5   \n",
       "56                            0.018519                                    0.0   \n",
       "75                            0.078431                                    0.0   \n",
       "\n",
       "     Industry_Industry_jac_dlm_dc0_dlm_dc0  Industry_Industry_mel  \\\n",
       "29                                0.000000               0.461988   \n",
       "146                               0.000000               0.552717   \n",
       "16                                0.333333               0.833601   \n",
       "56                                0.000000               0.608140   \n",
       "75                                0.000000               0.589068   \n",
       "\n",
       "     Industry_Industry_lev_dist  Industry_Industry_lev_sim  \\\n",
       "29                         18.0                   0.052632   \n",
       "146                        33.0                   0.175000   \n",
       "16                         10.0                   0.545455   \n",
       "56                         28.0                   0.200000   \n",
       "75                         22.0                   0.290323   \n",
       "\n",
       "     Industry_Industry_nmw  Industry_Industry_sw  is_match  \n",
       "29                   -15.0                   1.0         1  \n",
       "146                  -10.0                   4.0         0  \n",
       "16                     7.0                  11.0         1  \n",
       "56                   -10.0                   4.0         0  \n",
       "75                    -2.0                   7.0         1  \n",
       "\n",
       "[5 rows x 32 columns]"
      ]
     },
     "execution_count": 23,
     "metadata": {},
     "output_type": "execute_result"
    }
   ],
   "source": [
    "# Convert the I into a set of feature vectors using F\n",
    "H = em.extract_feature_vecs(I, \n",
    "                            feature_table=F, \n",
    "                            attrs_after='is_match',\n",
    "                            show_progress=False)  \n",
    "# Display first few rows\n",
    "H.head()"
   ]
  },
  {
   "cell_type": "code",
   "execution_count": 24,
   "metadata": {
    "collapsed": true
   },
   "outputs": [],
   "source": [
    "# Impute feature vectors with the mean of the column values.\n",
    "H = em.impute_table(H, \n",
    "                exclude_attrs=['_id', 'ltable_id', 'rtable_id', 'is_match'],\n",
    "                strategy='mean')"
   ]
  },
  {
   "cell_type": "markdown",
   "metadata": {},
   "source": [
    "### 3.6 Selecting the best matcher using cross-validation - Round 2"
   ]
  },
  {
   "cell_type": "code",
   "execution_count": 25,
   "metadata": {
    "collapsed": false,
    "deletable": true,
    "editable": true
   },
   "outputs": [
    {
     "data": {
      "text/html": [
       "<div>\n",
       "<table border=\"1\" class=\"dataframe\">\n",
       "  <thead>\n",
       "    <tr style=\"text-align: right;\">\n",
       "      <th></th>\n",
       "      <th>Name</th>\n",
       "      <th>Matcher</th>\n",
       "      <th>Num folds</th>\n",
       "      <th>Fold 1</th>\n",
       "      <th>Fold 2</th>\n",
       "      <th>Fold 3</th>\n",
       "      <th>Fold 4</th>\n",
       "      <th>Fold 5</th>\n",
       "      <th>Mean score</th>\n",
       "    </tr>\n",
       "  </thead>\n",
       "  <tbody>\n",
       "    <tr>\n",
       "      <th>0</th>\n",
       "      <td>DecisionTree</td>\n",
       "      <td>&lt;py_entitymatching.matcher.dtmatcher.DTMatcher object at 0x11322fac8&gt;</td>\n",
       "      <td>5</td>\n",
       "      <td>0.850000</td>\n",
       "      <td>0.9</td>\n",
       "      <td>0.761905</td>\n",
       "      <td>0.761905</td>\n",
       "      <td>0.875000</td>\n",
       "      <td>0.829762</td>\n",
       "    </tr>\n",
       "    <tr>\n",
       "      <th>1</th>\n",
       "      <td>RF</td>\n",
       "      <td>&lt;py_entitymatching.matcher.rfmatcher.RFMatcher object at 0x11322fb00&gt;</td>\n",
       "      <td>5</td>\n",
       "      <td>0.947368</td>\n",
       "      <td>1.0</td>\n",
       "      <td>0.894737</td>\n",
       "      <td>0.944444</td>\n",
       "      <td>0.857143</td>\n",
       "      <td>0.928739</td>\n",
       "    </tr>\n",
       "    <tr>\n",
       "      <th>2</th>\n",
       "      <td>SVM</td>\n",
       "      <td>&lt;py_entitymatching.matcher.svmmatcher.SVMMatcher object at 0x11322fba8&gt;</td>\n",
       "      <td>5</td>\n",
       "      <td>0.772727</td>\n",
       "      <td>0.8</td>\n",
       "      <td>0.642857</td>\n",
       "      <td>0.769231</td>\n",
       "      <td>0.600000</td>\n",
       "      <td>0.716963</td>\n",
       "    </tr>\n",
       "    <tr>\n",
       "      <th>3</th>\n",
       "      <td>NB</td>\n",
       "      <td>&lt;py_entitymatching.matcher.nbmatcher.NBMatcher object at 0x11322fa58&gt;</td>\n",
       "      <td>5</td>\n",
       "      <td>0.894737</td>\n",
       "      <td>1.0</td>\n",
       "      <td>0.875000</td>\n",
       "      <td>0.933333</td>\n",
       "      <td>0.900000</td>\n",
       "      <td>0.920614</td>\n",
       "    </tr>\n",
       "    <tr>\n",
       "      <th>4</th>\n",
       "      <td>LinReg</td>\n",
       "      <td>&lt;py_entitymatching.matcher.linregmatcher.LinRegMatcher object at 0x11322fc50&gt;</td>\n",
       "      <td>5</td>\n",
       "      <td>0.863636</td>\n",
       "      <td>1.0</td>\n",
       "      <td>0.894737</td>\n",
       "      <td>0.944444</td>\n",
       "      <td>0.823529</td>\n",
       "      <td>0.905269</td>\n",
       "    </tr>\n",
       "    <tr>\n",
       "      <th>5</th>\n",
       "      <td>LogReg</td>\n",
       "      <td>&lt;py_entitymatching.matcher.logregmatcher.LogRegMatcher object at 0x11322fbe0&gt;</td>\n",
       "      <td>5</td>\n",
       "      <td>0.909091</td>\n",
       "      <td>1.0</td>\n",
       "      <td>0.809524</td>\n",
       "      <td>0.941176</td>\n",
       "      <td>0.700000</td>\n",
       "      <td>0.871958</td>\n",
       "    </tr>\n",
       "  </tbody>\n",
       "</table>\n",
       "</div>"
      ],
      "text/plain": [
       "           Name  \\\n",
       "0  DecisionTree   \n",
       "1            RF   \n",
       "2           SVM   \n",
       "3            NB   \n",
       "4        LinReg   \n",
       "5        LogReg   \n",
       "\n",
       "                                                                         Matcher  \\\n",
       "0          <py_entitymatching.matcher.dtmatcher.DTMatcher object at 0x11322fac8>   \n",
       "1          <py_entitymatching.matcher.rfmatcher.RFMatcher object at 0x11322fb00>   \n",
       "2        <py_entitymatching.matcher.svmmatcher.SVMMatcher object at 0x11322fba8>   \n",
       "3          <py_entitymatching.matcher.nbmatcher.NBMatcher object at 0x11322fa58>   \n",
       "4  <py_entitymatching.matcher.linregmatcher.LinRegMatcher object at 0x11322fc50>   \n",
       "5  <py_entitymatching.matcher.logregmatcher.LogRegMatcher object at 0x11322fbe0>   \n",
       "\n",
       "   Num folds    Fold 1  Fold 2    Fold 3    Fold 4    Fold 5  Mean score  \n",
       "0          5  0.850000     0.9  0.761905  0.761905  0.875000    0.829762  \n",
       "1          5  0.947368     1.0  0.894737  0.944444  0.857143    0.928739  \n",
       "2          5  0.772727     0.8  0.642857  0.769231  0.600000    0.716963  \n",
       "3          5  0.894737     1.0  0.875000  0.933333  0.900000    0.920614  \n",
       "4          5  0.863636     1.0  0.894737  0.944444  0.823529    0.905269  \n",
       "5          5  0.909091     1.0  0.809524  0.941176  0.700000    0.871958  "
      ]
     },
     "execution_count": 25,
     "metadata": {},
     "output_type": "execute_result"
    }
   ],
   "source": [
    "# Performing CV using precision\n",
    "result = em.select_matcher(matchers, table=H, \n",
    "        exclude_attrs=['_id', 'ltable_id', 'rtable_id', 'is_match'],\n",
    "        k=5,\n",
    "        target_attr='is_match', metric='precision', random_state=seed)\n",
    "result['cv_stats']"
   ]
  },
  {
   "cell_type": "code",
   "execution_count": 26,
   "metadata": {
    "collapsed": false,
    "deletable": true,
    "editable": true
   },
   "outputs": [
    {
     "data": {
      "text/html": [
       "<div>\n",
       "<table border=\"1\" class=\"dataframe\">\n",
       "  <thead>\n",
       "    <tr style=\"text-align: right;\">\n",
       "      <th></th>\n",
       "      <th>Name</th>\n",
       "      <th>Matcher</th>\n",
       "      <th>Num folds</th>\n",
       "      <th>Fold 1</th>\n",
       "      <th>Fold 2</th>\n",
       "      <th>Fold 3</th>\n",
       "      <th>Fold 4</th>\n",
       "      <th>Fold 5</th>\n",
       "      <th>Mean score</th>\n",
       "    </tr>\n",
       "  </thead>\n",
       "  <tbody>\n",
       "    <tr>\n",
       "      <th>0</th>\n",
       "      <td>DecisionTree</td>\n",
       "      <td>&lt;py_entitymatching.matcher.dtmatcher.DTMatcher object at 0x11322fac8&gt;</td>\n",
       "      <td>5</td>\n",
       "      <td>0.772727</td>\n",
       "      <td>0.818182</td>\n",
       "      <td>0.888889</td>\n",
       "      <td>0.695652</td>\n",
       "      <td>0.933333</td>\n",
       "      <td>0.821757</td>\n",
       "    </tr>\n",
       "    <tr>\n",
       "      <th>1</th>\n",
       "      <td>RF</td>\n",
       "      <td>&lt;py_entitymatching.matcher.rfmatcher.RFMatcher object at 0x11322fb00&gt;</td>\n",
       "      <td>5</td>\n",
       "      <td>0.818182</td>\n",
       "      <td>0.772727</td>\n",
       "      <td>0.944444</td>\n",
       "      <td>0.739130</td>\n",
       "      <td>0.800000</td>\n",
       "      <td>0.814897</td>\n",
       "    </tr>\n",
       "    <tr>\n",
       "      <th>2</th>\n",
       "      <td>SVM</td>\n",
       "      <td>&lt;py_entitymatching.matcher.svmmatcher.SVMMatcher object at 0x11322fba8&gt;</td>\n",
       "      <td>5</td>\n",
       "      <td>0.772727</td>\n",
       "      <td>0.909091</td>\n",
       "      <td>1.000000</td>\n",
       "      <td>0.869565</td>\n",
       "      <td>1.000000</td>\n",
       "      <td>0.910277</td>\n",
       "    </tr>\n",
       "    <tr>\n",
       "      <th>3</th>\n",
       "      <td>NB</td>\n",
       "      <td>&lt;py_entitymatching.matcher.nbmatcher.NBMatcher object at 0x11322fa58&gt;</td>\n",
       "      <td>5</td>\n",
       "      <td>0.772727</td>\n",
       "      <td>0.863636</td>\n",
       "      <td>0.777778</td>\n",
       "      <td>0.608696</td>\n",
       "      <td>0.600000</td>\n",
       "      <td>0.724567</td>\n",
       "    </tr>\n",
       "    <tr>\n",
       "      <th>4</th>\n",
       "      <td>LinReg</td>\n",
       "      <td>&lt;py_entitymatching.matcher.linregmatcher.LinRegMatcher object at 0x11322fc50&gt;</td>\n",
       "      <td>5</td>\n",
       "      <td>0.863636</td>\n",
       "      <td>0.954545</td>\n",
       "      <td>0.944444</td>\n",
       "      <td>0.739130</td>\n",
       "      <td>0.933333</td>\n",
       "      <td>0.887018</td>\n",
       "    </tr>\n",
       "    <tr>\n",
       "      <th>5</th>\n",
       "      <td>LogReg</td>\n",
       "      <td>&lt;py_entitymatching.matcher.logregmatcher.LogRegMatcher object at 0x11322fbe0&gt;</td>\n",
       "      <td>5</td>\n",
       "      <td>0.909091</td>\n",
       "      <td>1.000000</td>\n",
       "      <td>0.944444</td>\n",
       "      <td>0.695652</td>\n",
       "      <td>0.933333</td>\n",
       "      <td>0.896504</td>\n",
       "    </tr>\n",
       "  </tbody>\n",
       "</table>\n",
       "</div>"
      ],
      "text/plain": [
       "           Name  \\\n",
       "0  DecisionTree   \n",
       "1            RF   \n",
       "2           SVM   \n",
       "3            NB   \n",
       "4        LinReg   \n",
       "5        LogReg   \n",
       "\n",
       "                                                                         Matcher  \\\n",
       "0          <py_entitymatching.matcher.dtmatcher.DTMatcher object at 0x11322fac8>   \n",
       "1          <py_entitymatching.matcher.rfmatcher.RFMatcher object at 0x11322fb00>   \n",
       "2        <py_entitymatching.matcher.svmmatcher.SVMMatcher object at 0x11322fba8>   \n",
       "3          <py_entitymatching.matcher.nbmatcher.NBMatcher object at 0x11322fa58>   \n",
       "4  <py_entitymatching.matcher.linregmatcher.LinRegMatcher object at 0x11322fc50>   \n",
       "5  <py_entitymatching.matcher.logregmatcher.LogRegMatcher object at 0x11322fbe0>   \n",
       "\n",
       "   Num folds    Fold 1    Fold 2    Fold 3    Fold 4    Fold 5  Mean score  \n",
       "0          5  0.772727  0.818182  0.888889  0.695652  0.933333    0.821757  \n",
       "1          5  0.818182  0.772727  0.944444  0.739130  0.800000    0.814897  \n",
       "2          5  0.772727  0.909091  1.000000  0.869565  1.000000    0.910277  \n",
       "3          5  0.772727  0.863636  0.777778  0.608696  0.600000    0.724567  \n",
       "4          5  0.863636  0.954545  0.944444  0.739130  0.933333    0.887018  \n",
       "5          5  0.909091  1.000000  0.944444  0.695652  0.933333    0.896504  "
      ]
     },
     "execution_count": 26,
     "metadata": {},
     "output_type": "execute_result"
    }
   ],
   "source": [
    "# Performing CV using recall\n",
    "result = em.select_matcher(matchers, table=H, \n",
    "        exclude_attrs=['_id', 'ltable_id', 'rtable_id', 'is_match'],\n",
    "        k=5,\n",
    "        target_attr='is_match', metric='recall', random_state=seed)\n",
    "result['cv_stats']"
   ]
  },
  {
   "cell_type": "code",
   "execution_count": 27,
   "metadata": {
    "collapsed": false,
    "deletable": true,
    "editable": true
   },
   "outputs": [
    {
     "data": {
      "text/html": [
       "<div>\n",
       "<table border=\"1\" class=\"dataframe\">\n",
       "  <thead>\n",
       "    <tr style=\"text-align: right;\">\n",
       "      <th></th>\n",
       "      <th>Name</th>\n",
       "      <th>Matcher</th>\n",
       "      <th>Num folds</th>\n",
       "      <th>Fold 1</th>\n",
       "      <th>Fold 2</th>\n",
       "      <th>Fold 3</th>\n",
       "      <th>Fold 4</th>\n",
       "      <th>Fold 5</th>\n",
       "      <th>Mean score</th>\n",
       "    </tr>\n",
       "  </thead>\n",
       "  <tbody>\n",
       "    <tr>\n",
       "      <th>0</th>\n",
       "      <td>DecisionTree</td>\n",
       "      <td>&lt;py_entitymatching.matcher.dtmatcher.DTMatcher object at 0x11322fac8&gt;</td>\n",
       "      <td>5</td>\n",
       "      <td>0.809524</td>\n",
       "      <td>0.857143</td>\n",
       "      <td>0.820513</td>\n",
       "      <td>0.727273</td>\n",
       "      <td>0.903226</td>\n",
       "      <td>0.823536</td>\n",
       "    </tr>\n",
       "    <tr>\n",
       "      <th>1</th>\n",
       "      <td>RF</td>\n",
       "      <td>&lt;py_entitymatching.matcher.rfmatcher.RFMatcher object at 0x11322fb00&gt;</td>\n",
       "      <td>5</td>\n",
       "      <td>0.878049</td>\n",
       "      <td>0.871795</td>\n",
       "      <td>0.918919</td>\n",
       "      <td>0.829268</td>\n",
       "      <td>0.827586</td>\n",
       "      <td>0.865123</td>\n",
       "    </tr>\n",
       "    <tr>\n",
       "      <th>2</th>\n",
       "      <td>SVM</td>\n",
       "      <td>&lt;py_entitymatching.matcher.svmmatcher.SVMMatcher object at 0x11322fba8&gt;</td>\n",
       "      <td>5</td>\n",
       "      <td>0.772727</td>\n",
       "      <td>0.851064</td>\n",
       "      <td>0.782609</td>\n",
       "      <td>0.816327</td>\n",
       "      <td>0.750000</td>\n",
       "      <td>0.794545</td>\n",
       "    </tr>\n",
       "    <tr>\n",
       "      <th>3</th>\n",
       "      <td>NB</td>\n",
       "      <td>&lt;py_entitymatching.matcher.nbmatcher.NBMatcher object at 0x11322fa58&gt;</td>\n",
       "      <td>5</td>\n",
       "      <td>0.829268</td>\n",
       "      <td>0.926829</td>\n",
       "      <td>0.823529</td>\n",
       "      <td>0.736842</td>\n",
       "      <td>0.720000</td>\n",
       "      <td>0.807294</td>\n",
       "    </tr>\n",
       "    <tr>\n",
       "      <th>4</th>\n",
       "      <td>LinReg</td>\n",
       "      <td>&lt;py_entitymatching.matcher.linregmatcher.LinRegMatcher object at 0x11322fc50&gt;</td>\n",
       "      <td>5</td>\n",
       "      <td>0.863636</td>\n",
       "      <td>0.976744</td>\n",
       "      <td>0.918919</td>\n",
       "      <td>0.829268</td>\n",
       "      <td>0.875000</td>\n",
       "      <td>0.892714</td>\n",
       "    </tr>\n",
       "    <tr>\n",
       "      <th>5</th>\n",
       "      <td>LogReg</td>\n",
       "      <td>&lt;py_entitymatching.matcher.logregmatcher.LogRegMatcher object at 0x11322fbe0&gt;</td>\n",
       "      <td>5</td>\n",
       "      <td>0.909091</td>\n",
       "      <td>1.000000</td>\n",
       "      <td>0.871795</td>\n",
       "      <td>0.800000</td>\n",
       "      <td>0.800000</td>\n",
       "      <td>0.876177</td>\n",
       "    </tr>\n",
       "  </tbody>\n",
       "</table>\n",
       "</div>"
      ],
      "text/plain": [
       "           Name  \\\n",
       "0  DecisionTree   \n",
       "1            RF   \n",
       "2           SVM   \n",
       "3            NB   \n",
       "4        LinReg   \n",
       "5        LogReg   \n",
       "\n",
       "                                                                         Matcher  \\\n",
       "0          <py_entitymatching.matcher.dtmatcher.DTMatcher object at 0x11322fac8>   \n",
       "1          <py_entitymatching.matcher.rfmatcher.RFMatcher object at 0x11322fb00>   \n",
       "2        <py_entitymatching.matcher.svmmatcher.SVMMatcher object at 0x11322fba8>   \n",
       "3          <py_entitymatching.matcher.nbmatcher.NBMatcher object at 0x11322fa58>   \n",
       "4  <py_entitymatching.matcher.linregmatcher.LinRegMatcher object at 0x11322fc50>   \n",
       "5  <py_entitymatching.matcher.logregmatcher.LogRegMatcher object at 0x11322fbe0>   \n",
       "\n",
       "   Num folds    Fold 1    Fold 2    Fold 3    Fold 4    Fold 5  Mean score  \n",
       "0          5  0.809524  0.857143  0.820513  0.727273  0.903226    0.823536  \n",
       "1          5  0.878049  0.871795  0.918919  0.829268  0.827586    0.865123  \n",
       "2          5  0.772727  0.851064  0.782609  0.816327  0.750000    0.794545  \n",
       "3          5  0.829268  0.926829  0.823529  0.736842  0.720000    0.807294  \n",
       "4          5  0.863636  0.976744  0.918919  0.829268  0.875000    0.892714  \n",
       "5          5  0.909091  1.000000  0.871795  0.800000  0.800000    0.876177  "
      ]
     },
     "execution_count": 27,
     "metadata": {},
     "output_type": "execute_result"
    }
   ],
   "source": [
    "# Performing CV using F-1\n",
    "result = em.select_matcher(matchers, table=H, \n",
    "        exclude_attrs=['_id', 'ltable_id', 'rtable_id', 'is_match'],\n",
    "        k=5,\n",
    "        target_attr='is_match', metric='f1', random_state=seed)\n",
    "result['cv_stats']"
   ]
  },
  {
   "cell_type": "markdown",
   "metadata": {},
   "source": [
    "### 3.7 Debug X (Random Forest) - Round 2\n",
    "\n",
    "Since the precision of X is already above 90%. we focus on false negatives in order to improve recall."
   ]
  },
  {
   "cell_type": "code",
   "execution_count": 28,
   "metadata": {
    "collapsed": true,
    "deletable": true,
    "editable": true
   },
   "outputs": [],
   "source": [
    "# Split H into P and Q\n",
    "PQ = em.split_train_test(H, train_proportion=0.5, random_state=seed)\n",
    "P = PQ['train']\n",
    "Q = PQ['test']"
   ]
  },
  {
   "cell_type": "markdown",
   "metadata": {
    "deletable": true,
    "editable": true
   },
   "source": [
    "We use the visual debugger for random forest provided by Magellen."
   ]
  },
  {
   "cell_type": "code",
   "execution_count": 29,
   "metadata": {
    "collapsed": true,
    "deletable": true,
    "editable": true
   },
   "outputs": [],
   "source": [
    "# Debug Random Forest matcher using GUI\n",
    "em.vis_debug_rf(rf, P, Q, \n",
    "        exclude_attrs=['_id', 'ltable_id', 'rtable_id', 'is_match'],\n",
    "        target_attr='is_match')"
   ]
  },
  {
   "cell_type": "markdown",
   "metadata": {},
   "source": [
    "- Add new feature\n",
    "\n",
    "The \"MarketValue\" features are similar for same companies in the two tables. Thus, We add the feature to calculate the ratio of \"MarketValue\" for the instances from two tables. Same company should have similar market value in the two tables, aka. the ratio should be close to 1. We use 0 if either value from the two table is missing."
   ]
  },
  {
   "cell_type": "code",
   "execution_count": 30,
   "metadata": {
    "collapsed": false,
    "deletable": true,
    "editable": true
   },
   "outputs": [
    {
     "data": {
      "text/plain": [
       "True"
      ]
     },
     "execution_count": 30,
     "metadata": {},
     "output_type": "execute_result"
    }
   ],
   "source": [
    "# Add some new feature to F\n",
    "def MarketValue_ratio(ltuple, rtuple) :\n",
    "    try :\n",
    "        return float(ltuple.MarketValue) / float(rtuple.MarketValue)\n",
    "    except ValueError :\n",
    "        return 0\n",
    "em.add_blackbox_feature(F, 'MarketValue_ratio', MarketValue_ratio)"
   ]
  },
  {
   "cell_type": "markdown",
   "metadata": {},
   "source": [
    "Recalculate feature vectors."
   ]
  },
  {
   "cell_type": "code",
   "execution_count": 31,
   "metadata": {
    "collapsed": false,
    "deletable": true,
    "editable": true
   },
   "outputs": [],
   "source": [
    "# Convert I into feature vectors using updated F\n",
    "H = em.extract_feature_vecs(I, \n",
    "                            feature_table=F, \n",
    "                            attrs_after='is_match',\n",
    "                            show_progress=False)\n",
    "# Impute feature vectors with the mean of the column values.\n",
    "H = em.impute_table(H, \n",
    "                exclude_attrs=['_id', 'ltable_id', 'rtable_id', 'is_match'],\n",
    "                strategy='mean')"
   ]
  },
  {
   "cell_type": "markdown",
   "metadata": {},
   "source": [
    "Evaluate X again with the new feature."
   ]
  },
  {
   "cell_type": "code",
   "execution_count": 32,
   "metadata": {
    "collapsed": false,
    "deletable": true,
    "editable": true
   },
   "outputs": [
    {
     "data": {
      "text/html": [
       "<div>\n",
       "<table border=\"1\" class=\"dataframe\">\n",
       "  <thead>\n",
       "    <tr style=\"text-align: right;\">\n",
       "      <th></th>\n",
       "      <th>Name</th>\n",
       "      <th>Matcher</th>\n",
       "      <th>Num folds</th>\n",
       "      <th>Fold 1</th>\n",
       "      <th>Fold 2</th>\n",
       "      <th>Fold 3</th>\n",
       "      <th>Fold 4</th>\n",
       "      <th>Fold 5</th>\n",
       "      <th>Mean score</th>\n",
       "    </tr>\n",
       "  </thead>\n",
       "  <tbody>\n",
       "    <tr>\n",
       "      <th>0</th>\n",
       "      <td>RF</td>\n",
       "      <td>&lt;py_entitymatching.matcher.rfmatcher.RFMatcher object at 0x11322fb00&gt;</td>\n",
       "      <td>5</td>\n",
       "      <td>0.869565</td>\n",
       "      <td>1.0</td>\n",
       "      <td>0.894737</td>\n",
       "      <td>0.904762</td>\n",
       "      <td>0.933333</td>\n",
       "      <td>0.920479</td>\n",
       "    </tr>\n",
       "  </tbody>\n",
       "</table>\n",
       "</div>"
      ],
      "text/plain": [
       "  Name                                                                Matcher  \\\n",
       "0   RF  <py_entitymatching.matcher.rfmatcher.RFMatcher object at 0x11322fb00>   \n",
       "\n",
       "   Num folds    Fold 1  Fold 2    Fold 3    Fold 4    Fold 5  Mean score  \n",
       "0          5  0.869565     1.0  0.894737  0.904762  0.933333    0.920479  "
      ]
     },
     "execution_count": 32,
     "metadata": {},
     "output_type": "execute_result"
    }
   ],
   "source": [
    "# Check whether the updated precison improves X \n",
    "result = em.select_matcher([rf], table=H, \n",
    "        exclude_attrs=['_id', 'ltable_id', 'rtable_id', 'is_match'],\n",
    "        k=5,\n",
    "        target_attr='is_match', metric='precision', random_state=0)\n",
    "result['cv_stats']"
   ]
  },
  {
   "cell_type": "code",
   "execution_count": 33,
   "metadata": {
    "collapsed": false
   },
   "outputs": [
    {
     "data": {
      "text/html": [
       "<div>\n",
       "<table border=\"1\" class=\"dataframe\">\n",
       "  <thead>\n",
       "    <tr style=\"text-align: right;\">\n",
       "      <th></th>\n",
       "      <th>Name</th>\n",
       "      <th>Matcher</th>\n",
       "      <th>Num folds</th>\n",
       "      <th>Fold 1</th>\n",
       "      <th>Fold 2</th>\n",
       "      <th>Fold 3</th>\n",
       "      <th>Fold 4</th>\n",
       "      <th>Fold 5</th>\n",
       "      <th>Mean score</th>\n",
       "    </tr>\n",
       "  </thead>\n",
       "  <tbody>\n",
       "    <tr>\n",
       "      <th>0</th>\n",
       "      <td>RF</td>\n",
       "      <td>&lt;py_entitymatching.matcher.rfmatcher.RFMatcher object at 0x11322fb00&gt;</td>\n",
       "      <td>5</td>\n",
       "      <td>0.909091</td>\n",
       "      <td>0.954545</td>\n",
       "      <td>0.944444</td>\n",
       "      <td>0.826087</td>\n",
       "      <td>0.933333</td>\n",
       "      <td>0.9135</td>\n",
       "    </tr>\n",
       "  </tbody>\n",
       "</table>\n",
       "</div>"
      ],
      "text/plain": [
       "  Name                                                                Matcher  \\\n",
       "0   RF  <py_entitymatching.matcher.rfmatcher.RFMatcher object at 0x11322fb00>   \n",
       "\n",
       "   Num folds    Fold 1    Fold 2    Fold 3    Fold 4    Fold 5  Mean score  \n",
       "0          5  0.909091  0.954545  0.944444  0.826087  0.933333      0.9135  "
      ]
     },
     "execution_count": 33,
     "metadata": {},
     "output_type": "execute_result"
    }
   ],
   "source": [
    "# Check whether the updated recall improves X \n",
    "result = em.select_matcher([rf], table=H, \n",
    "        exclude_attrs=['_id', 'ltable_id', 'rtable_id', 'is_match'],\n",
    "        k=5,\n",
    "        target_attr='is_match', metric='recall', random_state=0)\n",
    "result['cv_stats']"
   ]
  },
  {
   "cell_type": "code",
   "execution_count": 34,
   "metadata": {
    "collapsed": false
   },
   "outputs": [
    {
     "data": {
      "text/html": [
       "<div>\n",
       "<table border=\"1\" class=\"dataframe\">\n",
       "  <thead>\n",
       "    <tr style=\"text-align: right;\">\n",
       "      <th></th>\n",
       "      <th>Name</th>\n",
       "      <th>Matcher</th>\n",
       "      <th>Num folds</th>\n",
       "      <th>Fold 1</th>\n",
       "      <th>Fold 2</th>\n",
       "      <th>Fold 3</th>\n",
       "      <th>Fold 4</th>\n",
       "      <th>Fold 5</th>\n",
       "      <th>Mean score</th>\n",
       "    </tr>\n",
       "  </thead>\n",
       "  <tbody>\n",
       "    <tr>\n",
       "      <th>0</th>\n",
       "      <td>RF</td>\n",
       "      <td>&lt;py_entitymatching.matcher.rfmatcher.RFMatcher object at 0x11322fb00&gt;</td>\n",
       "      <td>5</td>\n",
       "      <td>0.888889</td>\n",
       "      <td>0.976744</td>\n",
       "      <td>0.918919</td>\n",
       "      <td>0.863636</td>\n",
       "      <td>0.933333</td>\n",
       "      <td>0.916304</td>\n",
       "    </tr>\n",
       "  </tbody>\n",
       "</table>\n",
       "</div>"
      ],
      "text/plain": [
       "  Name                                                                Matcher  \\\n",
       "0   RF  <py_entitymatching.matcher.rfmatcher.RFMatcher object at 0x11322fb00>   \n",
       "\n",
       "   Num folds    Fold 1    Fold 2    Fold 3    Fold 4    Fold 5  Mean score  \n",
       "0          5  0.888889  0.976744  0.918919  0.863636  0.933333    0.916304  "
      ]
     },
     "execution_count": 34,
     "metadata": {},
     "output_type": "execute_result"
    }
   ],
   "source": [
    "# Check whether the updated f1 improves X \n",
    "result = em.select_matcher([rf], table=H, \n",
    "        exclude_attrs=['_id', 'ltable_id', 'rtable_id', 'is_match'],\n",
    "        k=5,\n",
    "        target_attr='is_match', metric='f1', random_state=0)\n",
    "result['cv_stats']"
   ]
  },
  {
   "cell_type": "markdown",
   "metadata": {},
   "source": [
    "We observe our recall improved to 91.35% and the precision remains to stay high at 92.05%. The final F1 score is 0.9163. Thus, we decided to move on to the next iteration."
   ]
  },
  {
   "cell_type": "markdown",
   "metadata": {
    "deletable": true,
    "editable": true
   },
   "source": [
    "### 3.7 Selecting the best matcher using cross-validation - Round 3"
   ]
  },
  {
   "cell_type": "code",
   "execution_count": 35,
   "metadata": {
    "collapsed": false
   },
   "outputs": [
    {
     "data": {
      "text/html": [
       "<div>\n",
       "<table border=\"1\" class=\"dataframe\">\n",
       "  <thead>\n",
       "    <tr style=\"text-align: right;\">\n",
       "      <th></th>\n",
       "      <th>Name</th>\n",
       "      <th>Matcher</th>\n",
       "      <th>Num folds</th>\n",
       "      <th>Fold 1</th>\n",
       "      <th>Fold 2</th>\n",
       "      <th>Fold 3</th>\n",
       "      <th>Fold 4</th>\n",
       "      <th>Fold 5</th>\n",
       "      <th>Mean score</th>\n",
       "    </tr>\n",
       "  </thead>\n",
       "  <tbody>\n",
       "    <tr>\n",
       "      <th>0</th>\n",
       "      <td>DecisionTree</td>\n",
       "      <td>&lt;py_entitymatching.matcher.dtmatcher.DTMatcher object at 0x11322fac8&gt;</td>\n",
       "      <td>5</td>\n",
       "      <td>0.869565</td>\n",
       "      <td>1.000000</td>\n",
       "      <td>0.800000</td>\n",
       "      <td>0.782609</td>\n",
       "      <td>0.705882</td>\n",
       "      <td>0.831611</td>\n",
       "    </tr>\n",
       "    <tr>\n",
       "      <th>1</th>\n",
       "      <td>RF</td>\n",
       "      <td>&lt;py_entitymatching.matcher.rfmatcher.RFMatcher object at 0x11322fb00&gt;</td>\n",
       "      <td>5</td>\n",
       "      <td>0.869565</td>\n",
       "      <td>1.000000</td>\n",
       "      <td>0.894737</td>\n",
       "      <td>0.904762</td>\n",
       "      <td>0.933333</td>\n",
       "      <td>0.920479</td>\n",
       "    </tr>\n",
       "    <tr>\n",
       "      <th>2</th>\n",
       "      <td>SVM</td>\n",
       "      <td>&lt;py_entitymatching.matcher.svmmatcher.SVMMatcher object at 0x11322fba8&gt;</td>\n",
       "      <td>5</td>\n",
       "      <td>0.740741</td>\n",
       "      <td>0.709677</td>\n",
       "      <td>0.566667</td>\n",
       "      <td>0.758621</td>\n",
       "      <td>0.500000</td>\n",
       "      <td>0.655141</td>\n",
       "    </tr>\n",
       "    <tr>\n",
       "      <th>3</th>\n",
       "      <td>NB</td>\n",
       "      <td>&lt;py_entitymatching.matcher.nbmatcher.NBMatcher object at 0x11322fa58&gt;</td>\n",
       "      <td>5</td>\n",
       "      <td>0.850000</td>\n",
       "      <td>1.000000</td>\n",
       "      <td>0.875000</td>\n",
       "      <td>0.933333</td>\n",
       "      <td>0.900000</td>\n",
       "      <td>0.911667</td>\n",
       "    </tr>\n",
       "    <tr>\n",
       "      <th>4</th>\n",
       "      <td>LinReg</td>\n",
       "      <td>&lt;py_entitymatching.matcher.linregmatcher.LinRegMatcher object at 0x11322fc50&gt;</td>\n",
       "      <td>5</td>\n",
       "      <td>0.863636</td>\n",
       "      <td>1.000000</td>\n",
       "      <td>0.894737</td>\n",
       "      <td>0.944444</td>\n",
       "      <td>0.875000</td>\n",
       "      <td>0.915564</td>\n",
       "    </tr>\n",
       "    <tr>\n",
       "      <th>5</th>\n",
       "      <td>LogReg</td>\n",
       "      <td>&lt;py_entitymatching.matcher.logregmatcher.LogRegMatcher object at 0x11322fbe0&gt;</td>\n",
       "      <td>5</td>\n",
       "      <td>0.909091</td>\n",
       "      <td>1.000000</td>\n",
       "      <td>0.809524</td>\n",
       "      <td>0.941176</td>\n",
       "      <td>0.700000</td>\n",
       "      <td>0.871958</td>\n",
       "    </tr>\n",
       "  </tbody>\n",
       "</table>\n",
       "</div>"
      ],
      "text/plain": [
       "           Name  \\\n",
       "0  DecisionTree   \n",
       "1            RF   \n",
       "2           SVM   \n",
       "3            NB   \n",
       "4        LinReg   \n",
       "5        LogReg   \n",
       "\n",
       "                                                                         Matcher  \\\n",
       "0          <py_entitymatching.matcher.dtmatcher.DTMatcher object at 0x11322fac8>   \n",
       "1          <py_entitymatching.matcher.rfmatcher.RFMatcher object at 0x11322fb00>   \n",
       "2        <py_entitymatching.matcher.svmmatcher.SVMMatcher object at 0x11322fba8>   \n",
       "3          <py_entitymatching.matcher.nbmatcher.NBMatcher object at 0x11322fa58>   \n",
       "4  <py_entitymatching.matcher.linregmatcher.LinRegMatcher object at 0x11322fc50>   \n",
       "5  <py_entitymatching.matcher.logregmatcher.LogRegMatcher object at 0x11322fbe0>   \n",
       "\n",
       "   Num folds    Fold 1    Fold 2    Fold 3    Fold 4    Fold 5  Mean score  \n",
       "0          5  0.869565  1.000000  0.800000  0.782609  0.705882    0.831611  \n",
       "1          5  0.869565  1.000000  0.894737  0.904762  0.933333    0.920479  \n",
       "2          5  0.740741  0.709677  0.566667  0.758621  0.500000    0.655141  \n",
       "3          5  0.850000  1.000000  0.875000  0.933333  0.900000    0.911667  \n",
       "4          5  0.863636  1.000000  0.894737  0.944444  0.875000    0.915564  \n",
       "5          5  0.909091  1.000000  0.809524  0.941176  0.700000    0.871958  "
      ]
     },
     "execution_count": 35,
     "metadata": {},
     "output_type": "execute_result"
    }
   ],
   "source": [
    "# Performing CV using precision\n",
    "result = em.select_matcher(matchers, table=H, \n",
    "        exclude_attrs=['_id', 'ltable_id', 'rtable_id', 'is_match'],\n",
    "        k=5,\n",
    "        target_attr='is_match', metric='precision', random_state=seed)\n",
    "result['cv_stats']"
   ]
  },
  {
   "cell_type": "code",
   "execution_count": 36,
   "metadata": {
    "collapsed": false
   },
   "outputs": [
    {
     "data": {
      "text/html": [
       "<div>\n",
       "<table border=\"1\" class=\"dataframe\">\n",
       "  <thead>\n",
       "    <tr style=\"text-align: right;\">\n",
       "      <th></th>\n",
       "      <th>Name</th>\n",
       "      <th>Matcher</th>\n",
       "      <th>Num folds</th>\n",
       "      <th>Fold 1</th>\n",
       "      <th>Fold 2</th>\n",
       "      <th>Fold 3</th>\n",
       "      <th>Fold 4</th>\n",
       "      <th>Fold 5</th>\n",
       "      <th>Mean score</th>\n",
       "    </tr>\n",
       "  </thead>\n",
       "  <tbody>\n",
       "    <tr>\n",
       "      <th>0</th>\n",
       "      <td>DecisionTree</td>\n",
       "      <td>&lt;py_entitymatching.matcher.dtmatcher.DTMatcher object at 0x11322fac8&gt;</td>\n",
       "      <td>5</td>\n",
       "      <td>0.909091</td>\n",
       "      <td>0.772727</td>\n",
       "      <td>0.888889</td>\n",
       "      <td>0.782609</td>\n",
       "      <td>0.800000</td>\n",
       "      <td>0.830663</td>\n",
       "    </tr>\n",
       "    <tr>\n",
       "      <th>1</th>\n",
       "      <td>RF</td>\n",
       "      <td>&lt;py_entitymatching.matcher.rfmatcher.RFMatcher object at 0x11322fb00&gt;</td>\n",
       "      <td>5</td>\n",
       "      <td>0.909091</td>\n",
       "      <td>0.954545</td>\n",
       "      <td>0.944444</td>\n",
       "      <td>0.826087</td>\n",
       "      <td>0.933333</td>\n",
       "      <td>0.913500</td>\n",
       "    </tr>\n",
       "    <tr>\n",
       "      <th>2</th>\n",
       "      <td>SVM</td>\n",
       "      <td>&lt;py_entitymatching.matcher.svmmatcher.SVMMatcher object at 0x11322fba8&gt;</td>\n",
       "      <td>5</td>\n",
       "      <td>0.909091</td>\n",
       "      <td>1.000000</td>\n",
       "      <td>0.944444</td>\n",
       "      <td>0.956522</td>\n",
       "      <td>1.000000</td>\n",
       "      <td>0.962011</td>\n",
       "    </tr>\n",
       "    <tr>\n",
       "      <th>3</th>\n",
       "      <td>NB</td>\n",
       "      <td>&lt;py_entitymatching.matcher.nbmatcher.NBMatcher object at 0x11322fa58&gt;</td>\n",
       "      <td>5</td>\n",
       "      <td>0.772727</td>\n",
       "      <td>0.863636</td>\n",
       "      <td>0.777778</td>\n",
       "      <td>0.608696</td>\n",
       "      <td>0.600000</td>\n",
       "      <td>0.724567</td>\n",
       "    </tr>\n",
       "    <tr>\n",
       "      <th>4</th>\n",
       "      <td>LinReg</td>\n",
       "      <td>&lt;py_entitymatching.matcher.linregmatcher.LinRegMatcher object at 0x11322fc50&gt;</td>\n",
       "      <td>5</td>\n",
       "      <td>0.863636</td>\n",
       "      <td>0.954545</td>\n",
       "      <td>0.944444</td>\n",
       "      <td>0.739130</td>\n",
       "      <td>0.933333</td>\n",
       "      <td>0.887018</td>\n",
       "    </tr>\n",
       "    <tr>\n",
       "      <th>5</th>\n",
       "      <td>LogReg</td>\n",
       "      <td>&lt;py_entitymatching.matcher.logregmatcher.LogRegMatcher object at 0x11322fbe0&gt;</td>\n",
       "      <td>5</td>\n",
       "      <td>0.909091</td>\n",
       "      <td>1.000000</td>\n",
       "      <td>0.944444</td>\n",
       "      <td>0.695652</td>\n",
       "      <td>0.933333</td>\n",
       "      <td>0.896504</td>\n",
       "    </tr>\n",
       "  </tbody>\n",
       "</table>\n",
       "</div>"
      ],
      "text/plain": [
       "           Name  \\\n",
       "0  DecisionTree   \n",
       "1            RF   \n",
       "2           SVM   \n",
       "3            NB   \n",
       "4        LinReg   \n",
       "5        LogReg   \n",
       "\n",
       "                                                                         Matcher  \\\n",
       "0          <py_entitymatching.matcher.dtmatcher.DTMatcher object at 0x11322fac8>   \n",
       "1          <py_entitymatching.matcher.rfmatcher.RFMatcher object at 0x11322fb00>   \n",
       "2        <py_entitymatching.matcher.svmmatcher.SVMMatcher object at 0x11322fba8>   \n",
       "3          <py_entitymatching.matcher.nbmatcher.NBMatcher object at 0x11322fa58>   \n",
       "4  <py_entitymatching.matcher.linregmatcher.LinRegMatcher object at 0x11322fc50>   \n",
       "5  <py_entitymatching.matcher.logregmatcher.LogRegMatcher object at 0x11322fbe0>   \n",
       "\n",
       "   Num folds    Fold 1    Fold 2    Fold 3    Fold 4    Fold 5  Mean score  \n",
       "0          5  0.909091  0.772727  0.888889  0.782609  0.800000    0.830663  \n",
       "1          5  0.909091  0.954545  0.944444  0.826087  0.933333    0.913500  \n",
       "2          5  0.909091  1.000000  0.944444  0.956522  1.000000    0.962011  \n",
       "3          5  0.772727  0.863636  0.777778  0.608696  0.600000    0.724567  \n",
       "4          5  0.863636  0.954545  0.944444  0.739130  0.933333    0.887018  \n",
       "5          5  0.909091  1.000000  0.944444  0.695652  0.933333    0.896504  "
      ]
     },
     "execution_count": 36,
     "metadata": {},
     "output_type": "execute_result"
    }
   ],
   "source": [
    "# Performing CV using recall\n",
    "result = em.select_matcher(matchers, table=H, \n",
    "        exclude_attrs=['_id', 'ltable_id', 'rtable_id', 'is_match'],\n",
    "        k=5,\n",
    "        target_attr='is_match', metric='recall', random_state=seed)\n",
    "result['cv_stats']"
   ]
  },
  {
   "cell_type": "code",
   "execution_count": 37,
   "metadata": {
    "collapsed": false
   },
   "outputs": [
    {
     "data": {
      "text/html": [
       "<div>\n",
       "<table border=\"1\" class=\"dataframe\">\n",
       "  <thead>\n",
       "    <tr style=\"text-align: right;\">\n",
       "      <th></th>\n",
       "      <th>Name</th>\n",
       "      <th>Matcher</th>\n",
       "      <th>Num folds</th>\n",
       "      <th>Fold 1</th>\n",
       "      <th>Fold 2</th>\n",
       "      <th>Fold 3</th>\n",
       "      <th>Fold 4</th>\n",
       "      <th>Fold 5</th>\n",
       "      <th>Mean score</th>\n",
       "    </tr>\n",
       "  </thead>\n",
       "  <tbody>\n",
       "    <tr>\n",
       "      <th>0</th>\n",
       "      <td>DecisionTree</td>\n",
       "      <td>&lt;py_entitymatching.matcher.dtmatcher.DTMatcher object at 0x11322fac8&gt;</td>\n",
       "      <td>5</td>\n",
       "      <td>0.888889</td>\n",
       "      <td>0.871795</td>\n",
       "      <td>0.842105</td>\n",
       "      <td>0.782609</td>\n",
       "      <td>0.750000</td>\n",
       "      <td>0.827080</td>\n",
       "    </tr>\n",
       "    <tr>\n",
       "      <th>1</th>\n",
       "      <td>RF</td>\n",
       "      <td>&lt;py_entitymatching.matcher.rfmatcher.RFMatcher object at 0x11322fb00&gt;</td>\n",
       "      <td>5</td>\n",
       "      <td>0.888889</td>\n",
       "      <td>0.976744</td>\n",
       "      <td>0.918919</td>\n",
       "      <td>0.863636</td>\n",
       "      <td>0.933333</td>\n",
       "      <td>0.916304</td>\n",
       "    </tr>\n",
       "    <tr>\n",
       "      <th>2</th>\n",
       "      <td>SVM</td>\n",
       "      <td>&lt;py_entitymatching.matcher.svmmatcher.SVMMatcher object at 0x11322fba8&gt;</td>\n",
       "      <td>5</td>\n",
       "      <td>0.816327</td>\n",
       "      <td>0.830189</td>\n",
       "      <td>0.708333</td>\n",
       "      <td>0.846154</td>\n",
       "      <td>0.666667</td>\n",
       "      <td>0.773534</td>\n",
       "    </tr>\n",
       "    <tr>\n",
       "      <th>3</th>\n",
       "      <td>NB</td>\n",
       "      <td>&lt;py_entitymatching.matcher.nbmatcher.NBMatcher object at 0x11322fa58&gt;</td>\n",
       "      <td>5</td>\n",
       "      <td>0.809524</td>\n",
       "      <td>0.926829</td>\n",
       "      <td>0.823529</td>\n",
       "      <td>0.736842</td>\n",
       "      <td>0.720000</td>\n",
       "      <td>0.803345</td>\n",
       "    </tr>\n",
       "    <tr>\n",
       "      <th>4</th>\n",
       "      <td>LinReg</td>\n",
       "      <td>&lt;py_entitymatching.matcher.linregmatcher.LinRegMatcher object at 0x11322fc50&gt;</td>\n",
       "      <td>5</td>\n",
       "      <td>0.863636</td>\n",
       "      <td>0.976744</td>\n",
       "      <td>0.918919</td>\n",
       "      <td>0.829268</td>\n",
       "      <td>0.903226</td>\n",
       "      <td>0.898359</td>\n",
       "    </tr>\n",
       "    <tr>\n",
       "      <th>5</th>\n",
       "      <td>LogReg</td>\n",
       "      <td>&lt;py_entitymatching.matcher.logregmatcher.LogRegMatcher object at 0x11322fbe0&gt;</td>\n",
       "      <td>5</td>\n",
       "      <td>0.909091</td>\n",
       "      <td>1.000000</td>\n",
       "      <td>0.871795</td>\n",
       "      <td>0.800000</td>\n",
       "      <td>0.800000</td>\n",
       "      <td>0.876177</td>\n",
       "    </tr>\n",
       "  </tbody>\n",
       "</table>\n",
       "</div>"
      ],
      "text/plain": [
       "           Name  \\\n",
       "0  DecisionTree   \n",
       "1            RF   \n",
       "2           SVM   \n",
       "3            NB   \n",
       "4        LinReg   \n",
       "5        LogReg   \n",
       "\n",
       "                                                                         Matcher  \\\n",
       "0          <py_entitymatching.matcher.dtmatcher.DTMatcher object at 0x11322fac8>   \n",
       "1          <py_entitymatching.matcher.rfmatcher.RFMatcher object at 0x11322fb00>   \n",
       "2        <py_entitymatching.matcher.svmmatcher.SVMMatcher object at 0x11322fba8>   \n",
       "3          <py_entitymatching.matcher.nbmatcher.NBMatcher object at 0x11322fa58>   \n",
       "4  <py_entitymatching.matcher.linregmatcher.LinRegMatcher object at 0x11322fc50>   \n",
       "5  <py_entitymatching.matcher.logregmatcher.LogRegMatcher object at 0x11322fbe0>   \n",
       "\n",
       "   Num folds    Fold 1    Fold 2    Fold 3    Fold 4    Fold 5  Mean score  \n",
       "0          5  0.888889  0.871795  0.842105  0.782609  0.750000    0.827080  \n",
       "1          5  0.888889  0.976744  0.918919  0.863636  0.933333    0.916304  \n",
       "2          5  0.816327  0.830189  0.708333  0.846154  0.666667    0.773534  \n",
       "3          5  0.809524  0.926829  0.823529  0.736842  0.720000    0.803345  \n",
       "4          5  0.863636  0.976744  0.918919  0.829268  0.903226    0.898359  \n",
       "5          5  0.909091  1.000000  0.871795  0.800000  0.800000    0.876177  "
      ]
     },
     "execution_count": 37,
     "metadata": {},
     "output_type": "execute_result"
    }
   ],
   "source": [
    "# Performing CV using F-1\n",
    "result = em.select_matcher(matchers, table=H, \n",
    "        exclude_attrs=['_id', 'ltable_id', 'rtable_id', 'is_match'],\n",
    "        k=5,\n",
    "        target_attr='is_match', metric='f1', random_state=seed)\n",
    "result['cv_stats']"
   ]
  },
  {
   "cell_type": "markdown",
   "metadata": {},
   "source": [
    "Since we already have the best recall > 90% (91.35%, Random Forest) for those matchers whose precision > 90%, we decide to stop here and evaluate over the testing set J."
   ]
  },
  {
   "cell_type": "markdown",
   "metadata": {
    "deletable": true,
    "editable": true
   },
   "source": [
    "### Testing over J"
   ]
  },
  {
   "cell_type": "code",
   "execution_count": 38,
   "metadata": {
    "collapsed": true,
    "deletable": true,
    "editable": true
   },
   "outputs": [],
   "source": [
    "# Instantiate matchers to evaluate.\n",
    "matchers = [\n",
    "    em.DTMatcher(name='DecisionTree', random_state=seed),\n",
    "    em.SVMMatcher(name='SVM', random_state=seed),\n",
    "    em.RFMatcher(name='RF', random_state=seed),\n",
    "    em.NBMatcher(name='NB'),\n",
    "    em.LogRegMatcher(name='LogReg', random_state=seed),\n",
    "    em.LinRegMatcher(name='LinReg'),\n",
    "]"
   ]
  },
  {
   "cell_type": "code",
   "execution_count": 39,
   "metadata": {
    "collapsed": false,
    "deletable": true,
    "editable": true
   },
   "outputs": [
    {
     "name": "stdout",
     "output_type": "stream",
     "text": [
      "# DecisionTree\n",
      "Precision : 81.97% (50/61)\n",
      "Recall : 83.33% (50/60)\n",
      "F1 : 82.64%\n",
      "False positives : 11 (out of 61 positive predictions)\n",
      "False negatives : 10 (out of 59 negative predictions)\n",
      "# SVM\n",
      "Precision : 62.64% (57/91)\n",
      "Recall : 95.0% (57/60)\n",
      "F1 : 75.5%\n",
      "False positives : 34 (out of 91 positive predictions)\n",
      "False negatives : 3 (out of 29 negative predictions)\n",
      "# RF\n",
      "Precision : 91.38% (53/58)\n",
      "Recall : 88.33% (53/60)\n",
      "F1 : 89.83%\n",
      "False positives : 5 (out of 58 positive predictions)\n",
      "False negatives : 7 (out of 62 negative predictions)\n",
      "# NB\n",
      "Precision : 91.67% (44/48)\n",
      "Recall : 73.33% (44/60)\n",
      "F1 : 81.48%\n",
      "False positives : 4 (out of 48 positive predictions)\n",
      "False negatives : 16 (out of 72 negative predictions)\n",
      "# LogReg\n",
      "Precision : 82.09% (55/67)\n",
      "Recall : 91.67% (55/60)\n",
      "F1 : 86.61%\n",
      "False positives : 12 (out of 67 positive predictions)\n",
      "False negatives : 5 (out of 53 negative predictions)\n",
      "# LinReg\n",
      "Precision : 82.09% (55/67)\n",
      "Recall : 91.67% (55/60)\n",
      "F1 : 86.61%\n",
      "False positives : 12 (out of 67 positive predictions)\n",
      "False negatives : 5 (out of 53 negative predictions)\n"
     ]
    }
   ],
   "source": [
    "eval_results = []\n",
    "for m in matchers :\n",
    "    print('#', m.name)\n",
    "    \n",
    "    # Train using feature vectors from I \n",
    "    m.fit(table=H, \n",
    "           exclude_attrs=['_id', 'ltable_id', 'rtable_id', 'is_match'], \n",
    "           target_attr='is_match')\n",
    "\n",
    "    # Convert J into a set of feature vectors using F\n",
    "    L = em.extract_feature_vecs(J, feature_table=F,\n",
    "                                attrs_after='is_match', show_progress=False)\n",
    "    \n",
    "    # Impute feature vectors with the mean of the column values.\n",
    "    L = em.impute_table(L, \n",
    "                    exclude_attrs=['_id', 'ltable_id', 'rtable_id', 'is_match'],\n",
    "                    strategy='mean')\n",
    "    \n",
    "    # Predict on L \n",
    "    predictions = m.predict(table=L, exclude_attrs=['_id', 'ltable_id', 'rtable_id', 'is_match'], \n",
    "                  append=True, target_attr='predicted', inplace=False)\n",
    "    # Evaluate the predictions\n",
    "    eval_result = em.eval_matches(predictions, 'is_match', 'predicted')\n",
    "    eval_results.append(eval_result)\n",
    "    em.print_eval_summary(eval_result)"
   ]
  },
  {
   "cell_type": "code",
   "execution_count": 40,
   "metadata": {
    "collapsed": false,
    "deletable": true,
    "editable": true
   },
   "outputs": [],
   "source": [
    "df = pd.DataFrame(eval_results, index=[m.name for m in matchers])"
   ]
  },
  {
   "cell_type": "code",
   "execution_count": 41,
   "metadata": {
    "collapsed": false,
    "deletable": true,
    "editable": true
   },
   "outputs": [
    {
     "data": {
      "image/png": "[encoded data removed]",
      "text/plain": [
       "<matplotlib.figure.Figure at 0x11ea14eb8>"
      ]
     },
     "metadata": {},
     "output_type": "display_data"
    }
   ],
   "source": [
    "df[['precision', 'recall', 'f1']].plot(kind='bar');\n",
    "plt.plot(list(range(-1,7)),[0.9]*8, color = \"r\",label = \"90% level\");\n",
    "plt.legend(loc=\"center left\", bbox_to_anchor=(1, 0.5), ncol=1, fancybox=1);"
   ]
  },
  {
   "cell_type": "markdown",
   "metadata": {},
   "source": [
    "As shown in above figure, the best matcher is random forest matcher with precision 91.38%, recall 88.33% and F1 89.93%. "
   ]
  }
 ],
 "metadata": {
  "kernelspec": {
   "display_name": "Python 3",
   "language": "python",
   "name": "python3"
  },
  "language_info": {
   "codemirror_mode": {
    "name": "ipython",
    "version": 3
   },
   "file_extension": ".py",
   "mimetype": "text/x-python",
   "name": "python",
   "nbconvert_exporter": "python",
   "pygments_lexer": "ipython3",
   "version": "3.5.3"
  }
 },
 "nbformat": 4,
 "nbformat_minor": 2
}
