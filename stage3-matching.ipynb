{
 "cells": [
  {
   "cell_type": "markdown",
   "metadata": {},
   "source": [
    "# Stage 3 - Entity Matching"
   ]
  },
  {
   "cell_type": "code",
   "execution_count": 1,
   "metadata": {
    "collapsed": true
   },
   "outputs": [],
   "source": [
    "import matplotlib.pyplot as plt\n",
    "%matplotlib inline\n",
    "import numpy as np\n",
    "import pandas as pd\n",
    "\n",
    "import py_entitymatching as em\n",
    "\n",
    "IS_DEVELOPING = True\n",
    "\n",
    "data_dir = './dataset/structured_data/'\n",
    "A_filename = 'forbes_sample.csv' if IS_DEVELOPING else 'forbes_all.csv'\n",
    "B_filename = 'nasdaq_sample.csv' if IS_DEVELOPING else 'nasdaq.csv'\n",
    "blocked_filename = 'blocked_sample.csv' if IS_DEVELOPING else 'blocked.csv'\n",
    "labeled_filename = 'labeled_sample.csv' if IS_DEVELOPING else 'labeled.csv'\n",
    "\n",
    "all_fields = ['Name', 'Industry', 'MarketValue']\n",
    "\n",
    "# Set the seed value for reproducibility\n",
    "seed = 0"
   ]
  },
  {
   "cell_type": "markdown",
   "metadata": {},
   "source": [
    "## Mathcing"
   ]
  },
  {
   "cell_type": "code",
   "execution_count": 2,
   "metadata": {
    "collapsed": false
   },
   "outputs": [
    {
     "name": "stderr",
     "output_type": "stream",
     "text": [
      "Metadata file is not present in the given path; proceeding to read the csv file.\n"
     ]
    }
   ],
   "source": [
    "A = pd.read_csv(data_dir + A_filename)\n",
    "A = A[['id'] + all_fields]\n",
    "em.set_key(A, 'id')\n",
    "B = pd.read_csv(data_dir + B_filename)\n",
    "B = B[['id'] + all_fields]\n",
    "em.set_key(B, 'id')\n",
    "# Load the pre-labeled data\n",
    "S = em.read_csv_metadata(data_dir + labeled_filename, \n",
    "                         key='_id',\n",
    "                         ltable=A, rtable=B, \n",
    "                         fk_ltable='ltable_id', fk_rtable='rtable_id')"
   ]
  },
  {
   "cell_type": "markdown",
   "metadata": {},
   "source": [
    "Then, split the labeled data into development set and evaluation set. Use the development set to select the best learning-based matcher."
   ]
  },
  {
   "cell_type": "code",
   "execution_count": 3,
   "metadata": {
    "collapsed": false
   },
   "outputs": [],
   "source": [
    "# Split S into I an J\n",
    "IJ = em.split_train_test(S, train_proportion=0.5, random_state=seed)\n",
    "I = IJ['train']\n",
    "J = IJ['test']"
   ]
  },
  {
   "cell_type": "markdown",
   "metadata": {},
   "source": [
    "### Creating features"
   ]
  },
  {
   "cell_type": "code",
   "execution_count": 4,
   "metadata": {
    "collapsed": false
   },
   "outputs": [],
   "source": [
    "# Generate a set of features\n",
    "F = em.get_features_for_matching(A, B)"
   ]
  },
  {
   "cell_type": "code",
   "execution_count": 5,
   "metadata": {
    "collapsed": false
   },
   "outputs": [
    {
     "data": {
      "text/plain": [
       "0                                   id_id_exm\n",
       "1                                   id_id_anm\n",
       "2                              id_id_lev_dist\n",
       "3                               id_id_lev_sim\n",
       "4                   Name_Name_jac_qgm_3_qgm_3\n",
       "5               Name_Name_cos_dlm_dc0_dlm_dc0\n",
       "6               Name_Name_jac_dlm_dc0_dlm_dc0\n",
       "7                               Name_Name_mel\n",
       "8                          Name_Name_lev_dist\n",
       "9                           Name_Name_lev_sim\n",
       "10                              Name_Name_nmw\n",
       "11                               Name_Name_sw\n",
       "12          Industry_Industry_jac_qgm_3_qgm_3\n",
       "13      Industry_Industry_cos_dlm_dc0_dlm_dc0\n",
       "14      Industry_Industry_jac_dlm_dc0_dlm_dc0\n",
       "15                      Industry_Industry_mel\n",
       "16                 Industry_Industry_lev_dist\n",
       "17                  Industry_Industry_lev_sim\n",
       "18                      Industry_Industry_nmw\n",
       "19                       Industry_Industry_sw\n",
       "20           MarketValue_MarketValue_lev_dist\n",
       "21            MarketValue_MarketValue_lev_sim\n",
       "22                MarketValue_MarketValue_jar\n",
       "23                MarketValue_MarketValue_jwn\n",
       "24                MarketValue_MarketValue_exm\n",
       "25    MarketValue_MarketValue_jac_qgm_3_qgm_3\n",
       "Name: feature_name, dtype: object"
      ]
     },
     "execution_count": 5,
     "metadata": {},
     "output_type": "execute_result"
    }
   ],
   "source": [
    "F.feature_name"
   ]
  },
  {
   "cell_type": "markdown",
   "metadata": {},
   "source": [
    "### Extracting feature vectors"
   ]
  },
  {
   "cell_type": "code",
   "execution_count": 6,
   "metadata": {
    "collapsed": false
   },
   "outputs": [
    {
     "data": {
      "text/html": [
       "<div>\n",
       "<table border=\"1\" class=\"dataframe\">\n",
       "  <thead>\n",
       "    <tr style=\"text-align: right;\">\n",
       "      <th></th>\n",
       "      <th>_id</th>\n",
       "      <th>ltable_id</th>\n",
       "      <th>rtable_id</th>\n",
       "      <th>id_id_exm</th>\n",
       "      <th>id_id_anm</th>\n",
       "      <th>id_id_lev_dist</th>\n",
       "      <th>id_id_lev_sim</th>\n",
       "      <th>Name_Name_jac_qgm_3_qgm_3</th>\n",
       "      <th>Name_Name_cos_dlm_dc0_dlm_dc0</th>\n",
       "      <th>Name_Name_jac_dlm_dc0_dlm_dc0</th>\n",
       "      <th>...</th>\n",
       "      <th>Industry_Industry_lev_sim</th>\n",
       "      <th>Industry_Industry_nmw</th>\n",
       "      <th>Industry_Industry_sw</th>\n",
       "      <th>MarketValue_MarketValue_lev_dist</th>\n",
       "      <th>MarketValue_MarketValue_lev_sim</th>\n",
       "      <th>MarketValue_MarketValue_jar</th>\n",
       "      <th>MarketValue_MarketValue_jwn</th>\n",
       "      <th>MarketValue_MarketValue_exm</th>\n",
       "      <th>MarketValue_MarketValue_jac_qgm_3_qgm_3</th>\n",
       "      <th>is_match</th>\n",
       "    </tr>\n",
       "  </thead>\n",
       "  <tbody>\n",
       "    <tr>\n",
       "      <th>16</th>\n",
       "      <td>16</td>\n",
       "      <td>32</td>\n",
       "      <td>77</td>\n",
       "      <td>0</td>\n",
       "      <td>0.415584</td>\n",
       "      <td>2</td>\n",
       "      <td>0.000000</td>\n",
       "      <td>0.105263</td>\n",
       "      <td>0.223607</td>\n",
       "      <td>0.125000</td>\n",
       "      <td>...</td>\n",
       "      <td>0.055556</td>\n",
       "      <td>-14.0</td>\n",
       "      <td>1.0</td>\n",
       "      <td>4</td>\n",
       "      <td>0.200000</td>\n",
       "      <td>0.483333</td>\n",
       "      <td>0.483333</td>\n",
       "      <td>0</td>\n",
       "      <td>0.000000</td>\n",
       "      <td>1</td>\n",
       "    </tr>\n",
       "    <tr>\n",
       "      <th>54</th>\n",
       "      <td>54</td>\n",
       "      <td>95</td>\n",
       "      <td>193</td>\n",
       "      <td>0</td>\n",
       "      <td>0.492228</td>\n",
       "      <td>2</td>\n",
       "      <td>0.333333</td>\n",
       "      <td>0.696970</td>\n",
       "      <td>0.408248</td>\n",
       "      <td>0.250000</td>\n",
       "      <td>...</td>\n",
       "      <td>0.190476</td>\n",
       "      <td>-9.0</td>\n",
       "      <td>2.0</td>\n",
       "      <td>7</td>\n",
       "      <td>0.000000</td>\n",
       "      <td>0.000000</td>\n",
       "      <td>0.000000</td>\n",
       "      <td>0</td>\n",
       "      <td>0.000000</td>\n",
       "      <td>1</td>\n",
       "    </tr>\n",
       "    <tr>\n",
       "      <th>20</th>\n",
       "      <td>20</td>\n",
       "      <td>32</td>\n",
       "      <td>79</td>\n",
       "      <td>0</td>\n",
       "      <td>0.405063</td>\n",
       "      <td>2</td>\n",
       "      <td>0.000000</td>\n",
       "      <td>0.705882</td>\n",
       "      <td>0.670820</td>\n",
       "      <td>0.500000</td>\n",
       "      <td>...</td>\n",
       "      <td>0.181818</td>\n",
       "      <td>0.0</td>\n",
       "      <td>9.0</td>\n",
       "      <td>5</td>\n",
       "      <td>0.375000</td>\n",
       "      <td>0.708333</td>\n",
       "      <td>0.708333</td>\n",
       "      <td>0</td>\n",
       "      <td>0.066667</td>\n",
       "      <td>1</td>\n",
       "    </tr>\n",
       "    <tr>\n",
       "      <th>48</th>\n",
       "      <td>48</td>\n",
       "      <td>86</td>\n",
       "      <td>174</td>\n",
       "      <td>0</td>\n",
       "      <td>0.494253</td>\n",
       "      <td>3</td>\n",
       "      <td>0.000000</td>\n",
       "      <td>0.615385</td>\n",
       "      <td>0.577350</td>\n",
       "      <td>0.400000</td>\n",
       "      <td>...</td>\n",
       "      <td>0.206897</td>\n",
       "      <td>-16.0</td>\n",
       "      <td>4.0</td>\n",
       "      <td>7</td>\n",
       "      <td>0.000000</td>\n",
       "      <td>0.000000</td>\n",
       "      <td>0.000000</td>\n",
       "      <td>0</td>\n",
       "      <td>0.000000</td>\n",
       "      <td>0</td>\n",
       "    </tr>\n",
       "    <tr>\n",
       "      <th>8</th>\n",
       "      <td>8</td>\n",
       "      <td>18</td>\n",
       "      <td>38</td>\n",
       "      <td>0</td>\n",
       "      <td>0.473684</td>\n",
       "      <td>1</td>\n",
       "      <td>0.500000</td>\n",
       "      <td>0.153846</td>\n",
       "      <td>0.258199</td>\n",
       "      <td>0.142857</td>\n",
       "      <td>...</td>\n",
       "      <td>0.153846</td>\n",
       "      <td>-8.0</td>\n",
       "      <td>1.0</td>\n",
       "      <td>6</td>\n",
       "      <td>0.142857</td>\n",
       "      <td>0.464286</td>\n",
       "      <td>0.464286</td>\n",
       "      <td>0</td>\n",
       "      <td>0.000000</td>\n",
       "      <td>0</td>\n",
       "    </tr>\n",
       "  </tbody>\n",
       "</table>\n",
       "<p>5 rows × 30 columns</p>\n",
       "</div>"
      ],
      "text/plain": [
       "    _id  ltable_id  rtable_id  id_id_exm  id_id_anm  id_id_lev_dist  \\\n",
       "16   16         32         77          0   0.415584               2   \n",
       "54   54         95        193          0   0.492228               2   \n",
       "20   20         32         79          0   0.405063               2   \n",
       "48   48         86        174          0   0.494253               3   \n",
       "8     8         18         38          0   0.473684               1   \n",
       "\n",
       "    id_id_lev_sim  Name_Name_jac_qgm_3_qgm_3  Name_Name_cos_dlm_dc0_dlm_dc0  \\\n",
       "16       0.000000                   0.105263                       0.223607   \n",
       "54       0.333333                   0.696970                       0.408248   \n",
       "20       0.000000                   0.705882                       0.670820   \n",
       "48       0.000000                   0.615385                       0.577350   \n",
       "8        0.500000                   0.153846                       0.258199   \n",
       "\n",
       "    Name_Name_jac_dlm_dc0_dlm_dc0    ...     Industry_Industry_lev_sim  \\\n",
       "16                       0.125000    ...                      0.055556   \n",
       "54                       0.250000    ...                      0.190476   \n",
       "20                       0.500000    ...                      0.181818   \n",
       "48                       0.400000    ...                      0.206897   \n",
       "8                        0.142857    ...                      0.153846   \n",
       "\n",
       "    Industry_Industry_nmw  Industry_Industry_sw  \\\n",
       "16                  -14.0                   1.0   \n",
       "54                   -9.0                   2.0   \n",
       "20                    0.0                   9.0   \n",
       "48                  -16.0                   4.0   \n",
       "8                    -8.0                   1.0   \n",
       "\n",
       "    MarketValue_MarketValue_lev_dist  MarketValue_MarketValue_lev_sim  \\\n",
       "16                                 4                         0.200000   \n",
       "54                                 7                         0.000000   \n",
       "20                                 5                         0.375000   \n",
       "48                                 7                         0.000000   \n",
       "8                                  6                         0.142857   \n",
       "\n",
       "    MarketValue_MarketValue_jar  MarketValue_MarketValue_jwn  \\\n",
       "16                     0.483333                     0.483333   \n",
       "54                     0.000000                     0.000000   \n",
       "20                     0.708333                     0.708333   \n",
       "48                     0.000000                     0.000000   \n",
       "8                      0.464286                     0.464286   \n",
       "\n",
       "    MarketValue_MarketValue_exm  MarketValue_MarketValue_jac_qgm_3_qgm_3  \\\n",
       "16                            0                                 0.000000   \n",
       "54                            0                                 0.000000   \n",
       "20                            0                                 0.066667   \n",
       "48                            0                                 0.000000   \n",
       "8                             0                                 0.000000   \n",
       "\n",
       "    is_match  \n",
       "16         1  \n",
       "54         1  \n",
       "20         1  \n",
       "48         0  \n",
       "8          0  \n",
       "\n",
       "[5 rows x 30 columns]"
      ]
     },
     "execution_count": 6,
     "metadata": {},
     "output_type": "execute_result"
    }
   ],
   "source": [
    "# Convert the I into a set of feature vectors using F\n",
    "H = em.extract_feature_vecs(I, \n",
    "                            feature_table=F, \n",
    "                            attrs_after='is_match',\n",
    "                            show_progress=False)  \n",
    "# Display first few rows\n",
    "H.head()"
   ]
  },
  {
   "cell_type": "code",
   "execution_count": 7,
   "metadata": {
    "collapsed": false
   },
   "outputs": [
    {
     "data": {
      "text/plain": [
       "True"
      ]
     },
     "execution_count": 7,
     "metadata": {},
     "output_type": "execute_result"
    }
   ],
   "source": [
    "# Check if the feature vectors contain missing values\n",
    "# A return value of True means that there are missing values\n",
    "any(pd.notnull(H))"
   ]
  },
  {
   "cell_type": "markdown",
   "metadata": {},
   "source": [
    "We observe that the extracted feature vectors contain missing values. We have to impute the missing values for the learning-based matchers to fit the model correctly."
   ]
  },
  {
   "cell_type": "code",
   "execution_count": 8,
   "metadata": {
    "collapsed": false
   },
   "outputs": [],
   "source": [
    "# Impute feature vectors with the mean of the column values.\n",
    "H_imputed = em.impute_table(H, \n",
    "                exclude_attrs=['_id', 'ltable_id', 'rtable_id', 'is_match'],\n",
    "                strategy='mean')"
   ]
  },
  {
   "cell_type": "markdown",
   "metadata": {},
   "source": [
    "### Selecting the best matcher using cross-validation"
   ]
  },
  {
   "cell_type": "markdown",
   "metadata": {},
   "source": [
    "First, we need to create a set of learning-based matchers. The following matchers are supported in Magellan: (1) decision tree, (2) random forest, (3) naive bayes, (4) svm, (5) logistic regression, and (6) linear regression."
   ]
  },
  {
   "cell_type": "code",
   "execution_count": 26,
   "metadata": {
    "collapsed": true
   },
   "outputs": [],
   "source": [
    "# Create a set of ML-matchers\n",
    "dt = em.DTMatcher(name='DecisionTree', random_state=seed)\n",
    "svm = em.SVMMatcher(name='SVM', random_state=seed)\n",
    "rf = em.RFMatcher(name='RF', random_state=seed)\n",
    "lg = em.LogRegMatcher(name='LogReg', random_state=seed)\n",
    "ln = em.LinRegMatcher(name='LinReg')"
   ]
  },
  {
   "cell_type": "markdown",
   "metadata": {},
   "source": [
    "Now, we select the best matcher using k-fold cross-validation. Here we use 5-fold cross validation and use precision, recall, and F-1 metric to select the best matcher."
   ]
  },
  {
   "cell_type": "code",
   "execution_count": 10,
   "metadata": {
    "collapsed": false
   },
   "outputs": [
    {
     "data": {
      "text/html": [
       "<div>\n",
       "<table border=\"1\" class=\"dataframe\">\n",
       "  <thead>\n",
       "    <tr style=\"text-align: right;\">\n",
       "      <th></th>\n",
       "      <th>Name</th>\n",
       "      <th>Matcher</th>\n",
       "      <th>Num folds</th>\n",
       "      <th>Fold 1</th>\n",
       "      <th>Fold 2</th>\n",
       "      <th>Fold 3</th>\n",
       "      <th>Fold 4</th>\n",
       "      <th>Fold 5</th>\n",
       "      <th>Mean score</th>\n",
       "    </tr>\n",
       "  </thead>\n",
       "  <tbody>\n",
       "    <tr>\n",
       "      <th>0</th>\n",
       "      <td>DecisionTree</td>\n",
       "      <td>&lt;py_entitymatching.matcher.dtmatcher.DTMatcher object at 0x10dcdaac8&gt;</td>\n",
       "      <td>5</td>\n",
       "      <td>1.000000</td>\n",
       "      <td>0.800000</td>\n",
       "      <td>0.666667</td>\n",
       "      <td>1.00</td>\n",
       "      <td>0.500000</td>\n",
       "      <td>0.793333</td>\n",
       "    </tr>\n",
       "    <tr>\n",
       "      <th>1</th>\n",
       "      <td>RF</td>\n",
       "      <td>&lt;py_entitymatching.matcher.rfmatcher.RFMatcher object at 0x10dcdab38&gt;</td>\n",
       "      <td>5</td>\n",
       "      <td>1.000000</td>\n",
       "      <td>1.000000</td>\n",
       "      <td>0.750000</td>\n",
       "      <td>1.00</td>\n",
       "      <td>0.333333</td>\n",
       "      <td>0.816667</td>\n",
       "    </tr>\n",
       "    <tr>\n",
       "      <th>2</th>\n",
       "      <td>SVM</td>\n",
       "      <td>&lt;py_entitymatching.matcher.svmmatcher.SVMMatcher object at 0x10dcdae10&gt;</td>\n",
       "      <td>5</td>\n",
       "      <td>0.833333</td>\n",
       "      <td>0.833333</td>\n",
       "      <td>0.600000</td>\n",
       "      <td>0.60</td>\n",
       "      <td>0.500000</td>\n",
       "      <td>0.673333</td>\n",
       "    </tr>\n",
       "    <tr>\n",
       "      <th>3</th>\n",
       "      <td>LinReg</td>\n",
       "      <td>&lt;py_entitymatching.matcher.linregmatcher.LinRegMatcher object at 0x10dcda908&gt;</td>\n",
       "      <td>5</td>\n",
       "      <td>1.000000</td>\n",
       "      <td>1.000000</td>\n",
       "      <td>1.000000</td>\n",
       "      <td>0.50</td>\n",
       "      <td>0.666667</td>\n",
       "      <td>0.833333</td>\n",
       "    </tr>\n",
       "    <tr>\n",
       "      <th>4</th>\n",
       "      <td>LogReg</td>\n",
       "      <td>&lt;py_entitymatching.matcher.logregmatcher.LogRegMatcher object at 0x10dcdaa90&gt;</td>\n",
       "      <td>5</td>\n",
       "      <td>1.000000</td>\n",
       "      <td>1.000000</td>\n",
       "      <td>1.000000</td>\n",
       "      <td>0.75</td>\n",
       "      <td>0.500000</td>\n",
       "      <td>0.850000</td>\n",
       "    </tr>\n",
       "  </tbody>\n",
       "</table>\n",
       "</div>"
      ],
      "text/plain": [
       "           Name  \\\n",
       "0  DecisionTree   \n",
       "1            RF   \n",
       "2           SVM   \n",
       "3        LinReg   \n",
       "4        LogReg   \n",
       "\n",
       "                                                                         Matcher  \\\n",
       "0          <py_entitymatching.matcher.dtmatcher.DTMatcher object at 0x10dcdaac8>   \n",
       "1          <py_entitymatching.matcher.rfmatcher.RFMatcher object at 0x10dcdab38>   \n",
       "2        <py_entitymatching.matcher.svmmatcher.SVMMatcher object at 0x10dcdae10>   \n",
       "3  <py_entitymatching.matcher.linregmatcher.LinRegMatcher object at 0x10dcda908>   \n",
       "4  <py_entitymatching.matcher.logregmatcher.LogRegMatcher object at 0x10dcdaa90>   \n",
       "\n",
       "   Num folds    Fold 1    Fold 2    Fold 3  Fold 4    Fold 5  Mean score  \n",
       "0          5  1.000000  0.800000  0.666667    1.00  0.500000    0.793333  \n",
       "1          5  1.000000  1.000000  0.750000    1.00  0.333333    0.816667  \n",
       "2          5  0.833333  0.833333  0.600000    0.60  0.500000    0.673333  \n",
       "3          5  1.000000  1.000000  1.000000    0.50  0.666667    0.833333  \n",
       "4          5  1.000000  1.000000  1.000000    0.75  0.500000    0.850000  "
      ]
     },
     "execution_count": 10,
     "metadata": {},
     "output_type": "execute_result"
    }
   ],
   "source": [
    "# Performing CV using precision\n",
    "result = em.select_matcher([dt, rf, svm, ln, lg], table=H_imputed, \n",
    "        exclude_attrs=['_id', 'ltable_id', 'rtable_id', 'is_match'],\n",
    "        k=5,\n",
    "        target_attr='is_match', metric='precision', random_state=seed)\n",
    "result['cv_stats']"
   ]
  },
  {
   "cell_type": "code",
   "execution_count": 11,
   "metadata": {
    "collapsed": false
   },
   "outputs": [
    {
     "data": {
      "text/html": [
       "<div>\n",
       "<table border=\"1\" class=\"dataframe\">\n",
       "  <thead>\n",
       "    <tr style=\"text-align: right;\">\n",
       "      <th></th>\n",
       "      <th>Name</th>\n",
       "      <th>Matcher</th>\n",
       "      <th>Num folds</th>\n",
       "      <th>Fold 1</th>\n",
       "      <th>Fold 2</th>\n",
       "      <th>Fold 3</th>\n",
       "      <th>Fold 4</th>\n",
       "      <th>Fold 5</th>\n",
       "      <th>Mean score</th>\n",
       "    </tr>\n",
       "  </thead>\n",
       "  <tbody>\n",
       "    <tr>\n",
       "      <th>0</th>\n",
       "      <td>DecisionTree</td>\n",
       "      <td>&lt;py_entitymatching.matcher.dtmatcher.DTMatcher object at 0x10dcdaac8&gt;</td>\n",
       "      <td>5</td>\n",
       "      <td>0.8</td>\n",
       "      <td>0.8</td>\n",
       "      <td>0.666667</td>\n",
       "      <td>0.666667</td>\n",
       "      <td>0.5</td>\n",
       "      <td>0.686667</td>\n",
       "    </tr>\n",
       "    <tr>\n",
       "      <th>1</th>\n",
       "      <td>RF</td>\n",
       "      <td>&lt;py_entitymatching.matcher.rfmatcher.RFMatcher object at 0x10dcdab38&gt;</td>\n",
       "      <td>5</td>\n",
       "      <td>0.8</td>\n",
       "      <td>0.4</td>\n",
       "      <td>1.000000</td>\n",
       "      <td>0.666667</td>\n",
       "      <td>0.5</td>\n",
       "      <td>0.673333</td>\n",
       "    </tr>\n",
       "    <tr>\n",
       "      <th>2</th>\n",
       "      <td>SVM</td>\n",
       "      <td>&lt;py_entitymatching.matcher.svmmatcher.SVMMatcher object at 0x10dcdae10&gt;</td>\n",
       "      <td>5</td>\n",
       "      <td>1.0</td>\n",
       "      <td>1.0</td>\n",
       "      <td>1.000000</td>\n",
       "      <td>1.000000</td>\n",
       "      <td>1.0</td>\n",
       "      <td>1.000000</td>\n",
       "    </tr>\n",
       "    <tr>\n",
       "      <th>3</th>\n",
       "      <td>LinReg</td>\n",
       "      <td>&lt;py_entitymatching.matcher.linregmatcher.LinRegMatcher object at 0x10dcda908&gt;</td>\n",
       "      <td>5</td>\n",
       "      <td>0.6</td>\n",
       "      <td>0.6</td>\n",
       "      <td>0.333333</td>\n",
       "      <td>0.666667</td>\n",
       "      <td>1.0</td>\n",
       "      <td>0.640000</td>\n",
       "    </tr>\n",
       "    <tr>\n",
       "      <th>4</th>\n",
       "      <td>LogReg</td>\n",
       "      <td>&lt;py_entitymatching.matcher.logregmatcher.LogRegMatcher object at 0x10dcdaa90&gt;</td>\n",
       "      <td>5</td>\n",
       "      <td>1.0</td>\n",
       "      <td>0.6</td>\n",
       "      <td>1.000000</td>\n",
       "      <td>1.000000</td>\n",
       "      <td>0.5</td>\n",
       "      <td>0.820000</td>\n",
       "    </tr>\n",
       "  </tbody>\n",
       "</table>\n",
       "</div>"
      ],
      "text/plain": [
       "           Name  \\\n",
       "0  DecisionTree   \n",
       "1            RF   \n",
       "2           SVM   \n",
       "3        LinReg   \n",
       "4        LogReg   \n",
       "\n",
       "                                                                         Matcher  \\\n",
       "0          <py_entitymatching.matcher.dtmatcher.DTMatcher object at 0x10dcdaac8>   \n",
       "1          <py_entitymatching.matcher.rfmatcher.RFMatcher object at 0x10dcdab38>   \n",
       "2        <py_entitymatching.matcher.svmmatcher.SVMMatcher object at 0x10dcdae10>   \n",
       "3  <py_entitymatching.matcher.linregmatcher.LinRegMatcher object at 0x10dcda908>   \n",
       "4  <py_entitymatching.matcher.logregmatcher.LogRegMatcher object at 0x10dcdaa90>   \n",
       "\n",
       "   Num folds  Fold 1  Fold 2    Fold 3    Fold 4  Fold 5  Mean score  \n",
       "0          5     0.8     0.8  0.666667  0.666667     0.5    0.686667  \n",
       "1          5     0.8     0.4  1.000000  0.666667     0.5    0.673333  \n",
       "2          5     1.0     1.0  1.000000  1.000000     1.0    1.000000  \n",
       "3          5     0.6     0.6  0.333333  0.666667     1.0    0.640000  \n",
       "4          5     1.0     0.6  1.000000  1.000000     0.5    0.820000  "
      ]
     },
     "execution_count": 11,
     "metadata": {},
     "output_type": "execute_result"
    }
   ],
   "source": [
    "# Performing CV using recall\n",
    "result = em.select_matcher([dt, rf, svm, ln, lg], table=H_imputed, \n",
    "        exclude_attrs=['_id', 'ltable_id', 'rtable_id', 'is_match'],\n",
    "        k=5,\n",
    "        target_attr='is_match', metric='recall', random_state=seed)\n",
    "result['cv_stats']"
   ]
  },
  {
   "cell_type": "code",
   "execution_count": 12,
   "metadata": {
    "collapsed": false
   },
   "outputs": [
    {
     "data": {
      "text/html": [
       "<div>\n",
       "<table border=\"1\" class=\"dataframe\">\n",
       "  <thead>\n",
       "    <tr style=\"text-align: right;\">\n",
       "      <th></th>\n",
       "      <th>Name</th>\n",
       "      <th>Matcher</th>\n",
       "      <th>Num folds</th>\n",
       "      <th>Fold 1</th>\n",
       "      <th>Fold 2</th>\n",
       "      <th>Fold 3</th>\n",
       "      <th>Fold 4</th>\n",
       "      <th>Fold 5</th>\n",
       "      <th>Mean score</th>\n",
       "    </tr>\n",
       "  </thead>\n",
       "  <tbody>\n",
       "    <tr>\n",
       "      <th>0</th>\n",
       "      <td>DecisionTree</td>\n",
       "      <td>&lt;py_entitymatching.matcher.dtmatcher.DTMatcher object at 0x10dcdaac8&gt;</td>\n",
       "      <td>5</td>\n",
       "      <td>0.888889</td>\n",
       "      <td>0.800000</td>\n",
       "      <td>0.666667</td>\n",
       "      <td>0.800000</td>\n",
       "      <td>0.500000</td>\n",
       "      <td>0.731111</td>\n",
       "    </tr>\n",
       "    <tr>\n",
       "      <th>1</th>\n",
       "      <td>RF</td>\n",
       "      <td>&lt;py_entitymatching.matcher.rfmatcher.RFMatcher object at 0x10dcdab38&gt;</td>\n",
       "      <td>5</td>\n",
       "      <td>0.888889</td>\n",
       "      <td>0.571429</td>\n",
       "      <td>0.857143</td>\n",
       "      <td>0.800000</td>\n",
       "      <td>0.400000</td>\n",
       "      <td>0.703492</td>\n",
       "    </tr>\n",
       "    <tr>\n",
       "      <th>2</th>\n",
       "      <td>SVM</td>\n",
       "      <td>&lt;py_entitymatching.matcher.svmmatcher.SVMMatcher object at 0x10dcdae10&gt;</td>\n",
       "      <td>5</td>\n",
       "      <td>0.909091</td>\n",
       "      <td>0.909091</td>\n",
       "      <td>0.750000</td>\n",
       "      <td>0.750000</td>\n",
       "      <td>0.666667</td>\n",
       "      <td>0.796970</td>\n",
       "    </tr>\n",
       "    <tr>\n",
       "      <th>3</th>\n",
       "      <td>LinReg</td>\n",
       "      <td>&lt;py_entitymatching.matcher.linregmatcher.LinRegMatcher object at 0x10dcda908&gt;</td>\n",
       "      <td>5</td>\n",
       "      <td>0.750000</td>\n",
       "      <td>0.750000</td>\n",
       "      <td>0.500000</td>\n",
       "      <td>0.571429</td>\n",
       "      <td>0.800000</td>\n",
       "      <td>0.674286</td>\n",
       "    </tr>\n",
       "    <tr>\n",
       "      <th>4</th>\n",
       "      <td>LogReg</td>\n",
       "      <td>&lt;py_entitymatching.matcher.logregmatcher.LogRegMatcher object at 0x10dcdaa90&gt;</td>\n",
       "      <td>5</td>\n",
       "      <td>1.000000</td>\n",
       "      <td>0.750000</td>\n",
       "      <td>1.000000</td>\n",
       "      <td>0.857143</td>\n",
       "      <td>0.500000</td>\n",
       "      <td>0.821429</td>\n",
       "    </tr>\n",
       "  </tbody>\n",
       "</table>\n",
       "</div>"
      ],
      "text/plain": [
       "           Name  \\\n",
       "0  DecisionTree   \n",
       "1            RF   \n",
       "2           SVM   \n",
       "3        LinReg   \n",
       "4        LogReg   \n",
       "\n",
       "                                                                         Matcher  \\\n",
       "0          <py_entitymatching.matcher.dtmatcher.DTMatcher object at 0x10dcdaac8>   \n",
       "1          <py_entitymatching.matcher.rfmatcher.RFMatcher object at 0x10dcdab38>   \n",
       "2        <py_entitymatching.matcher.svmmatcher.SVMMatcher object at 0x10dcdae10>   \n",
       "3  <py_entitymatching.matcher.linregmatcher.LinRegMatcher object at 0x10dcda908>   \n",
       "4  <py_entitymatching.matcher.logregmatcher.LogRegMatcher object at 0x10dcdaa90>   \n",
       "\n",
       "   Num folds    Fold 1    Fold 2    Fold 3    Fold 4    Fold 5  Mean score  \n",
       "0          5  0.888889  0.800000  0.666667  0.800000  0.500000    0.731111  \n",
       "1          5  0.888889  0.571429  0.857143  0.800000  0.400000    0.703492  \n",
       "2          5  0.909091  0.909091  0.750000  0.750000  0.666667    0.796970  \n",
       "3          5  0.750000  0.750000  0.500000  0.571429  0.800000    0.674286  \n",
       "4          5  1.000000  0.750000  1.000000  0.857143  0.500000    0.821429  "
      ]
     },
     "execution_count": 12,
     "metadata": {},
     "output_type": "execute_result"
    }
   ],
   "source": [
    "# Performing CV using F-1\n",
    "result = em.select_matcher([dt, rf, svm, ln, lg], table=H_imputed, \n",
    "        exclude_attrs=['_id', 'ltable_id', 'rtable_id', 'is_match'],\n",
    "        k=5,\n",
    "        target_attr='is_match', metric='f1', random_state=seed)\n",
    "result['cv_stats']"
   ]
  },
  {
   "cell_type": "markdown",
   "metadata": {},
   "source": [
    "We select SVM matcher for its highest reall and F-1."
   ]
  },
  {
   "cell_type": "markdown",
   "metadata": {},
   "source": [
    "### Debug X (SVM)"
   ]
  },
  {
   "cell_type": "markdown",
   "metadata": {},
   "source": [
    "Split the feature vectors H of the development set I into a training set P and a testing set Q."
   ]
  },
  {
   "cell_type": "code",
   "execution_count": 13,
   "metadata": {
    "collapsed": true
   },
   "outputs": [],
   "source": [
    "# Split H into P and Q\n",
    "PQ = em.split_train_test(H, train_proportion=0.5, random_state=seed)\n",
    "P = PQ['train']\n",
    "Q = PQ['test']"
   ]
  },
  {
   "cell_type": "markdown",
   "metadata": {},
   "source": [
    "Since there is no visual debugger for SVM matcher, we debug SVM matcher using proxy debugging with Decision Tree matcher."
   ]
  },
  {
   "cell_type": "code",
   "execution_count": 16,
   "metadata": {
    "collapsed": true
   },
   "outputs": [],
   "source": [
    "# Debug Decision Tree matcher using GUI\n",
    "em.vis_debug_dt(dt, P, Q, \n",
    "        exclude_attrs=['_id', 'ltable_id', 'rtable_id', 'is_match'],\n",
    "        target_attr='is_match')"
   ]
  },
  {
   "cell_type": "markdown",
   "metadata": {},
   "source": [
    "TODO: Refer to <a href=\"https://nbviewer.jupyter.org/github/anhaidgroup/py_entitymatching/blob/rel_0.1.x/notebooks/guides/step_wise_em_guides/Selecting%20the%20Best%20Learning%20Matcher.ipynb#Debug-X-(Random-Forest)\">this guide</a> to know more about visual debugging."
   ]
  },
  {
   "cell_type": "markdown",
   "metadata": {},
   "source": [
    "TODO: We found xxx problems and yyy to fix them."
   ]
  },
  {
   "cell_type": "code",
   "execution_count": 17,
   "metadata": {
    "collapsed": true
   },
   "outputs": [],
   "source": [
    "# Add some new feature to F"
   ]
  },
  {
   "cell_type": "code",
   "execution_count": 19,
   "metadata": {
    "collapsed": false
   },
   "outputs": [],
   "source": [
    "# Convert I into feature vectors using updated F\n",
    "H = em.extract_feature_vecs(I, \n",
    "                            feature_table=F, \n",
    "                            attrs_after='is_match',\n",
    "                            show_progress=False)"
   ]
  },
  {
   "cell_type": "code",
   "execution_count": 20,
   "metadata": {
    "collapsed": false
   },
   "outputs": [
    {
     "data": {
      "text/html": [
       "<div>\n",
       "<table border=\"1\" class=\"dataframe\">\n",
       "  <thead>\n",
       "    <tr style=\"text-align: right;\">\n",
       "      <th></th>\n",
       "      <th>Name</th>\n",
       "      <th>Matcher</th>\n",
       "      <th>Num folds</th>\n",
       "      <th>Fold 1</th>\n",
       "      <th>Fold 2</th>\n",
       "      <th>Fold 3</th>\n",
       "      <th>Fold 4</th>\n",
       "      <th>Fold 5</th>\n",
       "      <th>Mean score</th>\n",
       "    </tr>\n",
       "  </thead>\n",
       "  <tbody>\n",
       "    <tr>\n",
       "      <th>0</th>\n",
       "      <td>SVM</td>\n",
       "      <td>&lt;py_entitymatching.matcher.svmmatcher.SVMMatcher object at 0x10dcdae10&gt;</td>\n",
       "      <td>5</td>\n",
       "      <td>0.909091</td>\n",
       "      <td>0.909091</td>\n",
       "      <td>0.75</td>\n",
       "      <td>0.75</td>\n",
       "      <td>0.666667</td>\n",
       "      <td>0.79697</td>\n",
       "    </tr>\n",
       "  </tbody>\n",
       "</table>\n",
       "</div>"
      ],
      "text/plain": [
       "  Name  \\\n",
       "0  SVM   \n",
       "\n",
       "                                                                   Matcher  \\\n",
       "0  <py_entitymatching.matcher.svmmatcher.SVMMatcher object at 0x10dcdae10>   \n",
       "\n",
       "   Num folds    Fold 1    Fold 2  Fold 3  Fold 4    Fold 5  Mean score  \n",
       "0          5  0.909091  0.909091    0.75    0.75  0.666667     0.79697  "
      ]
     },
     "execution_count": 20,
     "metadata": {},
     "output_type": "execute_result"
    }
   ],
   "source": [
    "# Check whether the updated F improves X \n",
    "result = em.select_matcher([svm], table=H, \n",
    "        exclude_attrs=['_id', 'ltable_id', 'rtable_id', 'is_match'],\n",
    "        k=5,\n",
    "        target_attr='is_match', metric='f1', random_state=0)\n",
    "result['cv_stats']"
   ]
  },
  {
   "cell_type": "markdown",
   "metadata": {},
   "source": [
    "### Selecting the best matcher using cross-validation"
   ]
  },
  {
   "cell_type": "markdown",
   "metadata": {},
   "source": [
    "### Debug X"
   ]
  },
  {
   "cell_type": "markdown",
   "metadata": {},
   "source": [
    "### Selecting the best matcher using cross-validation"
   ]
  },
  {
   "cell_type": "markdown",
   "metadata": {},
   "source": [
    "### Testing"
   ]
  },
  {
   "cell_type": "code",
   "execution_count": 21,
   "metadata": {
    "collapsed": true
   },
   "outputs": [],
   "source": [
    "# Instantiate matchers to evaluate.\n",
    "matchers = [\n",
    "    em.DTMatcher(name='DecisionTree', random_state=seed),\n",
    "    em.SVMMatcher(name='SVM', random_state=seed),\n",
    "    em.RFMatcher(name='RF', random_state=seed),\n",
    "    em.LogRegMatcher(name='LogReg', random_state=seed),\n",
    "    em.LinRegMatcher(name='LinReg'),\n",
    "]"
   ]
  },
  {
   "cell_type": "code",
   "execution_count": 27,
   "metadata": {
    "collapsed": false
   },
   "outputs": [
    {
     "name": "stdout",
     "output_type": "stream",
     "text": [
      "Precision : 95.65% (22/23)\n",
      "Recall : 88.0% (22/25)\n",
      "F1 : 91.67%\n",
      "False positives : 1 (out of 23 positive predictions)\n",
      "False negatives : 3 (out of 5 negative predictions)\n",
      "Precision : 95.65% (22/23)\n",
      "Recall : 88.0% (22/25)\n",
      "F1 : 91.67%\n",
      "False positives : 1 (out of 23 positive predictions)\n",
      "False negatives : 3 (out of 5 negative predictions)\n",
      "Precision : 95.65% (22/23)\n",
      "Recall : 88.0% (22/25)\n",
      "F1 : 91.67%\n",
      "False positives : 1 (out of 23 positive predictions)\n",
      "False negatives : 3 (out of 5 negative predictions)\n",
      "Precision : 95.65% (22/23)\n",
      "Recall : 88.0% (22/25)\n",
      "F1 : 91.67%\n",
      "False positives : 1 (out of 23 positive predictions)\n",
      "False negatives : 3 (out of 5 negative predictions)\n",
      "Precision : 95.65% (22/23)\n",
      "Recall : 88.0% (22/25)\n",
      "F1 : 91.67%\n",
      "False positives : 1 (out of 23 positive predictions)\n",
      "False negatives : 3 (out of 5 negative predictions)\n"
     ]
    }
   ],
   "source": [
    "eval_results = []\n",
    "for m in matchers :\n",
    "    # Train using feature vectors from I \n",
    "    m.fit(table=H, \n",
    "           exclude_attrs=['_id', 'ltable_id', 'rtable_id', 'is_match'], \n",
    "           target_attr='is_match')\n",
    "\n",
    "    # Convert J into a set of feature vectors using F\n",
    "    L = em.extract_feature_vecs(J, feature_table=F,\n",
    "                                attrs_after='is_match', show_progress=False)\n",
    "\n",
    "    # Predict on L \n",
    "    predictions = dt.predict(table=L, exclude_attrs=['_id', 'ltable_id', 'rtable_id', 'is_match'], \n",
    "                  append=True, target_attr='predicted', inplace=False)\n",
    "    # Evaluate the predictions\n",
    "    eval_result = em.eval_matches(predictions, 'is_match', 'predicted')\n",
    "    eval_results.append(eval_result)\n",
    "    em.print_eval_summary(eval_result)"
   ]
  },
  {
   "cell_type": "code",
   "execution_count": 35,
   "metadata": {
    "collapsed": false
   },
   "outputs": [],
   "source": [
    "df = pd.DataFrame(eval_results, index=[m.name for m in matchers])"
   ]
  },
  {
   "cell_type": "code",
   "execution_count": 36,
   "metadata": {
    "collapsed": false
   },
   "outputs": [
    {
     "data": {
      "text/plain": [
       "<matplotlib.axes._subplots.AxesSubplot at 0x11e290630>"
      ]
     },
     "execution_count": 36,
     "metadata": {},
     "output_type": "execute_result"
    },
    {
     "data": {
      "image/png": "[encoded data removed]",
      "text/plain": [
       "<matplotlib.figure.Figure at 0x11e26b8d0>"
      ]
     },
     "metadata": {},
     "output_type": "display_data"
    }
   ],
   "source": [
    "df[['precision', 'recall', 'f1']].plot(kind='bar')"
   ]
  }
 ],
 "metadata": {
  "kernelspec": {
   "display_name": "Python 3",
   "language": "python",
   "name": "python3"
  },
  "language_info": {
   "codemirror_mode": {
    "name": "ipython",
    "version": 3
   },
   "file_extension": ".py",
   "mimetype": "text/x-python",
   "name": "python",
   "nbconvert_exporter": "python",
   "pygments_lexer": "ipython3",
   "version": "3.5.3"
  }
 },
 "nbformat": 4,
 "nbformat_minor": 2
}
