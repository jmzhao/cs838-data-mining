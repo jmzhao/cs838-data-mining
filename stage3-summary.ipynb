{
 "cells": [
  {
   "cell_type": "markdown",
   "metadata": {},
   "source": [
    "# 4. Summary and discussion\n",
    "\n",
    "## 4.1 Time estimates"
   ]
  },
  {
   "cell_type": "markdown",
   "metadata": {},
   "source": [
    "### 4.1.1 Blocking step:\n",
    "\n",
    "    In the blokcing step, we have used three different blokcing techniques (overlap, EA, hashing). At first we used overlap to test out how many pairs can be removed. As we kept testing the detailed setup and the additional rules (common stop words and the common starting word dictionary), the blocking step used about 6 hours to achieve the final acceptable blocking power."
   ]
  },
  {
   "cell_type": "markdown",
   "metadata": {},
   "source": [
    "### 4.1.2 Labeling step:\n",
    "    In the labeling step we have different iterations to label small sample sets to help examine the blocking results. Along the labeling step we also added rules to the blocking functions.\n",
    "    1. We used about 10 minutes to label the 50-sample dataset\n",
    "    2. We used 30 minutes to add additional rules to the blocker and refine the blocking results.\n",
    "    3. We used 1 hour to label the 300-sample G dataset.\n",
    "    The total time used is about 3 hours."
   ]
  },
  {
   "cell_type": "markdown",
   "metadata": {},
   "source": [
    "### 4.1.3 Matching step:"
   ]
  },
  {
   "cell_type": "markdown",
   "metadata": {},
   "source": [
    "## 4.2 Matching results discussion"
   ]
  },
  {
   "cell_type": "markdown",
   "metadata": {},
   "source": [
    "## 4.3 Comments on Magellan\n"
   ]
  },
  {
   "cell_type": "markdown",
   "metadata": {},
   "source": [
    "### 4.3.1 Bug reports\n",
    "\n",
    "- A typo (missing \",\") at `In[6]` in the [overlap blocker Jupyter notebook](https://nbviewer.jupyter.org/github/anhaidgroup/py_entitymatching/blob/rel_0.1.x/notebooks/guides/step_wise_em_guides/Performing%20Blocking%20Using%20Built-In%20Blockers%20%28Overlap%20Blocker%29.ipynb) in the [stepwise guide](http://anhaidgroup.github.io/py_entitymatching/v0.1.x/singlepage.html#stepwise-guides)."
   ]
  },
  {
   "cell_type": "code",
   "execution_count": null,
   "metadata": {
    "collapsed": true
   },
   "outputs": [],
   "source": []
  }
 ],
 "metadata": {
  "kernelspec": {
   "display_name": "Python 3",
   "language": "python",
   "name": "python3"
  },
  "language_info": {
   "codemirror_mode": {
    "name": "ipython",
    "version": 3
   },
   "file_extension": ".py",
   "mimetype": "text/x-python",
   "name": "python",
   "nbconvert_exporter": "python",
   "pygments_lexer": "ipython3",
   "version": "3.5.3"
  }
 },
 "nbformat": 4,
 "nbformat_minor": 2
}
