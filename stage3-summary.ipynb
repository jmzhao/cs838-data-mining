{
 "cells": [
  {
   "cell_type": "markdown",
   "metadata": {
    "deletable": true,
    "editable": true
   },
   "source": [
    "# 4. Summary and discussion\n",
    "\n",
    "## 4.1 Time estimates"
   ]
  },
  {
   "cell_type": "markdown",
   "metadata": {
    "deletable": true,
    "editable": true
   },
   "source": [
    "### 4.1.1 Blocking step\n",
    "\n",
    "In the blokcing step, we have used three different blokcing techniques (overlap, EA, hashing). At first we used overlap to test out how many pairs can be removed. As we kept testing the detailed setup and the additional rules (common stop words and the common starting word dictionary), the blocking step used about 6 hours to achieve the final acceptable blocking power."
   ]
  },
  {
   "cell_type": "markdown",
   "metadata": {
    "deletable": true,
    "editable": true
   },
   "source": [
    "### 4.1.2 Labeling step\n",
    "In the labeling step we have different iterations to label small sample sets to help examine the blocking results. Along the labeling step we also added rules to the blocking functions.\n",
    "1. We used about 10 minutes to label the 50-sample dataset\n",
    "2. We used 30 minutes to add additional rules to the blocker and refine the blocking results.\n",
    "3. We used 1 hour to label the 300-sample G dataset.\n",
    "The total time used is about 3 hours."
   ]
  },
  {
   "cell_type": "markdown",
   "metadata": {
    "deletable": true,
    "editable": true
   },
   "source": [
    "### 4.1.3 Matching step"
   ]
  },
  {
   "cell_type": "markdown",
   "metadata": {
    "deletable": true,
    "editable": true
   },
   "source": [
    "## 4.2 Matching results discussion\n",
    "\n",
    "Here we discuss on why you didn't reach higher recall, and what you can do in the future to obtain higher recall."
   ]
  },
  {
   "cell_type": "markdown",
   "metadata": {},
   "source": [
    "### 4.2.1 Under-used \"Industry\" field\n",
    "\n",
    "Although \"Industry\" field appears in both Forbes and NASDAQ tables, the possible values they use are quite different. \"Industry\" field values in the two table may have no word in common even for the same company. For example, 3M is \"Conglomerates\" in Forbes but \"Medical/Dental Instruments\" in NASDAQ. This makes it very hard to directly utilize the field to help identify matching companies. \n",
    "\n",
    "In the future, we may investigate into the categorization of the field in the two tables in order to find intrinsic correlations, maybe some sophisticated translation table, that can help distinguish companies from different or possibly same industries."
   ]
  },
  {
   "cell_type": "markdown",
   "metadata": {},
   "source": [
    "### 4.2.2 Human errors\n",
    "\n",
    "During the matching and debugging process, we found multiple labels themselved are marked wrong, attributed to the teammate who labeled all those pairs of companies. We cannot blame him for the considerable amount tiredness and boredness raised from the exhaustive labor work as all of us could possible imagine, not to mention the tight time limit.\n",
    "\n",
    "In the future, we shall be more carful about and double check labeled data, and shall also be ready to make corrections to new mistakes found."
   ]
  },
  {
   "cell_type": "markdown",
   "metadata": {
    "deletable": true,
    "editable": true
   },
   "source": [
    "## 4.3 Comments on Magellan"
   ]
  },
  {
   "cell_type": "markdown",
   "metadata": {
    "deletable": true,
    "editable": true
   },
   "source": [
    "### 4.3.1 Bug reports\n",
    "\n",
    "- A typo (missing \",\") at `In[6]` in the [overlap blocker Jupyter notebook](https://nbviewer.jupyter.org/github/anhaidgroup/py_entitymatching/blob/rel_0.1.x/notebooks/guides/step_wise_em_guides/Performing%20Blocking%20Using%20Built-In%20Blockers%20%28Overlap%20Blocker%29.ipynb) in the [stepwise guide](http://anhaidgroup.github.io/py_entitymatching/v0.1.x/singlepage.html#stepwise-guides)."
   ]
  },
  {
   "cell_type": "markdown",
   "metadata": {},
   "source": [
    "### 4.3.2 Features/capabilities that we would really like to see being added\n",
    "- Cross validation (`select_matcher`) to return multiple metrics at the same time. Now we need to call `select_matcher` three times in order to access precision, recall and F1, which can actually be down within the same run."
   ]
  },
  {
   "cell_type": "markdown",
   "metadata": {},
   "source": [
    "### 4.3.3 What else would we like to see in Magellan\n",
    "- A detailed explanation on how to use existing facilities to build now feature functions (`get_feature_fn`). Although there are some examples in guilds and API documentations, the demostrated usage are still limited. I realized later by myself that we might be able to use functions/tokenizers provided in `get_sim_funs_for_matching()` and `get_tokenizers_for_matching()`. It may be very helpful at first place some documentation on how to write a feature declaratively as\n",
    "```\n",
    "'jaccard(qgm_3(ltuple.address + ltuple.zipcode), qgm_3(rtuple.address + rtuple.zipcode)'\n",
    "```\n",
    "in [API Reference](http://anhaidgroup.github.io/py_entitymatching/v0.1.x/singlepage.html#ways-to-edit-the-manual-feature-generation-process)."
   ]
  }
 ],
 "metadata": {
  "kernelspec": {
   "display_name": "Python 3",
   "language": "python",
   "name": "python3"
  },
  "language_info": {
   "codemirror_mode": {
    "name": "ipython",
    "version": 3
   },
   "file_extension": ".py",
   "mimetype": "text/x-python",
   "name": "python",
   "nbconvert_exporter": "python",
   "pygments_lexer": "ipython3",
   "version": "3.5.3"
  }
 },
 "nbformat": 4,
 "nbformat_minor": 2
}
