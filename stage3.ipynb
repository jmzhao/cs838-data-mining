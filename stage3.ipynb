{
 "cells": [
  {
   "cell_type": "markdown",
   "metadata": {
    "deletable": true,
    "editable": true
   },
   "source": [
    "# Stage 3 - Entity Mathcing "
   ]
  },
  {
   "cell_type": "code",
   "execution_count": 1,
   "metadata": {
    "collapsed": false,
    "deletable": true,
    "editable": true
   },
   "outputs": [],
   "source": [
    "from collections import Counter\n",
    "import os\n",
    "\n",
    "import matplotlib.pyplot as plt\n",
    "%matplotlib inline\n",
    "import numpy as np\n",
    "import pandas as pd\n",
    "\n",
    "import py_entitymatching as em"
   ]
  },
  {
   "cell_type": "markdown",
   "metadata": {
    "deletable": true,
    "editable": true
   },
   "source": [
    "## Data\n",
    "\n",
    "The type of entity we want to match is company. The two tables are Fortune 500 lists crawled from [Fortune](http://fortune.com/) and NASDAQ company information downloaded from [NASDAQ](http://www.nasdaq.com/). See detailed information about our data below."
   ]
  },
  {
   "cell_type": "markdown",
   "metadata": {
    "deletable": true,
    "editable": true
   },
   "source": [
    "### Fortune 500 data\n",
    "(Description goes here...)"
   ]
  },
  {
   "cell_type": "code",
   "execution_count": 2,
   "metadata": {
    "collapsed": false,
    "deletable": true,
    "editable": true
   },
   "outputs": [
    {
     "name": "stdout",
     "output_type": "stream",
     "text": [
      "# tuples: 3110\n"
     ]
    }
   ],
   "source": [
    "forbes_filename = './dataset/structured_data/forbes_all.csv'\n",
    "forbes_df = pd.read_csv(open(forbes_filename, encoding = \"ISO-8859-1\"))\n",
    "print(\"# tuples:\", len(forbes_df))"
   ]
  },
  {
   "cell_type": "markdown",
   "metadata": {
    "deletable": true,
    "editable": true
   },
   "source": [
    "Here is some sample tuples."
   ]
  },
  {
   "cell_type": "code",
   "execution_count": 3,
   "metadata": {
    "collapsed": false,
    "deletable": true,
    "editable": true
   },
   "outputs": [
    {
     "data": {
      "text/html": [
       "<div>\n",
       "<table border=\"1\" class=\"dataframe\">\n",
       "  <thead>\n",
       "    <tr style=\"text-align: right;\">\n",
       "      <th></th>\n",
       "      <th>ID</th>\n",
       "      <th>Company</th>\n",
       "      <th>Country</th>\n",
       "      <th>Industry</th>\n",
       "      <th>Sales (M)</th>\n",
       "      <th>Profits (M)</th>\n",
       "      <th>Assets (M)</th>\n",
       "      <th>Market Value (M)</th>\n",
       "      <th>Employee</th>\n",
       "    </tr>\n",
       "  </thead>\n",
       "  <tbody>\n",
       "    <tr>\n",
       "      <th>0</th>\n",
       "      <td>1</td>\n",
       "      <td>3i Group</td>\n",
       "      <td>United Kingdom</td>\n",
       "      <td>Investment Services</td>\n",
       "      <td>485</td>\n",
       "      <td>925</td>\n",
       "      <td>7500</td>\n",
       "      <td>6700</td>\n",
       "      <td>-</td>\n",
       "    </tr>\n",
       "    <tr>\n",
       "      <th>1</th>\n",
       "      <td>2</td>\n",
       "      <td>3M</td>\n",
       "      <td>United States</td>\n",
       "      <td>Conglomerates</td>\n",
       "      <td>30300</td>\n",
       "      <td>4800</td>\n",
       "      <td>32700</td>\n",
       "      <td>102200</td>\n",
       "      <td>-</td>\n",
       "    </tr>\n",
       "    <tr>\n",
       "      <th>2</th>\n",
       "      <td>3</td>\n",
       "      <td>4moms</td>\n",
       "      <td>United States</td>\n",
       "      <td>Consumer Durables</td>\n",
       "      <td>$48</td>\n",
       "      <td>-</td>\n",
       "      <td>-</td>\n",
       "      <td>-</td>\n",
       "      <td>175</td>\n",
       "    </tr>\n",
       "    <tr>\n",
       "      <th>3</th>\n",
       "      <td>4</td>\n",
       "      <td>77 Bank</td>\n",
       "      <td>Japan</td>\n",
       "      <td>Regional Banks</td>\n",
       "      <td>853</td>\n",
       "      <td>165</td>\n",
       "      <td>69100</td>\n",
       "      <td>1400</td>\n",
       "      <td>-</td>\n",
       "    </tr>\n",
       "    <tr>\n",
       "      <th>4</th>\n",
       "      <td>5</td>\n",
       "      <td>84 Lumber</td>\n",
       "      <td>United States</td>\n",
       "      <td>Retailing</td>\n",
       "      <td>2500</td>\n",
       "      <td>-</td>\n",
       "      <td>-</td>\n",
       "      <td>-</td>\n",
       "      <td>4,700</td>\n",
       "    </tr>\n",
       "  </tbody>\n",
       "</table>\n",
       "</div>"
      ],
      "text/plain": [
       "   ID    Company         Country             Industry Sales (M) Profits (M)  \\\n",
       "0   1   3i Group  United Kingdom  Investment Services       485         925   \n",
       "1   2         3M   United States        Conglomerates     30300        4800   \n",
       "2   3      4moms   United States    Consumer Durables      $48            -   \n",
       "3   4    77 Bank           Japan       Regional Banks       853         165   \n",
       "4   5  84 Lumber   United States            Retailing      2500           -   \n",
       "\n",
       "  Assets (M) Market Value (M) Employee  \n",
       "0       7500             6700        -  \n",
       "1      32700           102200        -  \n",
       "2          -                -      175  \n",
       "3      69100             1400        -  \n",
       "4          -                -    4,700  "
      ]
     },
     "execution_count": 3,
     "metadata": {},
     "output_type": "execute_result"
    }
   ],
   "source": [
    "forbes_df[:5]"
   ]
  },
  {
   "cell_type": "markdown",
   "metadata": {
    "deletable": true,
    "editable": true
   },
   "source": [
    "### NASDAQ data\n",
    "(Description goes here...)"
   ]
  },
  {
   "cell_type": "code",
   "execution_count": 4,
   "metadata": {
    "collapsed": false,
    "deletable": true,
    "editable": true
   },
   "outputs": [
    {
     "name": "stdout",
     "output_type": "stream",
     "text": [
      "# tuples: 6709\n"
     ]
    }
   ],
   "source": [
    "nasdaq_filename = './dataset/structured_data/nasdaq.csv'\n",
    "nasdaq_df = pd.read_csv(nasdaq_filename)\n",
    "print(\"# tuples:\", len(nasdaq_df))"
   ]
  },
  {
   "cell_type": "markdown",
   "metadata": {
    "deletable": true,
    "editable": true
   },
   "source": [
    "Here is some sample tuples."
   ]
  },
  {
   "cell_type": "code",
   "execution_count": 5,
   "metadata": {
    "collapsed": false,
    "deletable": true,
    "editable": true
   },
   "outputs": [
    {
     "data": {
      "text/html": [
       "<div>\n",
       "<table border=\"1\" class=\"dataframe\">\n",
       "  <thead>\n",
       "    <tr style=\"text-align: right;\">\n",
       "      <th></th>\n",
       "      <th>ID</th>\n",
       "      <th>Symbol</th>\n",
       "      <th>Name</th>\n",
       "      <th>LastSale</th>\n",
       "      <th>MarketCap</th>\n",
       "      <th>IPOyear</th>\n",
       "      <th>Sector</th>\n",
       "      <th>industry</th>\n",
       "      <th>Summary Quote</th>\n",
       "    </tr>\n",
       "  </thead>\n",
       "  <tbody>\n",
       "    <tr>\n",
       "      <th>0</th>\n",
       "      <td>1</td>\n",
       "      <td>PIH</td>\n",
       "      <td>1347 Property Insurance Holdings, Inc.</td>\n",
       "      <td>7.25</td>\n",
       "      <td>$43.2M</td>\n",
       "      <td>2014</td>\n",
       "      <td>Finance</td>\n",
       "      <td>Property-Casualty Insurers</td>\n",
       "      <td>http://www.nasdaq.com/symbol/pih</td>\n",
       "    </tr>\n",
       "    <tr>\n",
       "      <th>1</th>\n",
       "      <td>2</td>\n",
       "      <td>FLWS</td>\n",
       "      <td>1-800 FLOWERS.COM, Inc.</td>\n",
       "      <td>10.15</td>\n",
       "      <td>$665.53M</td>\n",
       "      <td>1999</td>\n",
       "      <td>Consumer Services</td>\n",
       "      <td>Other Specialty Stores</td>\n",
       "      <td>http://www.nasdaq.com/symbol/flws</td>\n",
       "    </tr>\n",
       "    <tr>\n",
       "      <th>2</th>\n",
       "      <td>3</td>\n",
       "      <td>FCCY</td>\n",
       "      <td>1st Constitution Bancorp (NJ)</td>\n",
       "      <td>18.6</td>\n",
       "      <td>$148.68M</td>\n",
       "      <td>n/a</td>\n",
       "      <td>Finance</td>\n",
       "      <td>Savings Institutions</td>\n",
       "      <td>http://www.nasdaq.com/symbol/fccy</td>\n",
       "    </tr>\n",
       "    <tr>\n",
       "      <th>3</th>\n",
       "      <td>4</td>\n",
       "      <td>SRCE</td>\n",
       "      <td>1st Source Corporation</td>\n",
       "      <td>47.06</td>\n",
       "      <td>$1.22B</td>\n",
       "      <td>n/a</td>\n",
       "      <td>Finance</td>\n",
       "      <td>Major Banks</td>\n",
       "      <td>http://www.nasdaq.com/symbol/srce</td>\n",
       "    </tr>\n",
       "    <tr>\n",
       "      <th>4</th>\n",
       "      <td>5</td>\n",
       "      <td>VNET</td>\n",
       "      <td>21Vianet Group, Inc.</td>\n",
       "      <td>7.24</td>\n",
       "      <td>$823.07M</td>\n",
       "      <td>2011</td>\n",
       "      <td>Technology</td>\n",
       "      <td>Computer Software: Programming, Data Processing</td>\n",
       "      <td>http://www.nasdaq.com/symbol/vnet</td>\n",
       "    </tr>\n",
       "  </tbody>\n",
       "</table>\n",
       "</div>"
      ],
      "text/plain": [
       "   ID Symbol                                    Name LastSale MarketCap  \\\n",
       "0   1    PIH  1347 Property Insurance Holdings, Inc.     7.25    $43.2M   \n",
       "1   2   FLWS                 1-800 FLOWERS.COM, Inc.    10.15  $665.53M   \n",
       "2   3   FCCY           1st Constitution Bancorp (NJ)     18.6  $148.68M   \n",
       "3   4   SRCE                  1st Source Corporation    47.06    $1.22B   \n",
       "4   5   VNET                    21Vianet Group, Inc.     7.24  $823.07M   \n",
       "\n",
       "  IPOyear             Sector                                         industry  \\\n",
       "0    2014            Finance                       Property-Casualty Insurers   \n",
       "1    1999  Consumer Services                           Other Specialty Stores   \n",
       "2     n/a            Finance                             Savings Institutions   \n",
       "3     n/a            Finance                                      Major Banks   \n",
       "4    2011         Technology  Computer Software: Programming, Data Processing   \n",
       "\n",
       "                       Summary Quote  \n",
       "0   http://www.nasdaq.com/symbol/pih  \n",
       "1  http://www.nasdaq.com/symbol/flws  \n",
       "2  http://www.nasdaq.com/symbol/fccy  \n",
       "3  http://www.nasdaq.com/symbol/srce  \n",
       "4  http://www.nasdaq.com/symbol/vnet  "
      ]
     },
     "execution_count": 5,
     "metadata": {},
     "output_type": "execute_result"
    }
   ],
   "source": [
    "nasdaq_df[:5]"
   ]
  },
  {
   "cell_type": "markdown",
   "metadata": {
    "deletable": true,
    "editable": true
   },
   "source": [
    "We are to make use of the fields of name, industry, sector and market value."
   ]
  },
  {
   "cell_type": "code",
   "execution_count": 6,
   "metadata": {
    "collapsed": true,
    "deletable": true,
    "editable": true
   },
   "outputs": [],
   "source": [
    "all_fields = ['Name', 'Industry', 'MarketValue']"
   ]
  },
  {
   "cell_type": "code",
   "execution_count": 7,
   "metadata": {
    "collapsed": false,
    "deletable": true,
    "editable": true
   },
   "outputs": [],
   "source": [
    "forbes = forbes_df.rename(columns={'Company':'Name', 'Market Value (M)':'MarketValue'})"
   ]
  },
  {
   "cell_type": "code",
   "execution_count": 8,
   "metadata": {
    "collapsed": false,
    "deletable": true,
    "editable": true
   },
   "outputs": [],
   "source": [
    "nasdaq = nasdaq_df.rename(columns={'industry':'Industry', 'MarketCap':'MarketValue'})"
   ]
  },
  {
   "cell_type": "markdown",
   "metadata": {
    "deletable": true,
    "editable": true
   },
   "source": [
    "## Blocking"
   ]
  },
  {
   "cell_type": "code",
   "execution_count": 9,
   "metadata": {
    "collapsed": false
   },
   "outputs": [
    {
     "data": {
      "text/plain": [
       "True"
      ]
     },
     "execution_count": 9,
     "metadata": {},
     "output_type": "execute_result"
    }
   ],
   "source": [
    "A = forbes\n",
    "em.set_key(A, \"ID\")"
   ]
  },
  {
   "cell_type": "code",
   "execution_count": 10,
   "metadata": {
    "collapsed": false
   },
   "outputs": [
    {
     "data": {
      "text/plain": [
       "True"
      ]
     },
     "execution_count": 10,
     "metadata": {},
     "output_type": "execute_result"
    }
   ],
   "source": [
    "B = nasdaq\n",
    "em.set_key(B, \"ID\")"
   ]
  },
  {
   "cell_type": "code",
   "execution_count": 11,
   "metadata": {
    "collapsed": true,
    "deletable": true,
    "editable": true
   },
   "outputs": [],
   "source": [
    "ob = em.OverlapBlocker()"
   ]
  },
  {
   "cell_type": "code",
   "execution_count": 12,
   "metadata": {
    "collapsed": false
   },
   "outputs": [],
   "source": [
    "ob.stop_words.extend(w.lower() for w in [\n",
    "    'property', 'holdings', 'inc', 'bancorp', 'Bancorporation'\n",
    "    'Corporation', 'Group', 'Company',\n",
    "    'Insurance', 'Bank', 'Pharmaceuticals', 'Pharma', \n",
    "    'Systems', 'Technologies', 'Express',\n",
    "    'Mining', 'Energy', 'Electric', 'Gas', 'Oil', 'Power'])\n",
    "ob.stop_words = list(set(ob.stop_words))"
   ]
  },
  {
   "cell_type": "code",
   "execution_count": 13,
   "metadata": {
    "collapsed": false
   },
   "outputs": [
    {
     "name": "stdout",
     "output_type": "stream",
     "text": [
      "49499\n"
     ]
    },
    {
     "data": {
      "text/html": [
       "<div>\n",
       "<table border=\"1\" class=\"dataframe\">\n",
       "  <thead>\n",
       "    <tr style=\"text-align: right;\">\n",
       "      <th></th>\n",
       "      <th>_id</th>\n",
       "      <th>ltable_ID</th>\n",
       "      <th>rtable_ID</th>\n",
       "      <th>ltable_Name</th>\n",
       "      <th>ltable_Industry</th>\n",
       "      <th>ltable_MarketValue</th>\n",
       "      <th>rtable_Name</th>\n",
       "      <th>rtable_Industry</th>\n",
       "      <th>rtable_MarketValue</th>\n",
       "    </tr>\n",
       "  </thead>\n",
       "  <tbody>\n",
       "    <tr>\n",
       "      <th>0</th>\n",
       "      <td>0</td>\n",
       "      <td>1</td>\n",
       "      <td>1</td>\n",
       "      <td>3i Group</td>\n",
       "      <td>Investment Services</td>\n",
       "      <td>6700</td>\n",
       "      <td>3i Group</td>\n",
       "      <td>Investment Services</td>\n",
       "      <td>6700</td>\n",
       "    </tr>\n",
       "    <tr>\n",
       "      <th>1</th>\n",
       "      <td>1</td>\n",
       "      <td>2</td>\n",
       "      <td>2</td>\n",
       "      <td>3M</td>\n",
       "      <td>Conglomerates</td>\n",
       "      <td>102200</td>\n",
       "      <td>3M</td>\n",
       "      <td>Conglomerates</td>\n",
       "      <td>102200</td>\n",
       "    </tr>\n",
       "    <tr>\n",
       "      <th>2</th>\n",
       "      <td>2</td>\n",
       "      <td>3</td>\n",
       "      <td>3</td>\n",
       "      <td>4moms</td>\n",
       "      <td>Consumer Durables</td>\n",
       "      <td>-</td>\n",
       "      <td>4moms</td>\n",
       "      <td>Consumer Durables</td>\n",
       "      <td>-</td>\n",
       "    </tr>\n",
       "    <tr>\n",
       "      <th>3</th>\n",
       "      <td>3</td>\n",
       "      <td>4</td>\n",
       "      <td>4</td>\n",
       "      <td>77 Bank</td>\n",
       "      <td>Regional Banks</td>\n",
       "      <td>1400</td>\n",
       "      <td>77 Bank</td>\n",
       "      <td>Regional Banks</td>\n",
       "      <td>1400</td>\n",
       "    </tr>\n",
       "    <tr>\n",
       "      <th>4</th>\n",
       "      <td>4</td>\n",
       "      <td>5</td>\n",
       "      <td>5</td>\n",
       "      <td>84 Lumber</td>\n",
       "      <td>Retailing</td>\n",
       "      <td>-</td>\n",
       "      <td>84 Lumber</td>\n",
       "      <td>Retailing</td>\n",
       "      <td>-</td>\n",
       "    </tr>\n",
       "  </tbody>\n",
       "</table>\n",
       "</div>"
      ],
      "text/plain": [
       "   _id  ltable_ID  rtable_ID ltable_Name      ltable_Industry  \\\n",
       "0    0          1          1    3i Group  Investment Services   \n",
       "1    1          2          2          3M        Conglomerates   \n",
       "2    2          3          3       4moms    Consumer Durables   \n",
       "3    3          4          4     77 Bank       Regional Banks   \n",
       "4    4          5          5   84 Lumber            Retailing   \n",
       "\n",
       "  ltable_MarketValue rtable_Name      rtable_Industry rtable_MarketValue  \n",
       "0               6700    3i Group  Investment Services               6700  \n",
       "1             102200          3M        Conglomerates             102200  \n",
       "2                  -       4moms    Consumer Durables                  -  \n",
       "3               1400     77 Bank       Regional Banks               1400  \n",
       "4                  -   84 Lumber            Retailing                  -  "
      ]
     },
     "execution_count": 13,
     "metadata": {},
     "output_type": "execute_result"
    }
   ],
   "source": [
    "## jz: not yet sure how to combine multiple occurrence of same companies, e.g. \"Zions Bancorp\" vs \"Zions Bancorp.\"\n",
    "AA = ob.block_tables(A, A, 'Name', 'Name', word_level=True, overlap_size=1, rem_stop_words=True,\n",
    "                    l_output_attrs=all_fields, \n",
    "                    r_output_attrs=all_fields,\n",
    "                    show_progress=False)\n",
    "print(len(AA))\n",
    "AA.head()"
   ]
  },
  {
   "cell_type": "code",
   "execution_count": 14,
   "metadata": {
    "collapsed": false,
    "deletable": true,
    "editable": true
   },
   "outputs": [
    {
     "name": "stdout",
     "output_type": "stream",
     "text": [
      "105490\n"
     ]
    },
    {
     "data": {
      "text/html": [
       "<div>\n",
       "<table border=\"1\" class=\"dataframe\">\n",
       "  <thead>\n",
       "    <tr style=\"text-align: right;\">\n",
       "      <th></th>\n",
       "      <th>_id</th>\n",
       "      <th>ltable_ID</th>\n",
       "      <th>rtable_ID</th>\n",
       "      <th>ltable_Name</th>\n",
       "      <th>ltable_Industry</th>\n",
       "      <th>ltable_MarketValue</th>\n",
       "      <th>rtable_Name</th>\n",
       "      <th>rtable_Industry</th>\n",
       "      <th>rtable_MarketValue</th>\n",
       "    </tr>\n",
       "  </thead>\n",
       "  <tbody>\n",
       "    <tr>\n",
       "      <th>0</th>\n",
       "      <td>0</td>\n",
       "      <td>1361</td>\n",
       "      <td>4</td>\n",
       "      <td>Huayi Brothers Media Corporation</td>\n",
       "      <td>-</td>\n",
       "      <td>5,661</td>\n",
       "      <td>1st Source Corporation</td>\n",
       "      <td>Major Banks</td>\n",
       "      <td>$1.22B</td>\n",
       "    </tr>\n",
       "    <tr>\n",
       "      <th>1</th>\n",
       "      <td>1</td>\n",
       "      <td>1489</td>\n",
       "      <td>4</td>\n",
       "      <td>J M Smith Corporation</td>\n",
       "      <td>Health Care Equipment &amp; Svcs</td>\n",
       "      <td>-</td>\n",
       "      <td>1st Source Corporation</td>\n",
       "      <td>Major Banks</td>\n",
       "      <td>$1.22B</td>\n",
       "    </tr>\n",
       "    <tr>\n",
       "      <th>2</th>\n",
       "      <td>2</td>\n",
       "      <td>211</td>\n",
       "      <td>4</td>\n",
       "      <td>Arctic Slope Regional Corporation</td>\n",
       "      <td>Multicompany</td>\n",
       "      <td>-</td>\n",
       "      <td>1st Source Corporation</td>\n",
       "      <td>Major Banks</td>\n",
       "      <td>$1.22B</td>\n",
       "    </tr>\n",
       "    <tr>\n",
       "      <th>3</th>\n",
       "      <td>3</td>\n",
       "      <td>772</td>\n",
       "      <td>4</td>\n",
       "      <td>Corporation Bank</td>\n",
       "      <td>Regional Banks</td>\n",
       "      <td>629</td>\n",
       "      <td>1st Source Corporation</td>\n",
       "      <td>Major Banks</td>\n",
       "      <td>$1.22B</td>\n",
       "    </tr>\n",
       "    <tr>\n",
       "      <th>4</th>\n",
       "      <td>4</td>\n",
       "      <td>261</td>\n",
       "      <td>4</td>\n",
       "      <td>Avant Credit Corporation</td>\n",
       "      <td>Banking</td>\n",
       "      <td>-</td>\n",
       "      <td>1st Source Corporation</td>\n",
       "      <td>Major Banks</td>\n",
       "      <td>$1.22B</td>\n",
       "    </tr>\n",
       "  </tbody>\n",
       "</table>\n",
       "</div>"
      ],
      "text/plain": [
       "   _id  ltable_ID  rtable_ID                        ltable_Name  \\\n",
       "0    0       1361          4   Huayi Brothers Media Corporation   \n",
       "1    1       1489          4              J M Smith Corporation   \n",
       "2    2        211          4  Arctic Slope Regional Corporation   \n",
       "3    3        772          4                   Corporation Bank   \n",
       "4    4        261          4           Avant Credit Corporation   \n",
       "\n",
       "                ltable_Industry ltable_MarketValue             rtable_Name  \\\n",
       "0                             -              5,661  1st Source Corporation   \n",
       "1  Health Care Equipment & Svcs                  -  1st Source Corporation   \n",
       "2                  Multicompany                  -  1st Source Corporation   \n",
       "3                Regional Banks                629  1st Source Corporation   \n",
       "4                       Banking                  -  1st Source Corporation   \n",
       "\n",
       "  rtable_Industry rtable_MarketValue  \n",
       "0     Major Banks             $1.22B  \n",
       "1     Major Banks             $1.22B  \n",
       "2     Major Banks             $1.22B  \n",
       "3     Major Banks             $1.22B  \n",
       "4     Major Banks             $1.22B  "
      ]
     },
     "execution_count": 14,
     "metadata": {},
     "output_type": "execute_result"
    }
   ],
   "source": [
    "# Specify the tokenization to be 'word' level and set overlap_size to be 3.\n",
    "C1 = ob.block_tables(A, B, 'Name', 'Name', word_level=True, overlap_size=1, rem_stop_words=True,\n",
    "                    l_output_attrs=all_fields, \n",
    "                    r_output_attrs=all_fields,\n",
    "                    show_progress=False)\n",
    "print(len(C1))\n",
    "# Display first 5 tuple pairs in the candidate set.\n",
    "C1.head()"
   ]
  },
  {
   "cell_type": "code",
   "execution_count": 15,
   "metadata": {
    "collapsed": true
   },
   "outputs": [],
   "source": [
    "# try out blocker over a single pair\n",
    "# ob.block_tuples(A.ix[60], B.ix[0], l_overlap_attr='Name', r_overlap_attr='Name',\n",
    "#                rem_stop_words=True, word_level=True, overlap_size=1)"
   ]
  },
  {
   "cell_type": "markdown",
   "metadata": {
    "collapsed": true,
    "deletable": true,
    "editable": true
   },
   "source": [
    "## comments on Magellan"
   ]
  },
  {
   "cell_type": "markdown",
   "metadata": {},
   "source": [
    "### bugs\n",
    "\n",
    "- A typo (missing \",\") at `In[6]` in the [overlap blocker Jupyter notebook](https://nbviewer.jupyter.org/github/anhaidgroup/py_entitymatching/blob/rel_0.1.x/notebooks/guides/step_wise_em_guides/Performing%20Blocking%20Using%20Built-In%20Blockers%20%28Overlap%20Blocker%29.ipynb) in the [stepwise guide](http://anhaidgroup.github.io/py_entitymatching/v0.1.x/singlepage.html#stepwise-guides)."
   ]
  },
  {
   "cell_type": "code",
   "execution_count": null,
   "metadata": {
    "collapsed": true
   },
   "outputs": [],
   "source": []
  }
 ],
 "metadata": {
  "kernelspec": {
   "display_name": "Python 3",
   "language": "python",
   "name": "python3"
  },
  "language_info": {
   "codemirror_mode": {
    "name": "ipython",
    "version": 3
   },
   "file_extension": ".py",
   "mimetype": "text/x-python",
   "name": "python",
   "nbconvert_exporter": "python",
   "pygments_lexer": "ipython3",
   "version": "3.5.3"
  }
 },
 "nbformat": 4,
 "nbformat_minor": 0
}
