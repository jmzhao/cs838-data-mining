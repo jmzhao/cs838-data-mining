{
 "cells": [
  {
   "cell_type": "markdown",
   "metadata": {
    "deletable": true,
    "editable": true
   },
   "source": [
    "# Stage 3 - Entity Mathcing "
   ]
  },
  {
   "cell_type": "code",
   "execution_count": 1,
   "metadata": {
    "collapsed": true,
    "deletable": true,
    "editable": true
   },
   "outputs": [],
   "source": [
    "from collections import Counter\n",
    "import os\n",
    "\n",
    "import matplotlib.pyplot as plt\n",
    "%matplotlib inline\n",
    "import numpy as np\n",
    "import pandas as pd\n",
    "\n",
    "import py_entitymatching as em\n",
    "\n",
    "IS_DEVELOPING = True\n",
    "\n",
    "data_dir = './dataset/structured_data/'\n",
    "A_filename = 'forbes_sample.csv' if IS_DEVELOPING else 'forbes_all.csv'\n",
    "B_filename = 'nasdaq_sample.csv' if IS_DEVELOPING else 'nasdaq.csv'\n",
    "blocked_filename = 'blocked_sample.csv' if IS_DEVELOPING else 'blocked.csv'\n",
    "\n",
    "all_fields = ['Name', 'Industry', 'MarketValue']"
   ]
  },
  {
   "cell_type": "markdown",
   "metadata": {
    "deletable": true,
    "editable": true
   },
   "source": [
    "## Blocking"
   ]
  },
  {
   "cell_type": "code",
   "execution_count": 2,
   "metadata": {
    "collapsed": false,
    "deletable": true,
    "editable": true
   },
   "outputs": [
    {
     "data": {
      "text/plain": [
       "True"
      ]
     },
     "execution_count": 2,
     "metadata": {},
     "output_type": "execute_result"
    }
   ],
   "source": [
    "A = pd.read_csv(data_dir + A_filename)\n",
    "em.set_key(A, 'id')\n",
    "B = pd.read_csv(data_dir + B_filename)\n",
    "em.set_key(B, 'id')"
   ]
  },
  {
   "cell_type": "markdown",
   "metadata": {
    "deletable": true,
    "editable": true
   },
   "source": [
    "Using overlap blocker."
   ]
  },
  {
   "cell_type": "code",
   "execution_count": 3,
   "metadata": {
    "collapsed": true,
    "deletable": true,
    "editable": true
   },
   "outputs": [],
   "source": [
    "ob = em.OverlapBlocker()"
   ]
  },
  {
   "cell_type": "markdown",
   "metadata": {
    "deletable": true,
    "editable": true
   },
   "source": [
    "Rule out common words."
   ]
  },
  {
   "cell_type": "code",
   "execution_count": 4,
   "metadata": {
    "collapsed": false,
    "deletable": true,
    "editable": true
   },
   "outputs": [
    {
     "name": "stdout",
     "output_type": "stream",
     "text": [
      "its, it, gas, electric, has, will, as, holdings, to, from, technology, at, energy, of, and, pharma, by, power, corp, property, group, with, advanced, be, the, therapeutics, bank, company, was, systems, securitymining, that, are, on, in, securities, a, an, for, corporation, oil, holding, plc, financial, technologies, inc, insurance, is, air, pharmaceuticals, bancorp, were, bancorporation, express, he\n"
     ]
    }
   ],
   "source": [
    "ob.stop_words.extend(w.lower() for w in [\n",
    "    'of',\n",
    "    'property', 'holdings', 'holding', 'inc', 'bancorp', 'Bancorporation', 'plc',\n",
    "    'Corporation', 'Corp', 'Group', 'Company',\n",
    "    'Advanced',\n",
    "    'Insurance', 'Bank', 'Financial', 'Pharmaceuticals', 'Pharma', 'Therapeutics',\n",
    "    'Systems', 'Technologies', 'Technology', 'Express', 'Air', 'Securities', 'Security'\n",
    "    'Mining', 'Energy', 'Electric', 'Gas', 'Oil', 'Power'])\n",
    "ob.stop_words = list(set(ob.stop_words))\n",
    "print(*ob.stop_words, sep=', ')"
   ]
  },
  {
   "cell_type": "code",
   "execution_count": 5,
   "metadata": {
    "collapsed": true,
    "deletable": true,
    "editable": true
   },
   "outputs": [],
   "source": [
    "## jz: not yet sure how to combine multiple occurrence of same companies, e.g. \"Zions Bancorp\" vs \"Zions Bancorp.\"\n",
    "# AA = ob.block_tables(A, A, 'Name', 'Name', word_level=True, overlap_size=1, rem_stop_words=True,\n",
    "#                     l_output_attrs=all_fields, \n",
    "#                     r_output_attrs=all_fields,\n",
    "#                     show_progress=False)\n",
    "# print(len(AA))\n",
    "# AA.head()"
   ]
  },
  {
   "cell_type": "code",
   "execution_count": 6,
   "metadata": {
    "collapsed": false,
    "deletable": true,
    "editable": true
   },
   "outputs": [
    {
     "name": "stdout",
     "output_type": "stream",
     "text": [
      "# pairs: 56\n"
     ]
    },
    {
     "data": {
      "text/html": [
       "<div>\n",
       "<table border=\"1\" class=\"dataframe\">\n",
       "  <thead>\n",
       "    <tr style=\"text-align: right;\">\n",
       "      <th></th>\n",
       "      <th>_id</th>\n",
       "      <th>ltable_id</th>\n",
       "      <th>rtable_id</th>\n",
       "      <th>ltable_Name</th>\n",
       "      <th>ltable_Industry</th>\n",
       "      <th>ltable_MarketValue</th>\n",
       "      <th>rtable_Name</th>\n",
       "      <th>rtable_Industry</th>\n",
       "      <th>rtable_MarketValue</th>\n",
       "    </tr>\n",
       "  </thead>\n",
       "  <tbody>\n",
       "    <tr>\n",
       "      <th>0</th>\n",
       "      <td>0</td>\n",
       "      <td>2</td>\n",
       "      <td>9</td>\n",
       "      <td>3M</td>\n",
       "      <td>Conglomerates</td>\n",
       "      <td>102200</td>\n",
       "      <td>3M Company</td>\n",
       "      <td>Medical/Dental Instruments</td>\n",
       "      <td>$111.73B</td>\n",
       "    </tr>\n",
       "    <tr>\n",
       "      <th>1</th>\n",
       "      <td>1</td>\n",
       "      <td>7</td>\n",
       "      <td>16</td>\n",
       "      <td>A. Schulman</td>\n",
       "      <td>Chemicals</td>\n",
       "      <td>798</td>\n",
       "      <td>A. Schulman, Inc.</td>\n",
       "      <td>Major Chemicals</td>\n",
       "      <td>$992.75M</td>\n",
       "    </tr>\n",
       "    <tr>\n",
       "      <th>2</th>\n",
       "      <td>2</td>\n",
       "      <td>11</td>\n",
       "      <td>24</td>\n",
       "      <td>ABB</td>\n",
       "      <td>Conglomerates</td>\n",
       "      <td>48100</td>\n",
       "      <td>ABB Ltd</td>\n",
       "      <td>Electrical Products</td>\n",
       "      <td>$48.17B</td>\n",
       "    </tr>\n",
       "    <tr>\n",
       "      <th>3</th>\n",
       "      <td>3</td>\n",
       "      <td>12</td>\n",
       "      <td>25</td>\n",
       "      <td>Abbott Laboratories</td>\n",
       "      <td>Pharmaceuticals</td>\n",
       "      <td>64900</td>\n",
       "      <td>Abbott Laboratories</td>\n",
       "      <td>Major Pharmaceuticals</td>\n",
       "      <td>$78.93B</td>\n",
       "    </tr>\n",
       "    <tr>\n",
       "      <th>4</th>\n",
       "      <td>4</td>\n",
       "      <td>13</td>\n",
       "      <td>26</td>\n",
       "      <td>AbbVie</td>\n",
       "      <td>Pharmaceuticals</td>\n",
       "      <td>99400</td>\n",
       "      <td>AbbVie Inc.</td>\n",
       "      <td>Major Pharmaceuticals</td>\n",
       "      <td>$98.97B</td>\n",
       "    </tr>\n",
       "  </tbody>\n",
       "</table>\n",
       "</div>"
      ],
      "text/plain": [
       "   _id  ltable_id  rtable_id          ltable_Name  ltable_Industry  \\\n",
       "0    0          2          9                   3M    Conglomerates   \n",
       "1    1          7         16          A. Schulman        Chemicals   \n",
       "2    2         11         24                  ABB    Conglomerates   \n",
       "3    3         12         25  Abbott Laboratories  Pharmaceuticals   \n",
       "4    4         13         26               AbbVie  Pharmaceuticals   \n",
       "\n",
       "  ltable_MarketValue          rtable_Name             rtable_Industry  \\\n",
       "0             102200           3M Company  Medical/Dental Instruments   \n",
       "1               798     A. Schulman, Inc.             Major Chemicals   \n",
       "2              48100              ABB Ltd         Electrical Products   \n",
       "3              64900  Abbott Laboratories       Major Pharmaceuticals   \n",
       "4              99400          AbbVie Inc.       Major Pharmaceuticals   \n",
       "\n",
       "  rtable_MarketValue  \n",
       "0           $111.73B  \n",
       "1           $992.75M  \n",
       "2            $48.17B  \n",
       "3            $78.93B  \n",
       "4            $98.97B  "
      ]
     },
     "execution_count": 6,
     "metadata": {},
     "output_type": "execute_result"
    }
   ],
   "source": [
    "# Specify the tokenization to be 'word' level and set overlap_size to be 3.\n",
    "blocked = ob.block_tables(A, B, 'Name', 'Name', word_level=True, overlap_size=1, rem_stop_words=True,\n",
    "                    l_output_attrs=all_fields, \n",
    "                    r_output_attrs=all_fields,\n",
    "                    show_progress=False)\n",
    "print('# pairs:', len(blocked))\n",
    "# Display first 5 tuple pairs in the candidate set.\n",
    "blocked.head()"
   ]
  },
  {
   "cell_type": "code",
   "execution_count": 7,
   "metadata": {
    "collapsed": true,
    "deletable": true,
    "editable": true
   },
   "outputs": [],
   "source": [
    "# try out blocker over a single pair\n",
    "# ob.block_tuples(A.ix[60], B.ix[0], l_overlap_attr='Name', r_overlap_attr='Name',\n",
    "#                rem_stop_words=True, word_level=True, overlap_size=1)"
   ]
  },
  {
   "cell_type": "code",
   "execution_count": 8,
   "metadata": {
    "collapsed": false,
    "deletable": true,
    "editable": true
   },
   "outputs": [],
   "source": [
    "## debug and improve the blocker\n",
    "## This may take some trial and run..."
   ]
  },
  {
   "cell_type": "code",
   "execution_count": null,
   "metadata": {
    "collapsed": true,
    "deletable": true,
    "editable": true
   },
   "outputs": [],
   "source": []
  },
  {
   "cell_type": "markdown",
   "metadata": {
    "deletable": true,
    "editable": true
   },
   "source": [
    "Finally save the results from blocking step."
   ]
  },
  {
   "cell_type": "code",
   "execution_count": 9,
   "metadata": {
    "collapsed": true,
    "deletable": true,
    "editable": true
   },
   "outputs": [],
   "source": [
    "blocked.to_csv(data_dir + blocked_filename)"
   ]
  },
  {
   "cell_type": "code",
   "execution_count": null,
   "metadata": {
    "collapsed": true,
    "deletable": true,
    "editable": true
   },
   "outputs": [],
   "source": []
  }
 ],
 "metadata": {
  "kernelspec": {
   "display_name": "Python 3",
   "language": "python",
   "name": "python3"
  },
  "language_info": {
   "codemirror_mode": {
    "name": "ipython",
    "version": 3
   },
   "file_extension": ".py",
   "mimetype": "text/x-python",
   "name": "python",
   "nbconvert_exporter": "python",
   "pygments_lexer": "ipython3",
   "version": "3.5.3"
  }
 },
 "nbformat": 4,
 "nbformat_minor": 2
}
